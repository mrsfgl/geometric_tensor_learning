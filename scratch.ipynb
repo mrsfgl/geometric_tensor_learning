{
 "cells": [
  {
   "cell_type": "markdown",
   "metadata": {},
   "source": [
    "# Geometric Tensor Learning\n",
    "---"
   ]
  },
  {
   "cell_type": "code",
   "execution_count": 1,
   "metadata": {},
   "outputs": [],
   "source": [
    "import numpy as np\n",
    "import numpy.ma as ma\n",
    "import matplotlib.pyplot as plt\n",
    "\n",
    "import networkx as nx\n",
    "\n",
    "from util.t2m import t2m\n",
    "from util.m2t import m2t\n",
    "from util.update_L_nograd import update_L\n",
    "from util.update_X_nograd import update_X\n",
    "from util.update_Sigma import update_Sigma\n",
    "from util.update_Lambda_nograd import update_Lambda\n",
    "from util.update_L_nograd import fn_val as fnval_L\n",
    "from util.update_X_nograd import fn_val as fnval_X"
   ]
  },
  {
   "cell_type": "code",
   "execution_count": 2,
   "metadata": {},
   "outputs": [],
   "source": [
    "def fn_val_G(G, L, Lambda, alpha, gamma):\n",
    "    n = len(G)\n",
    "    val_smooth = [gamma[i]*np.trace(t2m(G[i],i).transpose() @ Phi[i] @ t2m(G[i],i)) for i in range(i)]\n",
    "    val_Lag = [alpha[i]*np.linalg.norm(L-G[i]-Lambda[i])**2 for i in range(n)]\n",
    "    fn_val = sum(val_smooth) + sum(val_Lag)\n",
    "    return fn_val, val_smooth, val_Lag\n",
    "\n",
    "def fn_val_L(L, Y, Lx, G, Lambda, alpha):\n",
    "    n = len(L.shape)\n",
    "    val_Y = np.linalg.norm(Y[~Y.mask]-L[~Y.mask])**2\n",
    "    val_Lag1 = [alpha[0][i]*np.linalg.norm(L-G[i]-Lambda[0][i])**2 for i in range(n)]\n",
    "    val_Lag2 = [alpha[1][i]*np.linalg.norm(L-Lx[i]-Lambda[1][i])**2 for i in range(n)]\n",
    "    fn_val = val_Y + sum(val_Lag1) + sum(val_Lag2)\n",
    "    return fn_val, val_Y, val_Lag1, val_Lag2"
   ]
  },
  {
   "cell_type": "code",
   "execution_count": 3,
   "metadata": {},
   "outputs": [],
   "source": [
    "sizes = (10, 15, 12, 16)\n",
    "n = len(sizes)"
   ]
  },
  {
   "cell_type": "code",
   "execution_count": 4,
   "metadata": {},
   "outputs": [],
   "source": [
    "X = np.random.standard_normal(size=sizes) # WGN to generate a stationary signal."
   ]
  },
  {
   "cell_type": "code",
   "execution_count": 5,
   "metadata": {},
   "outputs": [],
   "source": [
    "G = [nx.erdos_renyi_graph(sizes[i],0.3) for i in range(n)] # List of graphs for each mode\n",
    "Phi = [nx.laplacian_matrix(G[i]).todense() for i in range(n)]\n"
   ]
  },
  {
   "cell_type": "code",
   "execution_count": 6,
   "metadata": {},
   "outputs": [],
   "source": [
    "# Generate data smooth in Cartesian graph G.\n",
    "ranks = (5, 5, 5, 5)\n",
    "W_all = 1\n",
    "V_all = 1\n",
    "\n",
    "for i in range(n):\n",
    "    W, V = np.linalg.eigh(nx.laplacian_matrix(G[i]).todense())\n",
    "    temp_eig = np.flip(np.sort(abs(np.random.randn(ranks[i]))))\n",
    "    W_all = np.kron(np.ones(ranks[i]), W_all) + np.kron(temp_eig,np.ones(ranks[:i]).flatten('F'))\n",
    "    V_all = np.kron(V_all, V[:,:ranks[i]])\n",
    "\n",
    "X_smooth = np.tensordot(V_all, W_all, axes=([1],[0])).reshape(sizes)\n",
    "del W_all, V_all"
   ]
  },
  {
   "cell_type": "code",
   "execution_count": 7,
   "metadata": {},
   "outputs": [],
   "source": [
    "noise_ratio = 0.01\n",
    "missing_ratio = 0\n",
    "norm_X = np.sqrt(np.sum(X_smooth**2))\n",
    "mask = np.random.uniform(size=np.prod(sizes)).reshape(sizes)-missing_ratio<0\n",
    "Y = ma.array(X_smooth + noise_ratio * np.sqrt(norm_X) * np.random.standard_normal(sizes), mask = mask)"
   ]
  },
  {
   "cell_type": "code",
   "execution_count": 17,
   "metadata": {},
   "outputs": [],
   "source": [
    "def initialize_nograd(n):\n",
    "    # Parameters\n",
    "    alpha = [[.01 for i in range(n)], \n",
    "        [.01 for i in range(n)], \n",
    "        [.01 for i in range(n)], \n",
    "        [.01 for i in range(n)]]\n",
    "    theta = [10**-4 for i in range(n)]\n",
    "    gamma = [.01 for i in range(n)]\n",
    "\n",
    "    # Initializations\n",
    "    L = np.zeros(sizes)\n",
    "    G_var = [np.zeros(sizes) for i in range(n)]\n",
    "    X = [np.zeros(sizes) for i in range(n)]\n",
    "    Lx = [np.zeros(sizes) for i in range(n)]\n",
    "    Sigma = []\n",
    "    for i in range(n):\n",
    "        temp = np.random.standard_normal(sizes[i]**2).reshape([sizes[i], sizes[i]])\n",
    "        Sigma.append(temp@temp.transpose())\n",
    "\n",
    "    Lambda = [[np.zeros(sizes) for i in range(n)],\n",
    "        [np.zeros(sizes) for i in range(n)],\n",
    "        [np.zeros(sizes) for i in range(n)],\n",
    "        [np.zeros([sizes[i],sizes[i]]) for i in range(n)]]\n",
    "    \n",
    "    return L, G_var, Lx, X, Sigma, Lambda, alpha, theta, gamma\n",
    "\n",
    "L, G_var, Lx, X, Sigma, Lambda, alpha, theta, gamma = initialize_nograd(n)"
   ]
  },
  {
   "cell_type": "code",
   "execution_count": 18,
   "metadata": {},
   "outputs": [
    {
     "name": "stdout",
     "output_type": "stream",
     "text": [
      "Function value for variable L: 15125.06432595132\n",
      "Function value for variable L after update: 1120.3751352556533\n",
      "Function value for variable G: 518.6921922479876\n",
      "Function value for variable G after update: 184.4311612628396\n",
      "Function value for variable Lx before update: 734.1272849778918\n",
      "Function value for variable Lx after update: 474.7811888538981\n",
      "Function value for variable X before update: 129.6730480619969\n",
      "Function value for variable X after update: 29.145396264619162\n",
      "Total Objective Function Value at iter 0: 955.1542133738562\n",
      "Function value for variable L: 2641.8601426888126\n",
      "Function value for variable L after update: 2628.7197764983757\n",
      "Function value for variable G: 515.0685101618277\n",
      "Function value for variable G after update: 447.8901681006661\n",
      "Function value for variable Lx before update: 2487.8356879470757\n",
      "Function value for variable Lx after update: 576641272230123.5\n",
      "Function value for variable X before update: 0.0\n",
      "Function value for variable X after update: 0.0\n",
      "Total Objective Function Value at iter 1: 4337175.041025217\n",
      "Function value for variable L: 5158.097986545356\n",
      "Function value for variable L after update: 5135.2290099192\n",
      "Function value for variable G: 669.6399628110361\n",
      "Function value for variable G after update: 643.3956838432863\n",
      "Function value for variable Lx before update: 4377.303201471482\n",
      "Function value for variable Lx after update: 107963401.51120143\n",
      "Function value for variable X before update: 0.0\n",
      "Function value for variable X after update: 0.0\n",
      "Total Objective Function Value at iter 2: 2982.705560956567\n",
      "Function value for variable L: 8448.72909919367\n",
      "Function value for variable L after update: 8429.915052645598\n",
      "Function value for variable G: 773.6322438277573\n",
      "Function value for variable G after update: 763.4942472785015\n",
      "Function value for variable Lx before update: 7439.31030736449\n"
     ]
    }
   ],
   "source": [
    "G_inv = [np.linalg.inv(gamma[i]*Phi[i] + alpha[0][i]*np.eye(sizes[i])) for i in range(n)]\n",
    "iter = 0\n",
    "fval_tot = []\n",
    "# ADMM Loop\n",
    "while True:\n",
    "    # L Update\n",
    "    temp = np.zeros(sizes)\n",
    "    for i in range(n):\n",
    "        temp += alpha[1][i]*(G_var[i] + Lambda[0][i])\n",
    "        temp += alpha[2][i]*(Lx[i] + Lambda[1][i])\n",
    "    \n",
    "    print(\"Function value for variable L: {}\".format(fn_val_L(L, Y, Lx, G_var, Lambda[:2], alpha[:2])[0]))\n",
    "    L = temp/(sum(alpha[0]) + sum(alpha[1]) + 1)\n",
    "    L[~Y.mask] = L[~Y.mask] + Y[~Y.mask]/(sum(alpha[0]) + sum(alpha[1]) + 1)\n",
    "    fval_data = fn_val_L(L, Y, Lx, G_var, Lambda[:2], alpha[:2])\n",
    "    print(\"Function value for variable L after update: {}\".format(fval_data[0]))\n",
    "    \n",
    "    # G Update\n",
    "    print(\"Function value for variable G: {}\".format(fn_val_G(G_var, L, Lambda[0], alpha[0], gamma)[0]))\n",
    "    G_var = [m2t(alpha[0][i]*G_inv[i]*t2m(L-Lambda[0][i], i), sizes, i) for i in range(n)]\n",
    "    fval_G = fn_val_G(G_var, L, Lambda[0], alpha[0], gamma)\n",
    "    print(\"Function value for variable G after update: {}\".format(fval_G[0]))\n",
    "\n",
    "    # Lx Update\n",
    "    print(\"Function value for variable Lx before update: {}\".format(fnval_L(Lx, L, X, Lambda[1:], Sigma, alpha[1:])[0]))\n",
    "    Lx, fval_L, fval_low, _, _ = update_L(Lx, L, X, Lambda[1:], Sigma, alpha[1:], track_fval=True)\n",
    "    print(\"Function value for variable Lx after update: {}\".format(fval_L))\n",
    "\n",
    "    # X Update\n",
    "    print(\"Function value for variable X before update: {}\".format(sum(fnval_X(X,Lx,Lambda[2:],Sigma,alpha[2:])[1])))\n",
    "    X, _, fval_X, _ = update_X(X, Lx, Lambda[2:], Sigma, alpha[2:], track_fval=True)\n",
    "    print(\"Function value for variable X after update: {}\".format(sum(fval_X)))\n",
    "\n",
    "    # Sigma Update \n",
    "    Sigma, fval_Sigma, _, _ = update_Sigma(Sigma, Lx, X, Phi, Lambda[3], alpha[3], theta, track_fval=True)\n",
    "    \n",
    "    fval_tot.append(fval_data[1] + fval_G[0] + sum(fval_low) + sum(fval_X) + fval_Sigma)\n",
    "    print('Total Objective Function Value at iter {}: {}'.format(iter, fval_tot[-1]))\n",
    "    # Dual Update\n",
    "    Lambda = update_Lambda(Lambda,L,Lx,X,G_var,Sigma)[0]\n",
    "    iter += 1\n",
    "    if iter%10==9:\n",
    "        break"
   ]
  },
  {
   "cell_type": "code",
   "execution_count": 10,
   "metadata": {},
   "outputs": [
    {
     "data": {
      "text/plain": [
       "[<matplotlib.lines.Line2D at 0x22da28ff6d0>]"
      ]
     },
     "execution_count": 10,
     "metadata": {},
     "output_type": "execute_result"
    },
    {
     "data": {
      "image/png": "[encoded data removed]",
      "text/plain": [
       "<Figure size 432x288 with 1 Axes>"
      ]
     },
     "metadata": {
      "needs_background": "light"
     },
     "output_type": "display_data"
    }
   ],
   "source": [
    "plt.plot(fval_tot)"
   ]
  },
  {
   "cell_type": "code",
   "execution_count": 11,
   "metadata": {},
   "outputs": [],
   "source": [
    "\n",
    "temp = np.zeros(sizes)\n",
    "for i in range(n):\n",
    "    temp += alpha[1][i]*(Lambda[0][i])\n",
    "    temp += alpha[2][i]*(Lambda[1][i])"
   ]
  },
  {
   "cell_type": "code",
   "execution_count": 12,
   "metadata": {},
   "outputs": [
    {
     "data": {
      "text/plain": [
       "38.81003440168442"
      ]
     },
     "execution_count": 12,
     "metadata": {},
     "output_type": "execute_result"
    }
   ],
   "source": [
    "np.linalg.norm(Y-L)"
   ]
  },
  {
   "cell_type": "code",
   "execution_count": null,
   "metadata": {},
   "outputs": [],
   "source": []
  }
 ],
 "metadata": {
  "interpreter": {
   "hash": "a31061215d61cc9664fbbf891d1f871c44572af5775a986a0146f7ff7de68731"
  },
  "kernelspec": {
   "display_name": "Python 3.9.7 64-bit ('base': conda)",
   "language": "python",
   "name": "python3"
  },
  "language_info": {
   "codemirror_mode": {
    "name": "ipython",
    "version": 3
   },
   "file_extension": ".py",
   "mimetype": "text/x-python",
   "name": "python",
   "nbconvert_exporter": "python",
   "pygments_lexer": "ipython3",
   "version": "3.9.7"
  },
  "orig_nbformat": 4
 },
 "nbformat": 4,
 "nbformat_minor": 2
}
