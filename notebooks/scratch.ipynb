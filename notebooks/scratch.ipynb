{
 "cells": [
  {
   "cell_type": "markdown",
   "metadata": {},
   "source": [
    "# Geometric Tensor Learning\n",
    "---"
   ]
  },
  {
   "cell_type": "code",
   "execution_count": 1,
   "metadata": {},
   "outputs": [],
   "source": [
    "import numpy as np\n",
    "import numpy.ma as ma\n",
    "from numpy.linalg import norm\n",
    "import matplotlib.pyplot as plt\n",
    "import networkx as nx\n",
    "\n",
    "import project_path\n",
    "\n",
    "from util.t2m import t2m\n",
    "from util.m2t import m2t\n",
    "from util.update_L_nograd import update_L\n",
    "from util.update_L_nograd import fn_val as fnval_L\n",
    "from util.update_X_nograd import update_X\n",
    "from util.update_X_nograd import fn_val as fnval_X\n",
    "from util.update_Sigma import update_Sigma\n",
    "from util.update_Lambda_nograd import update_Lambda\n",
    "from util.update_Sigma import fn_val as fnval_Sigma\n",
    "from util.generate_data import generate_syn_data\n",
    "from util.contaminate_data import contaminate_signal\n",
    "from util.fn_vals import fn_val_L\n",
    "from util.fn_vals import fn_val_G"
   ]
  },
  {
   "cell_type": "code",
   "execution_count": 2,
   "metadata": {},
   "outputs": [],
   "source": [
    "sizes = (10,10,10,10)\n",
    "ranks = (3,3,3,3)\n",
    "n = len(sizes)"
   ]
  },
  {
   "cell_type": "markdown",
   "metadata": {},
   "source": [
    "## Generate Graphs\n",
    "In this part, we create Erdos-Renyi graphs for each mode."
   ]
  },
  {
   "cell_type": "code",
   "execution_count": 3,
   "metadata": {},
   "outputs": [],
   "source": [
    "G = [nx.erdos_renyi_graph(sizes[i], np.log(sizes[i])/sizes[i]) for i in range(n)] # List of graphs for each mode\n",
    "Phi = [nx.laplacian_matrix(G[i]).todense() for i in range(n)]\n"
   ]
  },
  {
   "cell_type": "code",
   "execution_count": 4,
   "metadata": {},
   "outputs": [],
   "source": [
    "def graph_filter(Lambda, filter_length=3):\n",
    "    ''' Graph filter generating the graph stationary data.\n",
    "    '''\n",
    "    h = np.random.rand(filter_length)\n",
    "    return sum(h[i]**i*Lambda**i for i in range(filter_length))"
   ]
  },
  {
   "cell_type": "markdown",
   "metadata": {},
   "source": [
    "## Data Generation Methods\n",
    "\n",
    "In this part, we try to generate data smooth and stationary on the product graph."
   ]
  },
  {
   "cell_type": "code",
   "execution_count": 5,
   "metadata": {},
   "outputs": [],
   "source": [
    "# # Generate data by sampling using covariances of each mode generated with graph filters H.\n",
    "# covs = []\n",
    "# X_smooth = np.zeros(sizes)\n",
    "# for i in range(n):\n",
    "#     W, V = np.linalg.eigh(Phi[i])\n",
    "#     eigs = graph_filter(W)\n",
    "#     H = V@np.diag(eigs)@V.transpose()\n",
    "#     covs.append(H @ H)\n",
    "\n",
    "#     col_inds = np.setdiff1d(np.arange(n), 1)\n",
    "#     sz = np.array(sizes)\n",
    "#     sz_cols = np.prod(sz[col_inds])\n",
    "#     mean_temp = np.zeros(Phi[i].shape[0])\n",
    "#     Xmat = np.random.multivariate_normal(mean_temp, covs[i], sz_cols).transpose()\n",
    "#     X_smooth = X_smooth + m2t(Xmat, sizes, i)"
   ]
  },
  {
   "cell_type": "code",
   "execution_count": 6,
   "metadata": {},
   "outputs": [],
   "source": [
    "## Generate data by multiplying the graph filter with white Gaussian noise.\n",
    "# X_smooth = generate_syn_data(sizes, ranks)\n",
    "# V_all = 1\n",
    "\n",
    "# covs = []\n",
    "# X_smooth = np.zeros(sizes)\n",
    "# for i in range(n):\n",
    "#     W, V = np.linalg.eigh(Phi[i])\n",
    "#     if not(i):\n",
    "#         W_all = W\n",
    "#     else:\n",
    "#         W_all = np.kron(np.ones(W.size), W_all) + np.kron(W,np.ones(W_all.size).flatten('F'))\n",
    "#     V_all = np.kron(V_all, V)\n",
    "\n",
    "# X_stat = np.tensordot(H, np.random.randn(H.shape[1]), axes=([1],[0])).reshape(sizes)\n",
    "# del W_all, V_all, H, eigs\n"
   ]
  },
  {
   "cell_type": "code",
   "execution_count": 7,
   "metadata": {},
   "outputs": [
    {
     "name": "stdout",
     "output_type": "stream",
     "text": [
      "[0.00000000e+00 0.00000000e+00 1.31249687e-16 5.85786438e-01\n",
      " 1.06814835e+00 2.00000000e+00 2.48236191e+00 3.41421356e+00\n",
      " 3.51763809e+00 4.93185165e+00]\n",
      "[ 0.00000000e+00 -6.49273416e-17  4.25261212e-01  7.62395720e-01\n",
      "  1.00000000e+00  1.46494510e+00  2.59988610e+00  3.57653843e+00\n",
      "  3.89879885e+00  6.27217460e+00]\n",
      "[0.         0.         0.         1.43844719 1.71175439 3.\n",
      " 3.12596795 4.87403205 5.56155281 6.28824561]\n",
      "[1.69472632e-16 2.82907309e-01 6.26190015e-01 1.00000000e+00\n",
      " 1.00000000e+00 1.64679986e+00 2.31371322e+00 2.75466473e+00\n",
      " 5.03518655e+00 5.34053832e+00]\n"
     ]
    }
   ],
   "source": [
    "## Generate data by multiplying the eigenvectors of the Graph Laplacian\n",
    "# with i.i.d. Gaussian noise with variance given by the eigenvalues of the Laplacian.\n",
    "\n",
    "V = []\n",
    "for i in range(n):\n",
    "    w, temp_v = np.linalg.eig(Phi[i])\n",
    "    ind = np.argsort(abs(w))\n",
    "    print(w[ind])\n",
    "    V.append(temp_v[:,ind])\n",
    "    if not(i):\n",
    "        W_all = w[ind]\n",
    "    else:\n",
    "        W_all = np.kron(np.ones(w.size), W_all) + np.kron(w[ind],np.ones(W_all.size).flatten('F'))\n",
    "\n",
    "C = np.random.randn(np.prod(sizes))\n",
    "C[W_all<1e-8] = 0\n",
    "C[W_all>1e-8] = C[W_all>1e-8] / W_all[W_all>1e-8]\n",
    "C = C.reshape(sizes)\n",
    "\n",
    "# C = W_all.reshape(sizes)**-1\n",
    "X_smooth = C.copy()\n",
    "for i in range(n):\n",
    "    X_smooth = m2t(V[i]*t2m(X_smooth,i), sizes, i)"
   ]
  },
  {
   "cell_type": "markdown",
   "metadata": {},
   "source": [
    "Let's see how smooth the data is compared to a random signal with similar Frobenius norm."
   ]
  },
  {
   "cell_type": "code",
   "execution_count": 8,
   "metadata": {},
   "outputs": [
    {
     "name": "stdout",
     "output_type": "stream",
     "text": [
      "At mode 0 the smoothness for X is: 3.91e+02, while for a random signal with same frobenius norm it is: 1.39e+03 \n",
      "At mode 1 the smoothness for X is: 3.65e+02, while for a random signal with same frobenius norm it is: 1.58e+03 \n",
      "At mode 2 the smoothness for X is: 5.72e+02, while for a random signal with same frobenius norm it is: 2.04e+03 \n",
      "At mode 3 the smoothness for X is: 5.70e+02, while for a random signal with same frobenius norm it is: 1.56e+03 \n"
     ]
    }
   ],
   "source": [
    "random_signal = np.random.randn(X_smooth.size).reshape(sizes)\n",
    "random_signal = random_signal * norm(X_smooth)/norm(random_signal)\n",
    "for i in range(n):\n",
    "    x_smooth_val = np.trace(t2m(X_smooth,i).transpose()@Phi[i]@t2m(X_smooth,i))\n",
    "    rand_smooth_val = np.trace(t2m(random_signal,i).transpose()@Phi[i]@t2m(random_signal,i))\n",
    "    print('At mode {:.0f} the smoothness for X is: {:.2e}, while for a random signal with same frobenius norm it is: {:.2e} '.format(i,x_smooth_val, rand_smooth_val))\n",
    "    "
   ]
  },
  {
   "cell_type": "code",
   "execution_count": 9,
   "metadata": {},
   "outputs": [
    {
     "data": {
      "text/plain": [
       "[<matplotlib.lines.Line2D at 0x273241c5d90>]"
      ]
     },
     "execution_count": 9,
     "metadata": {},
     "output_type": "execute_result"
    },
    {
     "data": {
      "image/png": "[encoded data removed]",
      "text/plain": [
       "<Figure size 432x288 with 1 Axes>"
      ]
     },
     "metadata": {
      "needs_background": "light"
     },
     "output_type": "display_data"
    }
   ],
   "source": [
    "plt.semilogy(abs(C.ravel()))"
   ]
  },
  {
   "cell_type": "markdown",
   "metadata": {},
   "source": [
    "Let's see how stationarity looks like."
   ]
  },
  {
   "cell_type": "code",
   "execution_count": 10,
   "metadata": {},
   "outputs": [
    {
     "data": {
      "image/png": "[encoded data removed]",
      "text/plain": [
       "<Figure size 432x288 with 2 Axes>"
      ]
     },
     "metadata": {
      "needs_background": "light"
     },
     "output_type": "display_data"
    },
    {
     "data": {
      "image/png": "[encoded data removed]",
      "text/plain": [
       "<Figure size 432x288 with 2 Axes>"
      ]
     },
     "metadata": {
      "needs_background": "light"
     },
     "output_type": "display_data"
    },
    {
     "data": {
      "image/png": "[encoded data removed]",
      "text/plain": [
       "<Figure size 432x288 with 2 Axes>"
      ]
     },
     "metadata": {
      "needs_background": "light"
     },
     "output_type": "display_data"
    },
    {
     "data": {
      "image/png": "[encoded data removed]",
      "text/plain": [
       "<Figure size 432x288 with 2 Axes>"
      ]
     },
     "metadata": {
      "needs_background": "light"
     },
     "output_type": "display_data"
    }
   ],
   "source": [
    "for i in range(n):\n",
    "    P_X = V[i].transpose()@t2m(X_smooth,i)\n",
    "    psd = P_X@P_X.transpose()\n",
    "    plt.imshow(np.log10(abs(psd)))\n",
    "    plt.colorbar()\n",
    "    plt.show()"
   ]
  },
  {
   "cell_type": "markdown",
   "metadata": {},
   "source": [
    "Cartesian graph eigenvalues."
   ]
  },
  {
   "cell_type": "code",
   "execution_count": 11,
   "metadata": {},
   "outputs": [
    {
     "data": {
      "image/png": "[encoded data removed]",
      "text/plain": [
       "<Figure size 432x288 with 1 Axes>"
      ]
     },
     "metadata": {
      "needs_background": "light"
     },
     "output_type": "display_data"
    }
   ],
   "source": [
    "plt.plot(W_all)\n",
    "plt.show()"
   ]
  },
  {
   "cell_type": "markdown",
   "metadata": {},
   "source": [
    "## The Algorithm\n",
    "\n",
    "In below, we add noise to data and run our algorithm to recover the original signal back."
   ]
  },
  {
   "cell_type": "code",
   "execution_count": 32,
   "metadata": {},
   "outputs": [],
   "source": [
    "def initialize_nograd(n, sizes):\n",
    "    # Parameters\n",
    "    alpha = [[10**-1 for i in range(n)], \n",
    "        [10**-1 for i in range(n)], \n",
    "        [10**-1 for i in range(n)], \n",
    "        [10**-4 for i in range(n)]]\n",
    "    theta = [10**-5 for i in range(n)]\n",
    "    gamma = [10**-0.2 for i in range(n)]\n",
    "\n",
    "    # Initializations\n",
    "    L = np.zeros(sizes)\n",
    "    G_var = [np.zeros(sizes) for i in range(n)]\n",
    "    X = [np.zeros(sizes) for i in range(n)]\n",
    "    Lx = [np.zeros(sizes) for i in range(n)]\n",
    "    Sigma = []\n",
    "    for i in range(n):\n",
    "        temp = np.random.standard_normal(sizes[i]**2).reshape([sizes[i], sizes[i]])\n",
    "        Sigma.append(temp@temp.transpose())\n",
    "\n",
    "    Lambda = [[np.zeros(sizes) for i in range(n)],\n",
    "        [np.zeros(sizes) for i in range(n)],\n",
    "        [np.zeros(sizes) for i in range(n)],\n",
    "        [np.zeros([sizes[i],sizes[i]]) for i in range(n)]]\n",
    "    \n",
    "    return L, G_var, Lx, X, Sigma, Lambda, alpha, theta, gamma"
   ]
  },
  {
   "cell_type": "code",
   "execution_count": 33,
   "metadata": {},
   "outputs": [],
   "source": [
    "L, G_var, Lx, X, Sigma, Lambda, alpha, theta, gamma = initialize_nograd(n, sizes)"
   ]
  },
  {
   "cell_type": "code",
   "execution_count": 51,
   "metadata": {},
   "outputs": [],
   "source": [
    "# Contaminate data.\n",
    "Y = contaminate_signal(X_smooth, target_SNR=0)"
   ]
  },
  {
   "cell_type": "code",
   "execution_count": 52,
   "metadata": {},
   "outputs": [
    {
     "name": "stdout",
     "output_type": "stream",
     "text": [
      "Ratio is (Y/X): 4.688898\n",
      "Ratio is (Y/X): 5.360561\n",
      "Ratio is (Y/X): 4.531264\n",
      "Ratio is (Y/X): 3.749720\n"
     ]
    }
   ],
   "source": [
    "for i in range(n):\n",
    "    x_smooth_val = np.trace(t2m(Y.data,i).transpose()@Phi[i]@t2m(Y.data,i))\n",
    "    l_smooth_val = np.trace(t2m(X_smooth,i).transpose()@Phi[i]@t2m(X_smooth,i))\n",
    "    print('Ratio is (Y/X): {:.6f}'.format(x_smooth_val/l_smooth_val))"
   ]
  },
  {
   "cell_type": "code",
   "execution_count": 53,
   "metadata": {},
   "outputs": [
    {
     "name": "stdout",
     "output_type": "stream",
     "text": [
      "Error value of original signal: 7.9e+02\n",
      "Smoothness value of original signal: 1.2e+03\n",
      "Commutivity value of original signal: 3.2e-01\n"
     ]
    }
   ],
   "source": [
    "# Function value for original X\n",
    "X_rep = [X_smooth for i in range(n)]\n",
    "err_orig = fn_val_L(X_smooth, Y, Lx, G_var, Lambda[:2], alpha[:2])[1]\n",
    "smooth_orig = fn_val_G(X_rep, X_smooth, Phi, Lambda[0], alpha[0], gamma)[1]\n",
    "x_sigma = [t2m(X_smooth,i)@t2m(X_smooth,i).transpose() for i in range(n)]\n",
    "comm_orig = fnval_Sigma(x_sigma, Lx, X, Phi, Lambda[3], alpha[3], theta)[1]\n",
    "\n",
    "print('Error value of original signal: {:.1e}'.format(err_orig))\n",
    "print('Smoothness value of original signal: {:.1e}'.format(sum(smooth_orig)))\n",
    "print('Commutivity value of original signal: {:.1e}'.format(sum(comm_orig)))"
   ]
  },
  {
   "cell_type": "code",
   "execution_count": 54,
   "metadata": {},
   "outputs": [
    {
     "name": "stdout",
     "output_type": "stream",
     "text": [
      "Objective function changes for L: -9.79e+02, G: -6.48e+01, Lx: -1.09e+02, X: -5.42e+01, Sigma: -8.67e-02\n",
      "Total Objective Function Value at iter 0: 4.097e+03\n",
      "Objective function changes for L: -1.50e+01, G: -9.00e+00, Lx: -9.03e+01, X: -4.54e+01, Sigma: -2.45e+00\n",
      "Total Objective Function Value at iter 1: 3.697e+03\n",
      "Objective function changes for L: -8.80e-01, G: -6.63e+00, Lx: -1.66e+01, X: -1.13e+01, Sigma: -1.26e+00\n",
      "Total Objective Function Value at iter 2: 3.460e+03\n",
      "Objective function changes for L: -1.31e+00, G: -5.08e+00, Lx: -1.18e+00, X: -6.98e-01, Sigma: -6.33e-02\n",
      "Total Objective Function Value at iter 3: 3.395e+03\n",
      "Objective function changes for L: -2.98e+00, G: -3.49e+00, Lx: -7.82e+00, X: -4.72e+00, Sigma: -4.99e-01\n",
      "Total Objective Function Value at iter 4: 3.449e+03\n",
      "Objective function changes for L: -6.31e+00, G: -2.27e+00, Lx: -1.36e+01, X: -8.01e+00, Sigma: -6.88e-01\n",
      "Total Objective Function Value at iter 5: 3.563e+03\n",
      "Objective function changes for L: -8.84e+00, G: -1.49e+00, Lx: -1.19e+01, X: -6.47e+00, Sigma: -4.00e-01\n",
      "Total Objective Function Value at iter 6: 3.690e+03\n",
      "Objective function changes for L: -8.21e+00, G: -1.02e+00, Lx: -6.51e+00, X: -3.32e+00, Sigma: -1.54e-01\n",
      "Total Objective Function Value at iter 7: 3.804e+03\n",
      "Objective function changes for L: -5.34e+00, G: -7.07e-01, Lx: -2.43e+00, X: -1.21e+00, Sigma: -4.99e-02\n",
      "Total Objective Function Value at iter 8: 3.890e+03\n",
      "Objective function changes for L: -2.63e+00, G: -4.79e-01, Lx: -7.00e-01, X: -3.44e-01, Sigma: -1.40e-02\n",
      "Total Objective Function Value at iter 9: 3.949e+03\n",
      "Objective function changes for L: -1.09e+00, G: -3.22e-01, Lx: -2.07e-01, X: -9.95e-02, Sigma: -3.21e-03\n",
      "Total Objective Function Value at iter 10: 3.987e+03\n",
      "Objective function changes for L: -4.38e-01, G: -2.21e-01, Lx: -9.19e-02, X: -4.33e-02, Sigma: -6.94e-04\n",
      "Total Objective Function Value at iter 11: 4.013e+03\n",
      "Objective function changes for L: -1.98e-01, G: -1.58e-01, Lx: -5.43e-02, X: -2.56e-02, Sigma: -3.31e-04\n",
      "Total Objective Function Value at iter 12: 4.034e+03\n",
      "Objective function changes for L: -1.09e-01, G: -1.17e-01, Lx: -3.59e-02, X: -1.70e-02, Sigma: -2.78e-04\n",
      "Total Objective Function Value at iter 13: 4.054e+03\n",
      "Objective function changes for L: -7.16e-02, G: -9.08e-02, Lx: -2.81e-02, X: -1.34e-02, Sigma: -2.21e-04\n",
      "Total Objective Function Value at iter 14: 4.073e+03\n",
      "Objective function changes for L: -5.33e-02, G: -7.24e-02, Lx: -2.46e-02, X: -1.17e-02, Sigma: -1.81e-04\n",
      "Total Objective Function Value at iter 15: 4.092e+03\n",
      "Objective function changes for L: -4.24e-02, G: -5.90e-02, Lx: -2.10e-02, X: -9.98e-03, Sigma: -1.61e-04\n",
      "Total Objective Function Value at iter 16: 4.111e+03\n",
      "Objective function changes for L: -3.41e-02, G: -4.87e-02, Lx: -1.66e-02, X: -7.86e-03, Sigma: -1.44e-04\n",
      "Total Objective Function Value at iter 17: 4.129e+03\n",
      "Objective function changes for L: -2.68e-02, G: -4.06e-02, Lx: -1.24e-02, X: -5.78e-03, Sigma: -1.17e-04\n",
      "Total Objective Function Value at iter 18: 4.145e+03\n",
      "Objective function changes for L: -2.06e-02, G: -3.39e-02, Lx: -9.00e-03, X: -4.13e-03, Sigma: -8.65e-05\n",
      "Total Objective Function Value at iter 19: 4.160e+03\n",
      "Objective function changes for L: -1.57e-02, G: -2.85e-02, Lx: -6.59e-03, X: -2.97e-03, Sigma: -6.13e-05\n",
      "Total Objective Function Value at iter 20: 4.174e+03\n",
      "Objective function changes for L: -1.19e-02, G: -2.40e-02, Lx: -4.95e-03, X: -2.19e-03, Sigma: -4.39e-05\n",
      "Total Objective Function Value at iter 21: 4.187e+03\n",
      "Objective function changes for L: -9.19e-03, G: -2.03e-02, Lx: -3.82e-03, X: -1.68e-03, Sigma: -3.28e-05\n",
      "Total Objective Function Value at iter 22: 4.199e+03\n",
      "Objective function changes for L: -7.20e-03, G: -1.72e-02, Lx: -3.03e-03, X: -1.31e-03, Sigma: -2.52e-05\n",
      "Total Objective Function Value at iter 23: 4.211e+03\n",
      "Objective function changes for L: -5.73e-03, G: -1.46e-02, Lx: -2.44e-03, X: -1.05e-03, Sigma: -1.98e-05\n",
      "Total Objective Function Value at iter 24: 4.221e+03\n",
      "Objective function changes for L: -4.61e-03, G: -1.25e-02, Lx: -1.99e-03, X: -8.49e-04, Sigma: -1.58e-05\n",
      "Total Objective Function Value at iter 25: 4.231e+03\n",
      "Objective function changes for L: -3.75e-03, G: -1.08e-02, Lx: -1.63e-03, X: -6.90e-04, Sigma: -1.27e-05\n",
      "Total Objective Function Value at iter 26: 4.241e+03\n",
      "Objective function changes for L: -3.08e-03, G: -9.28e-03, Lx: -1.34e-03, X: -5.61e-04, Sigma: -1.03e-05\n",
      "Total Objective Function Value at iter 27: 4.250e+03\n",
      "Objective function changes for L: -2.53e-03, G: -8.04e-03, Lx: -1.10e-03, X: -4.57e-04, Sigma: -8.33e-06\n",
      "Total Objective Function Value at iter 28: 4.258e+03\n",
      "Objective function changes for L: -2.09e-03, G: -6.98e-03, Lx: -9.13e-04, X: -3.73e-04, Sigma: -6.72e-06\n",
      "Total Objective Function Value at iter 29: 4.266e+03\n",
      "Objective function changes for L: -1.74e-03, G: -6.07e-03, Lx: -7.58e-04, X: -3.06e-04, Sigma: -5.41e-06\n",
      "Total Objective Function Value at iter 30: 4.274e+03\n",
      "Objective function changes for L: -1.45e-03, G: -5.30e-03, Lx: -6.31e-04, X: -2.51e-04, Sigma: -4.37e-06\n",
      "Total Objective Function Value at iter 31: 4.281e+03\n",
      "Objective function changes for L: -1.21e-03, G: -4.64e-03, Lx: -5.28e-04, X: -2.08e-04, Sigma: -3.53e-06\n",
      "Total Objective Function Value at iter 32: 4.288e+03\n",
      "Objective function changes for L: -1.02e-03, G: -4.07e-03, Lx: -4.43e-04, X: -1.72e-04, Sigma: -2.87e-06\n",
      "Total Objective Function Value at iter 33: 4.294e+03\n",
      "Objective function changes for L: -8.56e-04, G: -3.58e-03, Lx: -3.74e-04, X: -1.43e-04, Sigma: -2.34e-06\n",
      "Total Objective Function Value at iter 34: 4.300e+03\n",
      "Objective function changes for L: -7.24e-04, G: -3.15e-03, Lx: -3.16e-04, X: -1.20e-04, Sigma: -1.91e-06\n",
      "Total Objective Function Value at iter 35: 4.306e+03\n",
      "Objective function changes for L: -6.14e-04, G: -2.79e-03, Lx: -2.69e-04, X: -1.00e-04, Sigma: -1.56e-06\n",
      "Total Objective Function Value at iter 36: 4.311e+03\n",
      "Objective function changes for L: -5.23e-04, G: -2.46e-03, Lx: -2.29e-04, X: -8.40e-05, Sigma: -1.29e-06\n",
      "Total Objective Function Value at iter 37: 4.316e+03\n",
      "Objective function changes for L: -4.47e-04, G: -2.18e-03, Lx: -1.96e-04, X: -7.07e-05, Sigma: -1.06e-06\n",
      "Total Objective Function Value at iter 38: 4.321e+03\n",
      "Objective function changes for L: -3.82e-04, G: -1.94e-03, Lx: -1.68e-04, X: -5.96e-05, Sigma: -8.74e-07\n",
      "Total Objective Function Value at iter 39: 4.325e+03\n",
      "Objective function changes for L: -3.28e-04, G: -1.72e-03, Lx: -1.44e-04, X: -5.03e-05, Sigma: -7.23e-07\n",
      "Total Objective Function Value at iter 40: 4.330e+03\n",
      "Objective function changes for L: -2.82e-04, G: -1.54e-03, Lx: -1.24e-04, X: -4.26e-05, Sigma: -5.99e-07\n",
      "Total Objective Function Value at iter 41: 4.334e+03\n",
      "Objective function changes for L: -2.44e-04, G: -1.37e-03, Lx: -1.07e-04, X: -3.61e-05, Sigma: -4.98e-07\n",
      "Total Objective Function Value at iter 42: 4.338e+03\n",
      "Objective function changes for L: -2.11e-04, G: -1.22e-03, Lx: -9.25e-05, X: -3.07e-05, Sigma: -4.15e-07\n",
      "Total Objective Function Value at iter 43: 4.341e+03\n",
      "Objective function changes for L: -1.83e-04, G: -1.10e-03, Lx: -8.02e-05, X: -2.61e-05, Sigma: -3.46e-07\n",
      "Total Objective Function Value at iter 44: 4.345e+03\n",
      "Objective function changes for L: -1.58e-04, G: -9.82e-04, Lx: -6.96e-05, X: -2.22e-05, Sigma: -2.89e-07\n",
      "Total Objective Function Value at iter 45: 4.348e+03\n",
      "Objective function changes for L: -1.38e-04, G: -8.81e-04, Lx: -6.06e-05, X: -1.89e-05, Sigma: -2.43e-07\n",
      "Total Objective Function Value at iter 46: 4.351e+03\n",
      "Objective function changes for L: -1.20e-04, G: -7.91e-04, Lx: -5.28e-05, X: -1.61e-05, Sigma: -2.04e-07\n",
      "Total Objective Function Value at iter 47: 4.354e+03\n",
      "Objective function changes for L: -1.05e-04, G: -7.11e-04, Lx: -4.61e-05, X: -1.38e-05, Sigma: -1.71e-07\n",
      "Total Objective Function Value at iter 48: 4.357e+03\n",
      "Objective function changes for L: -9.17e-05, G: -6.40e-04, Lx: -4.03e-05, X: -1.18e-05, Sigma: -1.45e-07\n",
      "Total Objective Function Value at iter 49: 4.360e+03\n",
      "Objective function changes for L: -8.03e-05, G: -5.77e-04, Lx: -3.53e-05, X: -1.01e-05, Sigma: -1.22e-07\n",
      "Total Objective Function Value at iter 50: 4.362e+03\n",
      "Objective function changes for L: -7.04e-05, G: -5.20e-04, Lx: -3.10e-05, X: -8.62e-06, Sigma: -1.03e-07\n",
      "Total Objective Function Value at iter 51: 4.365e+03\n",
      "Objective function changes for L: -6.19e-05, G: -4.70e-04, Lx: -2.72e-05, X: -7.38e-06, Sigma: -8.77e-08\n",
      "Total Objective Function Value at iter 52: 4.367e+03\n",
      "Objective function changes for L: -5.44e-05, G: -4.24e-04, Lx: -2.40e-05, X: -6.32e-06, Sigma: -7.45e-08\n",
      "Total Objective Function Value at iter 53: 4.369e+03\n",
      "Objective function changes for L: -4.79e-05, G: -3.84e-04, Lx: -2.11e-05, X: -5.41e-06, Sigma: -6.34e-08\n",
      "Total Objective Function Value at iter 54: 4.371e+03\n",
      "Objective function changes for L: -4.23e-05, G: -3.48e-04, Lx: -1.86e-05, X: -4.63e-06, Sigma: -5.40e-08\n",
      "Total Objective Function Value at iter 55: 4.373e+03\n",
      "Objective function changes for L: -3.73e-05, G: -3.15e-04, Lx: -1.65e-05, X: -3.96e-06, Sigma: -4.61e-08\n",
      "Total Objective Function Value at iter 56: 4.375e+03\n",
      "Objective function changes for L: -3.30e-05, G: -2.86e-04, Lx: -1.46e-05, X: -3.38e-06, Sigma: -3.95e-08\n",
      "Total Objective Function Value at iter 57: 4.377e+03\n",
      "Objective function changes for L: -2.92e-05, G: -2.59e-04, Lx: -1.29e-05, X: -2.89e-06, Sigma: -3.38e-08\n",
      "Total Objective Function Value at iter 58: 4.378e+03\n",
      "Objective function changes for L: -2.59e-05, G: -2.36e-04, Lx: -1.14e-05, X: -2.47e-06, Sigma: -2.90e-08\n",
      "Total Objective Function Value at iter 59: 4.380e+03\n",
      "Objective function changes for L: -2.30e-05, G: -2.14e-04, Lx: -1.01e-05, X: -2.11e-06, Sigma: -2.49e-08\n",
      "Total Objective Function Value at iter 60: 4.382e+03\n",
      "Objective function changes for L: -2.04e-05, G: -1.95e-04, Lx: -9.00e-06, X: -1.79e-06, Sigma: -2.15e-08\n",
      "Total Objective Function Value at iter 61: 4.383e+03\n",
      "Objective function changes for L: -1.81e-05, G: -1.77e-04, Lx: -8.00e-06, X: -1.53e-06, Sigma: -1.85e-08\n",
      "Total Objective Function Value at iter 62: 4.384e+03\n",
      "Objective function changes for L: -1.61e-05, G: -1.61e-04, Lx: -7.12e-06, X: -1.29e-06, Sigma: -1.60e-08\n",
      "Total Objective Function Value at iter 63: 4.386e+03\n",
      "Objective function changes for L: -1.44e-05, G: -1.47e-04, Lx: -6.34e-06, X: -1.10e-06, Sigma: -1.38e-08\n",
      "Total Objective Function Value at iter 64: 4.387e+03\n",
      "Objective function changes for L: -1.28e-05, G: -1.34e-04, Lx: -5.66e-06, X: -9.25e-07, Sigma: -1.20e-08\n",
      "Total Objective Function Value at iter 65: 4.388e+03\n",
      "Objective function changes for L: -1.14e-05, G: -1.22e-04, Lx: -5.05e-06, X: -7.78e-07, Sigma: -1.04e-08\n",
      "Total Objective Function Value at iter 66: 4.389e+03\n",
      "Objective function changes for L: -1.02e-05, G: -1.12e-04, Lx: -4.51e-06, X: -6.52e-07, Sigma: -9.00e-09\n",
      "Total Objective Function Value at iter 67: 4.390e+03\n",
      "Objective function changes for L: -9.13e-06, G: -1.02e-04, Lx: -4.03e-06, X: -5.43e-07, Sigma: -7.83e-09\n",
      "Total Objective Function Value at iter 68: 4.391e+03\n",
      "Objective function changes for L: -8.17e-06, G: -9.34e-05, Lx: -3.61e-06, X: -4.50e-07, Sigma: -6.81e-09\n",
      "Total Objective Function Value at iter 69: 4.392e+03\n",
      "Objective function changes for L: -7.31e-06, G: -8.54e-05, Lx: -3.23e-06, X: -3.70e-07, Sigma: -5.94e-09\n",
      "Total Objective Function Value at iter 70: 4.393e+03\n",
      "Objective function changes for L: -6.55e-06, G: -7.82e-05, Lx: -2.89e-06, X: -3.02e-07, Sigma: -5.18e-09\n",
      "Total Objective Function Value at iter 71: 4.394e+03\n",
      "Objective function changes for L: -5.88e-06, G: -7.16e-05, Lx: -2.60e-06, X: -2.44e-07, Sigma: -4.53e-09\n",
      "Total Objective Function Value at iter 72: 4.395e+03\n",
      "Objective function changes for L: -5.27e-06, G: -6.56e-05, Lx: -2.33e-06, X: -1.94e-07, Sigma: -3.96e-09\n",
      "Total Objective Function Value at iter 73: 4.396e+03\n",
      "Objective function changes for L: -4.74e-06, G: -6.01e-05, Lx: -2.09e-06, X: -1.51e-07, Sigma: -3.47e-09\n",
      "Total Objective Function Value at iter 74: 4.397e+03\n",
      "Objective function changes for L: -4.26e-06, G: -5.51e-05, Lx: -1.88e-06, X: -1.15e-07, Sigma: -3.05e-09\n",
      "Total Objective Function Value at iter 75: 4.397e+03\n",
      "Objective function changes for L: -3.83e-06, G: -5.05e-05, Lx: -1.69e-06, X: -8.39e-08, Sigma: -2.68e-09\n",
      "Total Objective Function Value at iter 76: 4.398e+03\n",
      "Objective function changes for L: -3.45e-06, G: -4.64e-05, Lx: -1.52e-06, X: -5.78e-08, Sigma: -2.35e-09\n",
      "Total Objective Function Value at iter 77: 4.399e+03\n",
      "Objective function changes for L: -3.10e-06, G: -4.26e-05, Lx: -1.37e-06, X: -3.58e-08, Sigma: -2.07e-09\n",
      "Total Objective Function Value at iter 78: 4.399e+03\n",
      "Objective function changes for L: -2.80e-06, G: -3.91e-05, Lx: -1.24e-06, X: -1.73e-08, Sigma: -1.83e-09\n",
      "Total Objective Function Value at iter 79: 4.400e+03\n",
      "Objective function changes for L: -2.52e-06, G: -3.59e-05, Lx: -1.11e-06, X: -1.81e-09, Sigma: -1.61e-09\n",
      "Total Objective Function Value at iter 80: 4.401e+03\n",
      "Objective function changes for L: -2.28e-06, G: -3.30e-05, Lx: -1.01e-06, X: 1.11e-08, Sigma: -1.42e-09\n",
      "Total Objective Function Value at iter 81: 4.401e+03\n",
      "Objective function changes for L: -2.05e-06, G: -3.04e-05, Lx: -9.08e-07, X: 2.17e-08, Sigma: -1.26e-09\n",
      "Total Objective Function Value at iter 82: 4.402e+03\n",
      "Objective function changes for L: -1.86e-06, G: -2.79e-05, Lx: -8.20e-07, X: 3.04e-08, Sigma: -1.11e-09\n",
      "Total Objective Function Value at iter 83: 4.402e+03\n",
      "Objective function changes for L: -1.68e-06, G: -2.57e-05, Lx: -7.42e-07, X: 3.74e-08, Sigma: -9.88e-10\n",
      "Total Objective Function Value at iter 84: 4.403e+03\n",
      "Objective function changes for L: -1.52e-06, G: -2.37e-05, Lx: -6.71e-07, X: 4.30e-08, Sigma: -8.76e-10\n",
      "Total Objective Function Value at iter 85: 4.403e+03\n",
      "Objective function changes for L: -1.37e-06, G: -2.18e-05, Lx: -6.07e-07, X: 4.75e-08, Sigma: -7.78e-10\n",
      "Total Objective Function Value at iter 86: 4.404e+03\n",
      "Objective function changes for L: -1.24e-06, G: -2.01e-05, Lx: -5.50e-07, X: 5.08e-08, Sigma: -6.92e-10\n",
      "Total Objective Function Value at iter 87: 4.404e+03\n",
      "Objective function changes for L: -1.13e-06, G: -1.85e-05, Lx: -4.98e-07, X: 5.34e-08, Sigma: -6.16e-10\n",
      "Total Objective Function Value at iter 88: 4.404e+03\n",
      "Objective function changes for L: -1.02e-06, G: -1.70e-05, Lx: -4.51e-07, X: 5.51e-08, Sigma: -5.48e-10\n",
      "Total Objective Function Value at iter 89: 4.405e+03\n",
      "Objective function changes for L: -9.26e-07, G: -1.57e-05, Lx: -4.09e-07, X: 5.63e-08, Sigma: -4.89e-10\n",
      "Total Objective Function Value at iter 90: 4.405e+03\n",
      "Objective function changes for L: -8.40e-07, G: -1.45e-05, Lx: -3.72e-07, X: 5.69e-08, Sigma: -4.36e-10\n",
      "Total Objective Function Value at iter 91: 4.406e+03\n",
      "Objective function changes for L: -7.63e-07, G: -1.34e-05, Lx: -3.37e-07, X: 5.70e-08, Sigma: -3.89e-10\n",
      "Total Objective Function Value at iter 92: 4.406e+03\n",
      "Objective function changes for L: -6.93e-07, G: -1.23e-05, Lx: -3.06e-07, X: 5.68e-08, Sigma: -3.48e-10\n",
      "Total Objective Function Value at iter 93: 4.406e+03\n",
      "Objective function changes for L: -6.29e-07, G: -1.14e-05, Lx: -2.78e-07, X: 5.63e-08, Sigma: -3.11e-10\n",
      "Total Objective Function Value at iter 94: 4.407e+03\n",
      "Objective function changes for L: -5.72e-07, G: -1.05e-05, Lx: -2.53e-07, X: 5.55e-08, Sigma: -2.79e-10\n",
      "Total Objective Function Value at iter 95: 4.407e+03\n",
      "Objective function changes for L: -5.20e-07, G: -9.72e-06, Lx: -2.30e-07, X: 5.46e-08, Sigma: -2.50e-10\n",
      "Total Objective Function Value at iter 96: 4.407e+03\n",
      "Objective function changes for L: -4.74e-07, G: -8.98e-06, Lx: -2.09e-07, X: 5.34e-08, Sigma: -2.24e-10\n",
      "Total Objective Function Value at iter 97: 4.407e+03\n",
      "Objective function changes for L: -4.31e-07, G: -8.30e-06, Lx: -1.91e-07, X: 5.22e-08, Sigma: -2.01e-10\n",
      "Total Objective Function Value at iter 98: 4.408e+03\n",
      "Objective function changes for L: -3.93e-07, G: -7.67e-06, Lx: -1.74e-07, X: 5.08e-08, Sigma: -1.80e-10\n",
      "Total Objective Function Value at iter 99: 4.408e+03\n",
      "Objective function changes for L: -3.58e-07, G: -7.09e-06, Lx: -1.58e-07, X: 4.93e-08, Sigma: -1.62e-10\n",
      "Total Objective Function Value at iter 100: 4.408e+03\n",
      "Objective function changes for L: -3.26e-07, G: -6.56e-06, Lx: -1.44e-07, X: 4.78e-08, Sigma: -1.46e-10\n",
      "Total Objective Function Value at iter 101: 4.408e+03\n",
      "Objective function changes for L: -2.97e-07, G: -6.07e-06, Lx: -1.32e-07, X: 4.63e-08, Sigma: -1.31e-10\n",
      "Total Objective Function Value at iter 102: 4.409e+03\n",
      "Objective function changes for L: -2.71e-07, G: -5.61e-06, Lx: -1.20e-07, X: 4.47e-08, Sigma: -1.18e-10\n",
      "Total Objective Function Value at iter 103: 4.409e+03\n",
      "Objective function changes for L: -2.47e-07, G: -5.20e-06, Lx: -1.10e-07, X: 4.32e-08, Sigma: -1.07e-10\n",
      "Total Objective Function Value at iter 104: 4.409e+03\n",
      "Objective function changes for L: -2.26e-07, G: -4.81e-06, Lx: -1.00e-07, X: 4.16e-08, Sigma: -9.61e-11\n",
      "Total Objective Function Value at iter 105: 4.409e+03\n",
      "Objective function changes for L: -2.06e-07, G: -4.45e-06, Lx: -9.13e-08, X: 4.01e-08, Sigma: -8.67e-11\n",
      "Total Objective Function Value at iter 106: 4.409e+03\n",
      "Objective function changes for L: -1.89e-07, G: -4.12e-06, Lx: -8.34e-08, X: 3.85e-08, Sigma: -7.83e-11\n",
      "Total Objective Function Value at iter 107: 4.410e+03\n",
      "Objective function changes for L: -1.72e-07, G: -3.82e-06, Lx: -7.63e-08, X: 3.70e-08, Sigma: -7.07e-11\n",
      "Total Objective Function Value at iter 108: 4.410e+03\n",
      "Objective function changes for L: -1.58e-07, G: -3.54e-06, Lx: -6.97e-08, X: 3.56e-08, Sigma: -6.39e-11\n",
      "Total Objective Function Value at iter 109: 4.410e+03\n",
      "Objective function changes for L: -1.44e-07, G: -3.28e-06, Lx: -6.38e-08, X: 3.41e-08, Sigma: -5.78e-11\n",
      "Total Objective Function Value at iter 110: 4.410e+03\n",
      "Objective function changes for L: -1.32e-07, G: -3.04e-06, Lx: -5.83e-08, X: 3.27e-08, Sigma: -5.23e-11\n",
      "Total Objective Function Value at iter 111: 4.410e+03\n",
      "Objective function changes for L: -1.21e-07, G: -2.82e-06, Lx: -5.34e-08, X: 3.14e-08, Sigma: -4.74e-11\n",
      "Total Objective Function Value at iter 112: 4.410e+03\n",
      "Objective function changes for L: -1.10e-07, G: -2.61e-06, Lx: -4.89e-08, X: 3.01e-08, Sigma: -4.29e-11\n",
      "Total Objective Function Value at iter 113: 4.411e+03\n",
      "Objective function changes for L: -1.01e-07, G: -2.42e-06, Lx: -4.48e-08, X: 2.88e-08, Sigma: -3.89e-11\n",
      "Total Objective Function Value at iter 114: 4.411e+03\n",
      "Objective function changes for L: -9.27e-08, G: -2.25e-06, Lx: -4.10e-08, X: 2.75e-08, Sigma: -3.53e-11\n",
      "Total Objective Function Value at iter 115: 4.411e+03\n",
      "Objective function changes for L: -8.49e-08, G: -2.09e-06, Lx: -3.76e-08, X: 2.64e-08, Sigma: -3.20e-11\n",
      "Total Objective Function Value at iter 116: 4.411e+03\n",
      "Objective function changes for L: -7.79e-08, G: -1.94e-06, Lx: -3.45e-08, X: 2.52e-08, Sigma: -2.91e-11\n",
      "Total Objective Function Value at iter 117: 4.411e+03\n",
      "Objective function changes for L: -7.14e-08, G: -1.80e-06, Lx: -3.16e-08, X: 2.41e-08, Sigma: -2.64e-11\n",
      "Total Objective Function Value at iter 118: 4.411e+03\n",
      "Objective function changes for L: -6.55e-08, G: -1.67e-06, Lx: -2.90e-08, X: 2.30e-08, Sigma: -2.40e-11\n",
      "Total Objective Function Value at iter 119: 4.411e+03\n",
      "Objective function changes for L: -6.01e-08, G: -1.55e-06, Lx: -2.66e-08, X: 2.20e-08, Sigma: -2.18e-11\n",
      "Total Objective Function Value at iter 120: 4.411e+03\n",
      "Objective function changes for L: -5.51e-08, G: -1.44e-06, Lx: -2.44e-08, X: 2.10e-08, Sigma: -1.98e-11\n",
      "Total Objective Function Value at iter 121: 4.411e+03\n",
      "Objective function changes for L: -5.06e-08, G: -1.33e-06, Lx: -2.24e-08, X: 2.01e-08, Sigma: -1.81e-11\n",
      "Total Objective Function Value at iter 122: 4.412e+03\n",
      "Objective function changes for L: -4.65e-08, G: -1.24e-06, Lx: -2.06e-08, X: 1.92e-08, Sigma: -1.64e-11\n",
      "Total Objective Function Value at iter 123: 4.412e+03\n",
      "Objective function changes for L: -4.27e-08, G: -1.15e-06, Lx: -1.89e-08, X: 1.83e-08, Sigma: -1.50e-11\n",
      "Total Objective Function Value at iter 124: 4.412e+03\n",
      "Objective function changes for L: -3.92e-08, G: -1.07e-06, Lx: -1.74e-08, X: 1.75e-08, Sigma: -1.36e-11\n",
      "Total Objective Function Value at iter 125: 4.412e+03\n",
      "Objective function changes for L: -3.61e-08, G: -9.95e-07, Lx: -1.60e-08, X: 1.67e-08, Sigma: -1.24e-11\n",
      "Total Objective Function Value at iter 126: 4.412e+03\n",
      "Objective function changes for L: -3.32e-08, G: -9.25e-07, Lx: -1.47e-08, X: 1.60e-08, Sigma: -1.13e-11\n",
      "Total Objective Function Value at iter 127: 4.412e+03\n",
      "Objective function changes for L: -3.05e-08, G: -8.60e-07, Lx: -1.35e-08, X: 1.52e-08, Sigma: -1.03e-11\n",
      "Total Objective Function Value at iter 128: 4.412e+03\n",
      "Objective function changes for L: -2.80e-08, G: -7.99e-07, Lx: -1.24e-08, X: 1.45e-08, Sigma: -9.44e-12\n",
      "Total Objective Function Value at iter 129: 4.412e+03\n",
      "Objective function changes for L: -2.58e-08, G: -7.43e-07, Lx: -1.14e-08, X: 1.39e-08, Sigma: -8.61e-12\n",
      "Total Objective Function Value at iter 130: 4.412e+03\n",
      "Objective function changes for L: -2.37e-08, G: -6.91e-07, Lx: -1.05e-08, X: 1.32e-08, Sigma: -7.87e-12\n",
      "Total Objective Function Value at iter 131: 4.412e+03\n",
      "Objective function changes for L: -2.19e-08, G: -6.43e-07, Lx: -9.68e-09, X: 1.26e-08, Sigma: -7.18e-12\n",
      "Total Objective Function Value at iter 132: 4.412e+03\n",
      "Objective function changes for L: -2.01e-08, G: -5.98e-07, Lx: -8.91e-09, X: 1.21e-08, Sigma: -6.57e-12\n",
      "Total Objective Function Value at iter 133: 4.412e+03\n",
      "Objective function changes for L: -1.85e-08, G: -5.57e-07, Lx: -8.21e-09, X: 1.15e-08, Sigma: -6.00e-12\n",
      "Total Objective Function Value at iter 134: 4.412e+03\n",
      "Objective function changes for L: -1.71e-08, G: -5.18e-07, Lx: -7.56e-09, X: 1.10e-08, Sigma: -5.49e-12\n",
      "Total Objective Function Value at iter 135: 4.412e+03\n",
      "Objective function changes for L: -1.57e-08, G: -4.82e-07, Lx: -6.96e-09, X: 1.05e-08, Sigma: -5.02e-12\n",
      "Total Objective Function Value at iter 136: 4.413e+03\n",
      "Objective function changes for L: -1.45e-08, G: -4.49e-07, Lx: -6.42e-09, X: 1.00e-08, Sigma: -4.59e-12\n",
      "Total Objective Function Value at iter 137: 4.413e+03\n",
      "Objective function changes for L: -1.34e-08, G: -4.18e-07, Lx: -5.91e-09, X: 9.56e-09, Sigma: -4.20e-12\n",
      "Total Objective Function Value at iter 138: 4.413e+03\n",
      "Objective function changes for L: -1.23e-08, G: -3.89e-07, Lx: -5.45e-09, X: 9.13e-09, Sigma: -3.85e-12\n",
      "Total Objective Function Value at iter 139: 4.413e+03\n",
      "Objective function changes for L: -1.14e-08, G: -3.62e-07, Lx: -5.03e-09, X: 8.71e-09, Sigma: -3.52e-12\n",
      "Total Objective Function Value at iter 140: 4.413e+03\n",
      "Objective function changes for L: -1.05e-08, G: -3.37e-07, Lx: -4.64e-09, X: 8.32e-09, Sigma: -3.23e-12\n",
      "Total Objective Function Value at iter 141: 4.413e+03\n",
      "Objective function changes for L: -9.66e-09, G: -3.14e-07, Lx: -4.28e-09, X: 7.94e-09, Sigma: -2.96e-12\n",
      "Total Objective Function Value at iter 142: 4.413e+03\n",
      "Objective function changes for L: -8.91e-09, G: -2.93e-07, Lx: -3.95e-09, X: 7.58e-09, Sigma: -2.71e-12\n",
      "Total Objective Function Value at iter 143: 4.413e+03\n",
      "Objective function changes for L: -8.22e-09, G: -2.73e-07, Lx: -3.64e-09, X: 7.24e-09, Sigma: -2.49e-12\n",
      "Total Objective Function Value at iter 144: 4.413e+03\n",
      "Objective function changes for L: -7.59e-09, G: -2.54e-07, Lx: -3.36e-09, X: 6.91e-09, Sigma: -2.28e-12\n",
      "Total Objective Function Value at iter 145: 4.413e+03\n",
      "Objective function changes for L: -7.01e-09, G: -2.37e-07, Lx: -3.10e-09, X: 6.60e-09, Sigma: -2.09e-12\n",
      "Total Objective Function Value at iter 146: 4.413e+03\n",
      "Objective function changes for L: -6.47e-09, G: -2.21e-07, Lx: -2.87e-09, X: 6.30e-09, Sigma: -1.92e-12\n",
      "Total Objective Function Value at iter 147: 4.413e+03\n",
      "Objective function changes for L: -5.98e-09, G: -2.06e-07, Lx: -2.65e-09, X: 6.02e-09, Sigma: -1.76e-12\n",
      "Total Objective Function Value at iter 148: 4.413e+03\n",
      "Objective function changes for L: -5.52e-09, G: -1.92e-07, Lx: -2.45e-09, X: 5.75e-09, Sigma: -1.62e-12\n",
      "Total Objective Function Value at iter 149: 4.413e+03\n",
      "Objective function changes for L: -5.10e-09, G: -1.79e-07, Lx: -2.26e-09, X: 5.49e-09, Sigma: -1.48e-12\n",
      "Total Objective Function Value at iter 150: 4.413e+03\n",
      "Objective function changes for L: -4.71e-09, G: -1.67e-07, Lx: -2.09e-09, X: 5.24e-09, Sigma: -1.36e-12\n",
      "Total Objective Function Value at iter 151: 4.413e+03\n",
      "Objective function changes for L: -4.36e-09, G: -1.55e-07, Lx: -1.93e-09, X: 5.01e-09, Sigma: -1.25e-12\n",
      "Total Objective Function Value at iter 152: 4.413e+03\n",
      "Objective function changes for L: -4.03e-09, G: -1.45e-07, Lx: -1.78e-09, X: 4.78e-09, Sigma: -1.15e-12\n",
      "Total Objective Function Value at iter 153: 4.413e+03\n",
      "Objective function changes for L: -3.72e-09, G: -1.35e-07, Lx: -1.65e-09, X: 4.57e-09, Sigma: -1.06e-12\n",
      "Total Objective Function Value at iter 154: 4.413e+03\n",
      "Objective function changes for L: -3.44e-09, G: -1.26e-07, Lx: -1.52e-09, X: 4.37e-09, Sigma: -9.73e-13\n",
      "Total Objective Function Value at iter 155: 4.413e+03\n",
      "Objective function changes for L: -3.18e-09, G: -1.18e-07, Lx: -1.41e-09, X: 4.17e-09, Sigma: -8.95e-13\n",
      "Total Objective Function Value at iter 156: 4.413e+03\n",
      "Objective function changes for L: -2.94e-09, G: -1.10e-07, Lx: -1.30e-09, X: 3.99e-09, Sigma: -8.23e-13\n",
      "Total Objective Function Value at iter 157: 4.413e+03\n",
      "Objective function changes for L: -2.72e-09, G: -1.03e-07, Lx: -1.21e-09, X: 3.81e-09, Sigma: -7.57e-13\n",
      "Total Objective Function Value at iter 158: 4.413e+03\n",
      "Objective function changes for L: -2.52e-09, G: -9.57e-08, Lx: -1.12e-09, X: 3.64e-09, Sigma: -6.97e-13\n",
      "Total Objective Function Value at iter 159: 4.413e+03\n",
      "Objective function changes for L: -2.33e-09, G: -8.93e-08, Lx: -1.03e-09, X: 3.48e-09, Sigma: -6.41e-13\n",
      "Total Objective Function Value at iter 160: 4.413e+03\n",
      "Objective function changes for L: -2.16e-09, G: -8.34e-08, Lx: -9.56e-10, X: 3.33e-09, Sigma: -5.90e-13\n",
      "Total Objective Function Value at iter 161: 4.413e+03\n",
      "Objective function changes for L: -2.00e-09, G: -7.78e-08, Lx: -8.85e-10, X: 3.18e-09, Sigma: -5.43e-13\n",
      "Total Objective Function Value at iter 162: 4.413e+03\n",
      "Objective function changes for L: -1.85e-09, G: -7.27e-08, Lx: -8.20e-10, X: 3.04e-09, Sigma: -5.00e-13\n",
      "Total Objective Function Value at iter 163: 4.413e+03\n",
      "Objective function changes for L: -1.71e-09, G: -6.79e-08, Lx: -7.59e-10, X: 2.91e-09, Sigma: -4.61e-13\n",
      "Total Objective Function Value at iter 164: 4.413e+03\n",
      "Objective function changes for L: -1.59e-09, G: -6.34e-08, Lx: -7.03e-10, X: 2.78e-09, Sigma: -4.25e-13\n",
      "Total Objective Function Value at iter 165: 4.413e+03\n",
      "Objective function changes for L: -1.47e-09, G: -5.92e-08, Lx: -6.51e-10, X: 2.66e-09, Sigma: -3.91e-13\n",
      "Total Objective Function Value at iter 166: 4.413e+03\n",
      "Objective function changes for L: -1.36e-09, G: -5.53e-08, Lx: -6.03e-10, X: 2.54e-09, Sigma: -3.61e-13\n",
      "Total Objective Function Value at iter 167: 4.413e+03\n",
      "Objective function changes for L: -1.26e-09, G: -5.16e-08, Lx: -5.59e-10, X: 2.43e-09, Sigma: -3.32e-13\n",
      "Total Objective Function Value at iter 168: 4.413e+03\n",
      "Objective function changes for L: -1.17e-09, G: -4.82e-08, Lx: -5.18e-10, X: 2.33e-09, Sigma: -3.06e-13\n",
      "Total Objective Function Value at iter 169: 4.413e+03\n",
      "Objective function changes for L: -1.08e-09, G: -4.51e-08, Lx: -4.80e-10, X: 2.23e-09, Sigma: -2.83e-13\n",
      "Total Objective Function Value at iter 170: 4.413e+03\n",
      "Objective function changes for L: -1.00e-09, G: -4.21e-08, Lx: -4.45e-10, X: 2.13e-09, Sigma: -2.61e-13\n",
      "Total Objective Function Value at iter 171: 4.413e+03\n",
      "Objective function changes for L: -9.30e-10, G: -3.94e-08, Lx: -4.12e-10, X: 2.04e-09, Sigma: -2.40e-13\n",
      "Total Objective Function Value at iter 172: 4.414e+03\n",
      "Objective function changes for L: -8.61e-10, G: -3.68e-08, Lx: -3.82e-10, X: 1.95e-09, Sigma: -2.22e-13\n",
      "Total Objective Function Value at iter 173: 4.414e+03\n",
      "Objective function changes for L: -7.99e-10, G: -3.44e-08, Lx: -3.54e-10, X: 1.87e-09, Sigma: -2.05e-13\n",
      "Total Objective Function Value at iter 174: 4.414e+03\n",
      "Objective function changes for L: -7.41e-10, G: -3.21e-08, Lx: -3.29e-10, X: 1.79e-09, Sigma: -1.89e-13\n",
      "Total Objective Function Value at iter 175: 4.414e+03\n",
      "Objective function changes for L: -6.87e-10, G: -3.01e-08, Lx: -3.05e-10, X: 1.71e-09, Sigma: -1.74e-13\n",
      "Total Objective Function Value at iter 176: 4.414e+03\n",
      "Objective function changes for L: -6.38e-10, G: -2.81e-08, Lx: -2.83e-10, X: 1.64e-09, Sigma: -1.61e-13\n",
      "Total Objective Function Value at iter 177: 4.414e+03\n",
      "Objective function changes for L: -5.93e-10, G: -2.63e-08, Lx: -2.62e-10, X: 1.57e-09, Sigma: -1.49e-13\n",
      "Total Objective Function Value at iter 178: 4.414e+03\n",
      "Objective function changes for L: -5.50e-10, G: -2.46e-08, Lx: -2.43e-10, X: 1.50e-09, Sigma: -1.37e-13\n",
      "Total Objective Function Value at iter 179: 4.414e+03\n",
      "Objective function changes for L: -5.09e-10, G: -2.30e-08, Lx: -2.26e-10, X: 1.44e-09, Sigma: -1.27e-13\n",
      "Total Objective Function Value at iter 180: 4.414e+03\n",
      "Objective function changes for L: -4.72e-10, G: -2.15e-08, Lx: -2.10e-10, X: 1.38e-09, Sigma: -1.17e-13\n",
      "Total Objective Function Value at iter 181: 4.414e+03\n",
      "Objective function changes for L: -4.39e-10, G: -2.01e-08, Lx: -1.94e-10, X: 1.32e-09, Sigma: -1.08e-13\n",
      "Total Objective Function Value at iter 182: 4.414e+03\n",
      "Objective function changes for L: -4.07e-10, G: -1.88e-08, Lx: -1.81e-10, X: 1.26e-09, Sigma: -9.99e-14\n",
      "Total Objective Function Value at iter 183: 4.414e+03\n",
      "Objective function changes for L: -3.77e-10, G: -1.76e-08, Lx: -1.68e-10, X: 1.21e-09, Sigma: -9.24e-14\n",
      "Total Objective Function Value at iter 184: 4.414e+03\n",
      "Objective function changes for L: -3.51e-10, G: -1.65e-08, Lx: -1.56e-10, X: 1.16e-09, Sigma: -8.54e-14\n",
      "Total Objective Function Value at iter 185: 4.414e+03\n",
      "Objective function changes for L: -3.27e-10, G: -1.54e-08, Lx: -1.44e-10, X: 1.11e-09, Sigma: -7.89e-14\n",
      "Total Objective Function Value at iter 186: 4.414e+03\n",
      "Objective function changes for L: -3.02e-10, G: -1.44e-08, Lx: -1.34e-10, X: 1.06e-09, Sigma: -7.30e-14\n",
      "Total Objective Function Value at iter 187: 4.414e+03\n",
      "Objective function changes for L: -2.83e-10, G: -1.35e-08, Lx: -1.25e-10, X: 1.02e-09, Sigma: -6.75e-14\n",
      "Total Objective Function Value at iter 188: 4.414e+03\n",
      "Objective function changes for L: -2.62e-10, G: -1.26e-08, Lx: -1.16e-10, X: 9.78e-10, Sigma: -6.24e-14\n",
      "Total Objective Function Value at iter 189: 4.414e+03\n",
      "Objective function changes for L: -2.42e-10, G: -1.18e-08, Lx: -1.08e-10, X: 9.37e-10, Sigma: -5.77e-14\n",
      "Total Objective Function Value at iter 190: 4.414e+03\n",
      "Objective function changes for L: -2.26e-10, G: -1.11e-08, Lx: -9.99e-11, X: 8.98e-10, Sigma: -5.34e-14\n",
      "Total Objective Function Value at iter 191: 4.414e+03\n",
      "Objective function changes for L: -2.08e-10, G: -1.04e-08, Lx: -9.28e-11, X: 8.61e-10, Sigma: -4.94e-14\n",
      "Total Objective Function Value at iter 192: 4.414e+03\n",
      "Objective function changes for L: -1.95e-10, G: -9.70e-09, Lx: -8.62e-11, X: 8.26e-10, Sigma: -4.57e-14\n",
      "Total Objective Function Value at iter 193: 4.414e+03\n",
      "Objective function changes for L: -1.82e-10, G: -9.08e-09, Lx: -8.01e-11, X: 7.92e-10, Sigma: -4.23e-14\n",
      "Total Objective Function Value at iter 194: 4.414e+03\n",
      "Objective function changes for L: -1.67e-10, G: -8.51e-09, Lx: -7.45e-11, X: 7.60e-10, Sigma: -3.92e-14\n",
      "Total Objective Function Value at iter 195: 4.414e+03\n",
      "Objective function changes for L: -1.57e-10, G: -7.96e-09, Lx: -6.92e-11, X: 7.29e-10, Sigma: -3.63e-14\n",
      "Total Objective Function Value at iter 196: 4.414e+03\n",
      "Objective function changes for L: -1.46e-10, G: -7.46e-09, Lx: -6.44e-11, X: 6.99e-10, Sigma: -3.36e-14\n",
      "Total Objective Function Value at iter 197: 4.414e+03\n",
      "Objective function changes for L: -1.36e-10, G: -6.99e-09, Lx: -5.98e-11, X: 6.70e-10, Sigma: -3.11e-14\n",
      "Total Objective Function Value at iter 198: 4.414e+03\n",
      "Objective function changes for L: -1.26e-10, G: -6.55e-09, Lx: -5.56e-11, X: 6.43e-10, Sigma: -2.88e-14\n",
      "Total Objective Function Value at iter 199: 4.414e+03\n",
      "Objective function changes for L: -1.16e-10, G: -6.13e-09, Lx: -5.17e-11, X: 6.17e-10, Sigma: -2.67e-14\n",
      "Total Objective Function Value at iter 200: 4.414e+03\n",
      "Objective function changes for L: -1.06e-10, G: -5.75e-09, Lx: -4.81e-11, X: 5.92e-10, Sigma: -2.47e-14\n",
      "Total Objective Function Value at iter 201: 4.414e+03\n",
      "Objective function changes for L: -1.01e-10, G: -5.38e-09, Lx: -4.47e-11, X: 5.68e-10, Sigma: -2.29e-14\n",
      "Total Objective Function Value at iter 202: 4.414e+03\n",
      "Objective function changes for L: -9.37e-11, G: -5.04e-09, Lx: -4.16e-11, X: 5.46e-10, Sigma: -2.12e-14\n",
      "Total Objective Function Value at iter 203: 4.414e+03\n",
      "Objective function changes for L: -8.91e-11, G: -4.73e-09, Lx: -3.87e-11, X: 5.24e-10, Sigma: -1.96e-14\n",
      "Total Objective Function Value at iter 204: 4.414e+03\n",
      "Objective function changes for L: -8.00e-11, G: -4.43e-09, Lx: -3.60e-11, X: 5.03e-10, Sigma: -1.82e-14\n",
      "Total Objective Function Value at iter 205: 4.414e+03\n",
      "Objective function changes for L: -7.64e-11, G: -4.15e-09, Lx: -3.35e-11, X: 4.83e-10, Sigma: -1.69e-14\n",
      "Total Objective Function Value at iter 206: 4.414e+03\n",
      "Objective function changes for L: -7.19e-11, G: -3.89e-09, Lx: -3.12e-11, X: 4.64e-10, Sigma: -1.56e-14\n",
      "Total Objective Function Value at iter 207: 4.414e+03\n",
      "Objective function changes for L: -6.64e-11, G: -3.65e-09, Lx: -2.90e-11, X: 4.45e-10, Sigma: -1.45e-14\n",
      "Total Objective Function Value at iter 208: 4.414e+03\n",
      "Objective function changes for L: -6.09e-11, G: -3.42e-09, Lx: -2.70e-11, X: 4.28e-10, Sigma: -1.34e-14\n",
      "Total Objective Function Value at iter 209: 4.414e+03\n",
      "Objective function changes for L: -5.64e-11, G: -3.21e-09, Lx: -2.51e-11, X: 4.11e-10, Sigma: -1.25e-14\n",
      "Total Objective Function Value at iter 210: 4.414e+03\n",
      "Objective function changes for L: -5.28e-11, G: -3.01e-09, Lx: -2.34e-11, X: 3.95e-10, Sigma: -1.15e-14\n",
      "Total Objective Function Value at iter 211: 4.414e+03\n",
      "Objective function changes for L: -4.82e-11, G: -2.82e-09, Lx: -2.18e-11, X: 3.79e-10, Sigma: -1.07e-14\n",
      "Total Objective Function Value at iter 212: 4.414e+03\n",
      "Objective function changes for L: -4.55e-11, G: -2.64e-09, Lx: -2.03e-11, X: 3.64e-10, Sigma: -9.93e-15\n",
      "Total Objective Function Value at iter 213: 4.414e+03\n",
      "Objective function changes for L: -4.27e-11, G: -2.48e-09, Lx: -1.89e-11, X: 3.50e-10, Sigma: -9.22e-15\n",
      "Total Objective Function Value at iter 214: 4.414e+03\n",
      "Objective function changes for L: -4.09e-11, G: -2.33e-09, Lx: -1.76e-11, X: 3.36e-10, Sigma: -8.53e-15\n",
      "Total Objective Function Value at iter 215: 4.414e+03\n",
      "Objective function changes for L: -3.64e-11, G: -2.18e-09, Lx: -1.64e-11, X: 3.23e-10, Sigma: -7.93e-15\n",
      "Total Objective Function Value at iter 216: 4.414e+03\n",
      "Objective function changes for L: -3.46e-11, G: -2.05e-09, Lx: -1.52e-11, X: 3.11e-10, Sigma: -7.34e-15\n",
      "Total Objective Function Value at iter 217: 4.414e+03\n",
      "Objective function changes for L: -3.27e-11, G: -1.92e-09, Lx: -1.42e-11, X: 2.99e-10, Sigma: -6.86e-15\n",
      "Total Objective Function Value at iter 218: 4.414e+03\n",
      "Objective function changes for L: -3.00e-11, G: -1.80e-09, Lx: -1.32e-11, X: 2.87e-10, Sigma: -6.33e-15\n",
      "Total Objective Function Value at iter 219: 4.414e+03\n",
      "Objective function changes for L: -2.91e-11, G: -1.69e-09, Lx: -1.23e-11, X: 2.76e-10, Sigma: -5.88e-15\n",
      "Total Objective Function Value at iter 220: 4.414e+03\n",
      "Objective function changes for L: -2.46e-11, G: -1.59e-09, Lx: -1.15e-11, X: 2.66e-10, Sigma: -5.47e-15\n",
      "Total Objective Function Value at iter 221: 4.414e+03\n",
      "Objective function changes for L: -2.36e-11, G: -1.49e-09, Lx: -1.07e-11, X: 2.56e-10, Sigma: -5.07e-15\n",
      "Total Objective Function Value at iter 222: 4.414e+03\n",
      "Objective function changes for L: -2.27e-11, G: -1.40e-09, Lx: -9.95e-12, X: 2.46e-10, Sigma: -4.70e-15\n",
      "Total Objective Function Value at iter 223: 4.414e+03\n",
      "Objective function changes for L: -2.00e-11, G: -1.31e-09, Lx: -9.27e-12, X: 2.36e-10, Sigma: -4.36e-15\n",
      "Total Objective Function Value at iter 224: 4.414e+03\n",
      "Objective function changes for L: -1.91e-11, G: -1.23e-09, Lx: -8.64e-12, X: 2.27e-10, Sigma: -4.07e-15\n",
      "Total Objective Function Value at iter 225: 4.414e+03\n",
      "Objective function changes for L: -1.82e-11, G: -1.15e-09, Lx: -8.05e-12, X: 2.19e-10, Sigma: -3.76e-15\n",
      "Total Objective Function Value at iter 226: 4.414e+03\n",
      "Objective function changes for L: -1.64e-11, G: -1.08e-09, Lx: -7.50e-12, X: 2.11e-10, Sigma: -3.50e-15\n",
      "Total Objective Function Value at iter 227: 4.414e+03\n",
      "Objective function changes for L: -1.46e-11, G: -1.02e-09, Lx: -6.99e-12, X: 2.03e-10, Sigma: -3.25e-15\n",
      "Total Objective Function Value at iter 228: 4.414e+03\n",
      "Objective function changes for L: -1.36e-11, G: -9.55e-10, Lx: -6.52e-12, X: 1.95e-10, Sigma: -3.02e-15\n",
      "Total Objective Function Value at iter 229: 4.414e+03\n",
      "Objective function changes for L: -1.36e-11, G: -8.96e-10, Lx: -6.07e-12, X: 1.88e-10, Sigma: -2.80e-15\n",
      "Total Objective Function Value at iter 230: 4.414e+03\n",
      "Objective function changes for L: -1.18e-11, G: -8.42e-10, Lx: -5.66e-12, X: 1.81e-10, Sigma: -2.61e-15\n",
      "Total Objective Function Value at iter 231: 4.414e+03\n"
     ]
    }
   ],
   "source": [
    "G_inv = [np.linalg.inv(gamma[i]*Phi[i] + alpha[0][i]*np.identity(sizes[i])) for i in range(n)]\n",
    "max_iter = 500\n",
    "err_tol = 1e-3\n",
    "iter = 0\n",
    "fval_tot = []\n",
    "lam_val = []\n",
    "# ADMM Loop\n",
    "while True:\n",
    "    # L Update\n",
    "    prev_val = fn_val_L(L, Y, Lx, G_var, Lambda[:2], alpha[:2])[0]\n",
    "    temp = np.zeros(sizes)\n",
    "    for i in range(n):\n",
    "        temp += alpha[0][i]*(G_var[i] + Lambda[0][i])\n",
    "        temp += alpha[1][i]*(Lx[i] + Lambda[1][i])\n",
    "    L = temp/(1+sum(alpha[0]) + sum(alpha[1]))\n",
    "    L[~Y.mask] = L[~Y.mask] + Y[~Y.mask]/(sum(alpha[0]) + sum(alpha[1]) + 1)\n",
    "    fval_data = fn_val_L(L, Y, Lx, G_var, Lambda[:2], alpha[:2])\n",
    "    fval_data_change = fval_data[0]-prev_val\n",
    "    \n",
    "    # G Update\n",
    "    prev_val = fn_val_G(G_var, L, Phi, Lambda[0], alpha[0], gamma)[0]\n",
    "    G_var = [m2t(alpha[0][i]*G_inv[i]*t2m(L-Lambda[0][i], i), sizes, i) for i in range(n)]\n",
    "    fval_G = fn_val_G(G_var, L, Phi, Lambda[0], alpha[0], gamma)\n",
    "    fval_G_change = fval_G[0] - prev_val\n",
    "\n",
    "    # Lx Update\n",
    "    prev_val = fnval_L(Lx, L, X, Lambda[1:], Sigma, alpha[1:])[0]\n",
    "    Lx, fval_L, fval_low, _, _ = update_L(Lx, L, X, Lambda[1:], Sigma, alpha[1:], track_fval=True)\n",
    "    fval_L_change = fval_L - prev_val\n",
    "\n",
    "    # X Update\n",
    "    prev_val = sum(fnval_X(X,Lx,Lambda[2:],Sigma,alpha[2:])[1])\n",
    "    X, _, fval_X, _ = update_X(X, Lx, Lambda[2:], Sigma, alpha[2:], track_fval=True)\n",
    "    fval_X_change = sum(fval_X) - prev_val\n",
    "\n",
    "    # Sigma Update \n",
    "    prev_val = fnval_Sigma(Sigma, Lx, X, Phi, Lambda[3], alpha[3], theta)[0]\n",
    "    Sigma, fval_Sigma, _, _ = update_Sigma(Sigma, Lx, X, Phi, Lambda[3], alpha[3], theta, track_fval=True)\n",
    "    fval_Sigma_change = fval_Sigma - prev_val\n",
    "    \n",
    "    fval_tot.append(fval_data[1] + fval_G[0] + sum(fval_low) + sum(fval_X) + fval_Sigma)\n",
    "    print('Objective function changes for L: {:.2e}, G: {:.2e}, Lx: {:.2e}, X: {:.2e}, Sigma: {:.2e}'.format(\n",
    "        fval_data_change,\n",
    "        fval_G_change,\n",
    "        fval_L_change,\n",
    "        fval_X_change,\n",
    "        fval_Sigma_change\n",
    "    ))\n",
    "    print('Total Objective Function Value at iter {}: {:.3e}'.format(iter, fval_tot[-1]))\n",
    "    # Dual Update\n",
    "    Lambda, _, norm_lambda = update_Lambda(Lambda,L,Lx,X,G_var,Sigma)\n",
    "    lam_val.append(norm_lambda)\n",
    "    if iter==max_iter:\n",
    "        break\n",
    "    if norm_lambda<=err_tol:\n",
    "        break\n",
    "    iter += 1"
   ]
  },
  {
   "cell_type": "code",
   "execution_count": 55,
   "metadata": {},
   "outputs": [
    {
     "data": {
      "text/plain": [
       "[<matplotlib.lines.Line2D at 0x2732b29e1c0>]"
      ]
     },
     "execution_count": 55,
     "metadata": {},
     "output_type": "execute_result"
    },
    {
     "data": {
      "image/png": "[encoded data removed]",
      "text/plain": [
       "<Figure size 432x288 with 1 Axes>"
      ]
     },
     "metadata": {
      "needs_background": "light"
     },
     "output_type": "display_data"
    }
   ],
   "source": [
    "plt.semilogy(lam_val)"
   ]
  },
  {
   "cell_type": "markdown",
   "metadata": {},
   "source": [
    "## Examine Results\n",
    "Let's see how our algorithm performed. Starting with normalized error from the original signal."
   ]
  },
  {
   "cell_type": "code",
   "execution_count": 56,
   "metadata": {},
   "outputs": [
    {
     "name": "stdout",
     "output_type": "stream",
     "text": [
      "Normalized error of the output: 0.57\n",
      "Normalized error of the input: 1.01\n"
     ]
    }
   ],
   "source": [
    "print('Normalized error of the output: {:.2f}'.format(norm(X_smooth-L)/norm(X_smooth)))\n",
    "print('Normalized error of the input: {:.2f}'.format(norm(X_smooth-Y)/norm(X_smooth)))\n"
   ]
  },
  {
   "cell_type": "code",
   "execution_count": 57,
   "metadata": {},
   "outputs": [
    {
     "name": "stdout",
     "output_type": "stream",
     "text": [
      "The smoothness value for X is: 390.79, while for L it is: 78.81\n",
      "Ratio is (X/L): 4.958740\n",
      "The smoothness value for X is: 365.17, while for L it is: 88.40\n",
      "Ratio is (X/L): 4.130990\n",
      "The smoothness value for X is: 572.03, while for L it is: 83.63\n",
      "Ratio is (X/L): 6.839652\n",
      "The smoothness value for X is: 569.82, while for L it is: 150.12\n",
      "Ratio is (X/L): 3.795776\n"
     ]
    }
   ],
   "source": [
    "for i in range(n):\n",
    "    x_smooth_val = np.trace(t2m(X_smooth,i).transpose()@Phi[i]@t2m(X_smooth,i))\n",
    "    l_smooth_val = np.trace(t2m(L,i).transpose()@Phi[i]@t2m(L,i))\n",
    "    print('The smoothness value for X is: {:.2f}, while for L it is: {:.2f}'.format(\n",
    "        x_smooth_val,\n",
    "        l_smooth_val\n",
    "        )\n",
    "    )\n",
    "    print('Ratio is (X/L): {:.6f}'.format(x_smooth_val/l_smooth_val))"
   ]
  },
  {
   "cell_type": "code",
   "execution_count": 58,
   "metadata": {},
   "outputs": [
    {
     "name": "stdout",
     "output_type": "stream",
     "text": [
      "The smoothness value for Y is: 1.8324e+03, while for L it is: 7.8809e+01\n",
      "Ratio is (Y/L): 23.251023\n",
      "The smoothness value for Y is: 1.9575e+03, while for L it is: 8.8398e+01\n",
      "Ratio is (Y/L): 22.144421\n",
      "The smoothness value for Y is: 2.5920e+03, while for L it is: 8.3634e+01\n",
      "Ratio is (Y/L): 30.992271\n",
      "The smoothness value for Y is: 2.1367e+03, while for L it is: 1.5012e+02\n",
      "Ratio is (Y/L): 14.233097\n"
     ]
    }
   ],
   "source": [
    "for i in range(n):\n",
    "    x_smooth_val = np.trace(t2m(Y.data,i).transpose()@Phi[i]@t2m(Y.data,i))\n",
    "    l_smooth_val = np.trace(t2m(L,i).transpose()@Phi[i]@t2m(L,i))\n",
    "    print('The smoothness value for Y is: {:.4e}, while for L it is: {:.4e}'.format(\n",
    "        x_smooth_val,\n",
    "        l_smooth_val\n",
    "        )\n",
    "    )\n",
    "    print('Ratio is (Y/L): {:.6f}'.format(x_smooth_val/l_smooth_val))"
   ]
  },
  {
   "cell_type": "code",
   "execution_count": 59,
   "metadata": {},
   "outputs": [
    {
     "data": {
      "image/png": "[encoded data removed]",
      "text/plain": [
       "<Figure size 432x288 with 2 Axes>"
      ]
     },
     "metadata": {
      "needs_background": "light"
     },
     "output_type": "display_data"
    },
    {
     "data": {
      "image/png": "[encoded data removed]",
      "text/plain": [
       "<Figure size 432x288 with 2 Axes>"
      ]
     },
     "metadata": {
      "needs_background": "light"
     },
     "output_type": "display_data"
    },
    {
     "data": {
      "image/png": "[encoded data removed]",
      "text/plain": [
       "<Figure size 432x288 with 2 Axes>"
      ]
     },
     "metadata": {
      "needs_background": "light"
     },
     "output_type": "display_data"
    },
    {
     "data": {
      "image/png": "[encoded data removed]",
      "text/plain": [
       "<Figure size 432x288 with 2 Axes>"
      ]
     },
     "metadata": {
      "needs_background": "light"
     },
     "output_type": "display_data"
    }
   ],
   "source": [
    "# Plot stationarity for Y\n",
    "for i in range(n):\n",
    "    P_Y = V[i].transpose()@t2m(Y.data,i)\n",
    "    cov = P_Y@P_Y.transpose()\n",
    "    plt.imshow(np.log10(abs(cov)))\n",
    "    plt.colorbar()\n",
    "    plt.show()"
   ]
  },
  {
   "cell_type": "code",
   "execution_count": 60,
   "metadata": {},
   "outputs": [
    {
     "data": {
      "image/png": "[encoded data removed]",
      "text/plain": [
       "<Figure size 432x288 with 2 Axes>"
      ]
     },
     "metadata": {
      "needs_background": "light"
     },
     "output_type": "display_data"
    },
    {
     "data": {
      "image/png": "[encoded data removed]",
      "text/plain": [
       "<Figure size 432x288 with 2 Axes>"
      ]
     },
     "metadata": {
      "needs_background": "light"
     },
     "output_type": "display_data"
    },
    {
     "data": {
      "image/png": "[encoded data removed]",
      "text/plain": [
       "<Figure size 432x288 with 2 Axes>"
      ]
     },
     "metadata": {
      "needs_background": "light"
     },
     "output_type": "display_data"
    },
    {
     "data": {
      "image/png": "[encoded data removed]",
      "text/plain": [
       "<Figure size 432x288 with 2 Axes>"
      ]
     },
     "metadata": {
      "needs_background": "light"
     },
     "output_type": "display_data"
    }
   ],
   "source": [
    "# Plot stationarity for L\n",
    "for i in range(n):\n",
    "    P_L = V[i].transpose()@t2m(L,i)\n",
    "    cov = P_L@P_L.transpose()\n",
    "    plt.imshow(np.log10(abs(cov)))\n",
    "    plt.colorbar()\n",
    "    plt.show()"
   ]
  },
  {
   "cell_type": "code",
   "execution_count": 61,
   "metadata": {},
   "outputs": [
    {
     "data": {
      "image/png": "[encoded data removed]",
      "text/plain": [
       "<Figure size 432x288 with 1 Axes>"
      ]
     },
     "metadata": {
      "needs_background": "light"
     },
     "output_type": "display_data"
    }
   ],
   "source": [
    "plt.semilogy(fval_tot[7:]-min(fval_tot[7:]))\n",
    "plt.show()"
   ]
  },
  {
   "cell_type": "code",
   "execution_count": 62,
   "metadata": {},
   "outputs": [
    {
     "name": "stdout",
     "output_type": "stream",
     "text": [
      "Function value of original signal: 4.4e+03\n"
     ]
    }
   ],
   "source": [
    "# Function value for original X\n",
    "X_rep = [X_smooth for i in range(n)]\n",
    "err_orig = fn_val_L(X_smooth, Y, Lx, G_var, Lambda[:2], alpha[:2])[1]\n",
    "smooth_orig = fn_val_G(X_rep, X_smooth, Phi, Lambda[0], alpha[0], gamma)[1]\n",
    "x_sigma = [t2m(X_smooth,i)@t2m(X_smooth,i).transpose() for i in range(n)]\n",
    "comm_orig = fnval_Sigma(x_sigma, Lx, X, Phi, Lambda[3], alpha[3], theta)[1]\n",
    "\n",
    "orig_fn_val = sum(err_orig + smooth_orig + comm_orig)\n",
    "print('Function value of original signal: {:.1e}'.format(orig_fn_val))"
   ]
  },
  {
   "cell_type": "code",
   "execution_count": 63,
   "metadata": {},
   "outputs": [
    {
     "name": "stdout",
     "output_type": "stream",
     "text": [
      "Function value of the output signal: 3.2e+03\n"
     ]
    }
   ],
   "source": [
    "# Function value for learned L\n",
    "L_rep = [L for i in range(n)]\n",
    "err_l = fn_val_L(L, Y, Lx, G_var, Lambda[:2], alpha[:2])[1]\n",
    "smooth_l = fn_val_G(L_rep, L, Phi, Lambda[0], alpha[0], gamma)[1]\n",
    "l_sigma = [t2m(L,i)@t2m(L,i).transpose() for i in range(n)]\n",
    "comm_l = fnval_Sigma(l_sigma, Lx, X, Phi, Lambda[3], alpha[3], theta)[1]\n",
    "\n",
    "l_fn_val = sum(err_l + smooth_l + comm_l)\n",
    "print('Function value of the output signal: {:.1e}'.format(l_fn_val))"
   ]
  },
  {
   "cell_type": "code",
   "execution_count": 64,
   "metadata": {},
   "outputs": [
    {
     "name": "stdout",
     "output_type": "stream",
     "text": [
      "791.2816597987998\n",
      "730.0019030840446\n"
     ]
    }
   ],
   "source": [
    "print(err_orig)\n",
    "print(err_l)"
   ]
  },
  {
   "cell_type": "code",
   "execution_count": 65,
   "metadata": {},
   "outputs": [
    {
     "name": "stdout",
     "output_type": "stream",
     "text": [
      "1197.4348162898873\n",
      "252.98806380581124\n"
     ]
    }
   ],
   "source": [
    "print(sum(smooth_orig))\n",
    "print(sum(smooth_l))"
   ]
  },
  {
   "cell_type": "code",
   "execution_count": 66,
   "metadata": {},
   "outputs": [
    {
     "name": "stdout",
     "output_type": "stream",
     "text": [
      "0.32061170465524963\n",
      "0.032241697285923375\n"
     ]
    }
   ],
   "source": [
    "print(sum(comm_orig))\n",
    "print(sum(comm_l))"
   ]
  },
  {
   "cell_type": "code",
   "execution_count": 67,
   "metadata": {},
   "outputs": [],
   "source": [
    "# Ymat = t2m(Y.data, 0)\n",
    "# cov = Ymat@Ymat.transpose()\n",
    "\n",
    "# fig, ax = plt.subplots(figsize = (15,15))\n",
    "# im = ax.imshow(cov)\n",
    "\n",
    "# for i in range(cov.shape[0]):\n",
    "#     for j in range(cov.shape[1]):\n",
    "#         text = ax.text(j, i, np.round(np.log10(cov[i, j]), 2) ,\n",
    "#                        ha=\"center\", va=\"center\", color=\"w\")"
   ]
  },
  {
   "cell_type": "code",
   "execution_count": null,
   "metadata": {},
   "outputs": [],
   "source": []
  }
 ],
 "metadata": {
  "interpreter": {
   "hash": "a31061215d61cc9664fbbf891d1f871c44572af5775a986a0146f7ff7de68731"
  },
  "kernelspec": {
   "display_name": "Python 3.9.7 64-bit ('base': conda)",
   "language": "python",
   "name": "python3"
  },
  "language_info": {
   "codemirror_mode": {
    "name": "ipython",
    "version": 3
   },
   "file_extension": ".py",
   "mimetype": "text/x-python",
   "name": "python",
   "nbconvert_exporter": "python",
   "pygments_lexer": "ipython3",
   "version": "3.9.7"
  },
  "orig_nbformat": 4
 },
 "nbformat": 4,
 "nbformat_minor": 2
}
