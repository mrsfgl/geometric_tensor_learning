{
 "cells": [
  {
   "cell_type": "markdown",
   "metadata": {},
   "source": [
    "# Geometric Tensor Learning\n",
    "---"
   ]
  },
  {
   "cell_type": "code",
   "execution_count": 1,
   "metadata": {},
   "outputs": [],
   "source": [
    "import numpy as np\n",
    "from numpy.linalg import norm\n",
    "import matplotlib.pyplot as plt\n",
    "import networkx as nx\n",
    "\n",
    "import project_path\n",
    "\n",
    "from util.srpg import srpg_nnfold_modified as nnfold\n",
    "from util.srpg import gmlsvd\n",
    "from util.t2m import t2m\n",
    "from util.m2t import m2t\n",
    "from util.hosvd import hosvd\n",
    "from util.geoTL import geoTL\n",
    "from util.geoTL import initialize_nograd\n",
    "from util.update_Sigma import fn_val as fnval_Sigma\n",
    "from util.generate_data import generate_smooth_stationary_data\n",
    "from util.contaminate_data import contaminate_signal\n",
    "from util.fn_vals import fn_val_L\n",
    "from util.fn_vals import fn_val_G"
   ]
  },
  {
   "cell_type": "code",
   "execution_count": 2,
   "metadata": {},
   "outputs": [],
   "source": [
    "sizes = (15,5,5,5)\n",
    "ranks = (8,3,3,3)\n",
    "n = len(sizes)"
   ]
  },
  {
   "cell_type": "markdown",
   "metadata": {},
   "source": [
    "## Generate Graphs\n",
    "In this part, we create Erdos-Renyi graphs for each mode."
   ]
  },
  {
   "cell_type": "code",
   "execution_count": 3,
   "metadata": {},
   "outputs": [
    {
     "data": {
      "text/plain": [
       "[<matplotlib.lines.Line2D at 0x15ff1aa1a60>]"
      ]
     },
     "execution_count": 3,
     "metadata": {},
     "output_type": "execute_result"
    },
    {
     "data": {
      "image/png": "[encoded data removed]",
      "text/plain": [
       "<Figure size 432x288 with 1 Axes>"
      ]
     },
     "metadata": {
      "needs_background": "light"
     },
     "output_type": "display_data"
    }
   ],
   "source": [
    "d = 1.1\n",
    "G = [nx.erdos_renyi_graph(sizes[i], d*np.log(sizes[i])/sizes[i]) for i in range(n)] # List of graphs for each mode\n",
    "Phi = [nx.laplacian_matrix(G[i]).todense() for i in range(n)] # Graph Laplacians of these graphs\n",
    "U, S, V = np.linalg.svd(Phi[0])\n",
    "ind = np.argsort(S)[::-1]\n",
    "plt.plot(S[ind])"
   ]
  },
  {
   "cell_type": "markdown",
   "metadata": {},
   "source": [
    "## Data Generation Methods\n",
    "\n",
    "In this part, we try to generate data smooth and stationary on the product graph."
   ]
  },
  {
   "cell_type": "code",
   "execution_count": 4,
   "metadata": {},
   "outputs": [],
   "source": [
    "## Generate data by multiplying the eigenvectors of the Graph Laplacian\n",
    "# with i.i.d. Gaussian noise with variance given by the eigenvalues of the Laplacian.\n",
    "\n",
    "X_smooth, V = generate_smooth_stationary_data(Phi)\n"
   ]
  },
  {
   "cell_type": "markdown",
   "metadata": {},
   "source": [
    "Let's see how stationarity looks like."
   ]
  },
  {
   "cell_type": "code",
   "execution_count": 5,
   "metadata": {},
   "outputs": [],
   "source": [
    "for i in range(n):\n",
    "    P_X = V[i].transpose()@t2m(X_smooth,i)\n",
    "    psd = P_X@P_X.transpose()\n",
    "    # plt.imshow(np.log10(abs(psd)))\n",
    "    # plt.colorbar()\n",
    "    # plt.show()"
   ]
  },
  {
   "cell_type": "markdown",
   "metadata": {},
   "source": [
    "## The Algorithm\n",
    "\n",
    "In below, we add noise to data and run our algorithm to recover the original signal back."
   ]
  },
  {
   "cell_type": "code",
   "execution_count": 6,
   "metadata": {},
   "outputs": [],
   "source": [
    "# Contaminate data.\n",
    "Y = contaminate_signal(X_smooth, target_SNR=10)\n"
   ]
  },
  {
   "cell_type": "code",
   "execution_count": 7,
   "metadata": {},
   "outputs": [],
   "source": [
    "ranks = [5,5,5,5]\n",
    "X, obj_val, lam_val = nnfold(Y, Phi)"
   ]
  },
  {
   "cell_type": "code",
   "execution_count": 9,
   "metadata": {},
   "outputs": [
    {
     "data": {
      "text/plain": [
       "0.9715561726423284"
      ]
     },
     "execution_count": 9,
     "metadata": {},
     "output_type": "execute_result"
    }
   ],
   "source": [
    "norm(X_smooth-X[0])/norm(X_smooth)"
   ]
  },
  {
   "cell_type": "code",
   "execution_count": null,
   "metadata": {},
   "outputs": [
    {
     "name": "stdout",
     "output_type": "stream",
     "text": [
      "smoothness of the original data: 117.44\n",
      "smoothness of the noisy data: 135.94\n",
      "smoothness of the output: 18.42\n",
      "smoothness of the original data: 54.90\n",
      "smoothness of the noisy data: 62.67\n",
      "smoothness of the output: 6.78\n",
      "smoothness of the original data: 51.26\n",
      "smoothness of the noisy data: 56.85\n",
      "smoothness of the output: 7.31\n",
      "smoothness of the original data: 38.42\n",
      "smoothness of the noisy data: 45.36\n",
      "smoothness of the output: 6.29\n"
     ]
    }
   ],
   "source": [
    "for i in range(n):\n",
    "    print('smoothness of the original data: {:.2f}'.format(np.trace(t2m(X_smooth,i).transpose()@Phi[i]@t2m(X_smooth,i))))\n",
    "    print('smoothness of the noisy data: {:.2f}'.format(np.trace(t2m(Y.data,i).transpose()@Phi[i]@t2m(Y.data,i))))\n",
    "    print('smoothness of the output: {:.2f}'.format(np.trace(t2m(X,i).transpose()@Phi[i]@t2m(X,i))))"
   ]
  },
  {
   "cell_type": "code",
   "execution_count": null,
   "metadata": {},
   "outputs": [
    {
     "name": "stdout",
     "output_type": "stream",
     "text": [
      "1.7998241146084473\n",
      "82\n",
      "Ratio of degrees to off diagonal mismatch is: 45.560007410968126\n",
      "1.7071110699863872\n",
      "16\n",
      "Ratio of degrees to off diagonal mismatch is: 9.372559455154601\n",
      "3.599786637504117\n",
      "12\n",
      "Ratio of degrees to off diagonal mismatch is: 3.333530902909319\n",
      "0.6378334910379986\n",
      "10\n",
      "Ratio of degrees to off diagonal mismatch is: 15.678072946163711\n"
     ]
    }
   ],
   "source": [
    "for i in range(n):\n",
    "    P_Y = V[i].transpose()@t2m(Y.data,i)\n",
    "    cov = t2m(Y.data,i)@t2m(Y.data,i).transpose()\n",
    "    psd_y = np.array(P_Y@P_Y.transpose())\n",
    "    psd_off_diag = norm(psd_y.ravel(), ord=1) - np.trace(psd_y)\n",
    "    cov_off_diag = norm(cov.ravel(), ord=1) - np.trace(cov)\n",
    "    print(cov_off_diag/psd_off_diag)\n",
    "    print(np.trace(Phi[i]))\n",
    "    print('Ratio of degrees to off diagonal mismatch is: {}'.format(np.trace(Phi[i])/(cov_off_diag/psd_off_diag)))"
   ]
  },
  {
   "cell_type": "code",
   "execution_count": null,
   "metadata": {},
   "outputs": [],
   "source": [
    "L, G_var, Lx, X, Sigma, Lambda, gamma, theta, alpha = initialize_nograd(sizes)"
   ]
  },
  {
   "cell_type": "code",
   "execution_count": null,
   "metadata": {},
   "outputs": [
    {
     "name": "stdout",
     "output_type": "stream",
     "text": [
      "Ratio is (Y/X): 2.183965\n",
      "Ratio is (Y/X): 1.999965\n",
      "Ratio is (Y/X): 2.058381\n",
      "Ratio is (Y/X): 2.367439\n"
     ]
    }
   ],
   "source": [
    "for i in range(n):\n",
    "    x_smooth_val = np.trace(t2m(Y.data,i).transpose()@Phi[i]@t2m(Y.data,i))\n",
    "    y_smooth_val = np.trace(t2m(X_smooth,i).transpose()@Phi[i]@t2m(X_smooth,i))\n",
    "    print('Ratio is (Y/X): {:.6f}'.format(x_smooth_val/y_smooth_val))"
   ]
  },
  {
   "cell_type": "code",
   "execution_count": null,
   "metadata": {},
   "outputs": [
    {
     "name": "stdout",
     "output_type": "stream",
     "text": [
      "The smoothness value for Y at mode 0 is: 0.0595\n",
      "The commutativity value for Y at mode 0 is: 0.0107\n",
      "The smoothness value for Y at mode 1 is: 0.0413\n",
      "The commutativity value for Y at mode 1 is: 0.0012\n",
      "The smoothness value for Y at mode 2 is: 0.0267\n",
      "The commutativity value for Y at mode 2 is: 0.0006\n",
      "The smoothness value for Y at mode 3 is: 0.0231\n",
      "The commutativity value for Y at mode 3 is: 0.0005\n"
     ]
    }
   ],
   "source": [
    "\n",
    "Y_rep = [Y.data for i in range(n)]\n",
    "gamma = [gamma[i] for i in range(n)]\n",
    "theta = [theta[i] for i in range(n)]\n",
    "y_sigma = [t2m(Y.data,i)@t2m(Y.data,i).transpose() for i in range(n)]\n",
    "y_smooth_val = fn_val_G(Y_rep, Y.data, Phi, Lambda[0], alpha[0], gamma)[1]\n",
    "comm_y = fnval_Sigma(y_sigma, Lx, X, Phi, Lambda[3], alpha[3], theta)[1]\n",
    "var_y = np.var(Y.data)\n",
    "for i in range(n):\n",
    "    gamma[i] = var_y*sizes[i]**2/(25*d**2)\n",
    "    theta[i] = sizes[i]**4/(d**4*10**7)\n",
    "    print('The smoothness value for Y at mode {} is: {:.4f}'.format(i,y_smooth_val[i])\n",
    "    )\n",
    "    print('The commutativity value for Y at mode {} is: {:.4f}'.format(i,comm_y[i])\n",
    "    )\n",
    "\n"
   ]
  },
  {
   "cell_type": "code",
   "execution_count": null,
   "metadata": {},
   "outputs": [],
   "source": [
    "# Function value for noisy Y\n",
    "err_orig = fn_val_L(Y.data, Y, Lx, G_var, Lambda[:2], alpha[:2])[1]\n",
    "\n",
    "# print('Error value of noisy signal: {:.1e}'.format(err_orig))\n",
    "# print('Smoothness value of noisy signal: {:.1e}'.format(sum(y_smooth_val)))\n",
    "# print('Commutivity value of noisy signal: {:.1e}'.format(sum(comm_y)))"
   ]
  },
  {
   "cell_type": "code",
   "execution_count": null,
   "metadata": {},
   "outputs": [],
   "source": [
    "# Function value for original X\n",
    "X_rep = [X_smooth for i in range(n)]\n",
    "err_orig = fn_val_L(X_smooth, Y, Lx, G_var, Lambda[:2], alpha[:2])[1]\n",
    "smooth_orig = fn_val_G(X_rep, X_smooth, Phi, Lambda[0], alpha[0], gamma)[1]\n",
    "x_sigma = [t2m(X_smooth,i)@t2m(X_smooth,i).transpose() for i in range(n)]\n",
    "comm_orig = fnval_Sigma(x_sigma, Lx, X, Phi, Lambda[3], alpha[3], theta)[1]\n",
    "\n",
    "# print('Error value of original signal: {:.1e}'.format(err_orig))\n",
    "# print('Smoothness value of original signal: {:.1e}'.format(sum(smooth_orig)))\n",
    "# print('Commutivity value of original signal: {:.1e}'.format(sum(comm_orig)))"
   ]
  },
  {
   "cell_type": "code",
   "execution_count": null,
   "metadata": {},
   "outputs": [
    {
     "name": "stdout",
     "output_type": "stream",
     "text": [
      "Objective function changes for L: -2.94e+01, G: -4.49e-02, Lx: -4.18e+00, X: -2.05e+00, Sigma: -2.99e+01\n",
      "Total Objective Function Value at iter 0: 5.663e+00\n",
      "Objective function changes for L: -1.69e-04, G: -4.83e-03, Lx: -4.81e+00, X: -1.79e+00, Sigma: -1.70e-01\n",
      "Total Objective Function Value at iter 1: 5.660e+00\n",
      "Objective function changes for L: -7.40e-01, G: -6.51e-03, Lx: -1.11e+00, X: -9.50e-01, Sigma: -1.34e-01\n",
      "Total Objective Function Value at iter 2: 3.128e+00\n",
      "Objective function changes for L: -3.02e-01, G: -5.99e-03, Lx: -3.46e-01, X: -2.60e-01, Sigma: -5.47e-02\n",
      "Total Objective Function Value at iter 3: 2.259e+00\n",
      "Objective function changes for L: -2.01e-01, G: -5.77e-03, Lx: -3.79e-02, X: -3.07e-02, Sigma: -7.93e-03\n",
      "Total Objective Function Value at iter 4: 2.558e+00\n",
      "Objective function changes for L: -5.82e-02, G: -5.12e-03, Lx: -2.58e-03, X: -1.86e-03, Sigma: -5.71e-04\n",
      "Total Objective Function Value at iter 5: 3.587e+00\n",
      "Objective function changes for L: -7.90e-03, G: -4.40e-03, Lx: -1.41e-02, X: -1.26e-02, Sigma: -2.98e-03\n",
      "Total Objective Function Value at iter 6: 4.911e+00\n",
      "Objective function changes for L: -4.36e-04, G: -3.70e-03, Lx: -1.68e-02, X: -1.39e-02, Sigma: -3.47e-03\n",
      "Total Objective Function Value at iter 7: 6.367e+00\n",
      "Objective function changes for L: -3.71e-03, G: -3.09e-03, Lx: -1.04e-02, X: -7.74e-03, Sigma: -2.10e-03\n",
      "Total Objective Function Value at iter 8: 7.921e+00\n",
      "Objective function changes for L: -4.68e-03, G: -2.60e-03, Lx: -4.03e-03, X: -2.30e-03, Sigma: -8.11e-04\n",
      "Total Objective Function Value at iter 9: 9.562e+00\n",
      "Objective function changes for L: -3.24e-03, G: -2.20e-03, Lx: -1.03e-03, X: 5.61e-05, Sigma: -2.28e-04\n",
      "Total Objective Function Value at iter 10: 1.128e+01\n",
      "Objective function changes for L: -1.64e-03, G: -1.89e-03, Lx: -2.57e-04, X: 4.74e-04, Sigma: -8.47e-05\n",
      "Total Objective Function Value at iter 11: 1.305e+01\n",
      "Objective function changes for L: -7.22e-04, G: -1.64e-03, Lx: -1.40e-04, X: 3.08e-04, Sigma: -6.50e-05\n",
      "Total Objective Function Value at iter 12: 1.489e+01\n",
      "Objective function changes for L: -3.39e-04, G: -1.45e-03, Lx: -9.29e-05, X: 1.20e-04, Sigma: -5.36e-05\n",
      "Total Objective Function Value at iter 13: 1.677e+01\n",
      "Objective function changes for L: -2.12e-04, G: -1.28e-03, Lx: -7.82e-05, X: 2.29e-06, Sigma: -4.54e-05\n",
      "Total Objective Function Value at iter 14: 1.871e+01\n",
      "Objective function changes for L: -1.85e-04, G: -1.14e-03, Lx: -1.08e-04, X: -5.23e-05, Sigma: -4.60e-05\n",
      "Total Objective Function Value at iter 15: 2.069e+01\n",
      "Objective function changes for L: -1.93e-04, G: -1.01e-03, Lx: -1.45e-04, X: -5.18e-05, Sigma: -4.90e-05\n",
      "Total Objective Function Value at iter 16: 2.272e+01\n",
      "Objective function changes for L: -2.10e-04, G: -9.06e-04, Lx: -1.61e-04, X: -1.69e-05, Sigma: -4.80e-05\n",
      "Total Objective Function Value at iter 17: 2.478e+01\n",
      "Objective function changes for L: -2.21e-04, G: -8.14e-04, Lx: -1.56e-04, X: 2.41e-05, Sigma: -4.28e-05\n",
      "Total Objective Function Value at iter 18: 2.689e+01\n",
      "Objective function changes for L: -2.21e-04, G: -7.34e-04, Lx: -1.42e-04, X: 5.39e-05, Sigma: -3.63e-05\n",
      "Total Objective Function Value at iter 19: 2.902e+01\n",
      "Objective function changes for L: -2.12e-04, G: -6.64e-04, Lx: -1.26e-04, X: 7.07e-05, Sigma: -3.06e-05\n",
      "Total Objective Function Value at iter 20: 3.119e+01\n",
      "Objective function changes for L: -1.97e-04, G: -6.04e-04, Lx: -1.12e-04, X: 7.91e-05, Sigma: -2.63e-05\n",
      "Total Objective Function Value at iter 21: 3.339e+01\n",
      "Objective function changes for L: -1.81e-04, G: -5.51e-04, Lx: -1.01e-04, X: 8.31e-05, Sigma: -2.32e-05\n",
      "Total Objective Function Value at iter 22: 3.562e+01\n",
      "Objective function changes for L: -1.66e-04, G: -5.05e-04, Lx: -9.29e-05, X: 8.39e-05, Sigma: -2.08e-05\n",
      "Total Objective Function Value at iter 23: 3.787e+01\n",
      "Objective function changes for L: -1.54e-04, G: -4.65e-04, Lx: -8.71e-05, X: 8.22e-05, Sigma: -1.89e-05\n",
      "Total Objective Function Value at iter 24: 4.016e+01\n",
      "Objective function changes for L: -1.44e-04, G: -4.30e-04, Lx: -8.25e-05, X: 7.92e-05, Sigma: -1.73e-05\n",
      "Total Objective Function Value at iter 25: 4.247e+01\n",
      "Objective function changes for L: -1.36e-04, G: -3.99e-04, Lx: -7.86e-05, X: 7.63e-05, Sigma: -1.58e-05\n",
      "Total Objective Function Value at iter 26: 4.480e+01\n",
      "Objective function changes for L: -1.29e-04, G: -3.72e-04, Lx: -7.48e-05, X: 7.49e-05, Sigma: -1.44e-05\n",
      "Total Objective Function Value at iter 27: 4.716e+01\n",
      "Objective function changes for L: -1.22e-04, G: -3.48e-04, Lx: -7.12e-05, X: 7.52e-05, Sigma: -1.32e-05\n",
      "Total Objective Function Value at iter 28: 4.954e+01\n",
      "Objective function changes for L: -1.16e-04, G: -3.26e-04, Lx: -6.76e-05, X: 7.66e-05, Sigma: -1.21e-05\n",
      "Total Objective Function Value at iter 29: 5.195e+01\n",
      "Objective function changes for L: -1.11e-04, G: -3.07e-04, Lx: -6.43e-05, X: 7.81e-05, Sigma: -1.11e-05\n",
      "Total Objective Function Value at iter 30: 5.438e+01\n",
      "Objective function changes for L: -1.06e-04, G: -2.90e-04, Lx: -6.12e-05, X: 7.89e-05, Sigma: -1.02e-05\n",
      "Total Objective Function Value at iter 31: 5.684e+01\n",
      "Objective function changes for L: -1.01e-04, G: -2.75e-04, Lx: -5.84e-05, X: 7.86e-05, Sigma: -9.45e-06\n",
      "Total Objective Function Value at iter 32: 5.931e+01\n",
      "Objective function changes for L: -9.62e-05, G: -2.61e-04, Lx: -5.58e-05, X: 7.76e-05, Sigma: -8.77e-06\n",
      "Total Objective Function Value at iter 33: 6.181e+01\n",
      "Objective function changes for L: -9.21e-05, G: -2.49e-04, Lx: -5.35e-05, X: 7.62e-05, Sigma: -8.17e-06\n",
      "Total Objective Function Value at iter 34: 6.433e+01\n",
      "Objective function changes for L: -8.83e-05, G: -2.38e-04, Lx: -5.13e-05, X: 7.50e-05, Sigma: -7.62e-06\n",
      "Total Objective Function Value at iter 35: 6.687e+01\n",
      "Objective function changes for L: -8.48e-05, G: -2.28e-04, Lx: -4.93e-05, X: 7.41e-05, Sigma: -7.13e-06\n",
      "Total Objective Function Value at iter 36: 6.943e+01\n",
      "Objective function changes for L: -8.16e-05, G: -2.19e-04, Lx: -4.74e-05, X: 7.35e-05, Sigma: -6.69e-06\n",
      "Total Objective Function Value at iter 37: 7.202e+01\n",
      "Objective function changes for L: -7.85e-05, G: -2.10e-04, Lx: -4.57e-05, X: 7.29e-05, Sigma: -6.29e-06\n",
      "Total Objective Function Value at iter 38: 7.462e+01\n",
      "Objective function changes for L: -7.57e-05, G: -2.03e-04, Lx: -4.41e-05, X: 7.23e-05, Sigma: -5.93e-06\n",
      "Total Objective Function Value at iter 39: 7.724e+01\n",
      "Objective function changes for L: -7.31e-05, G: -1.96e-04, Lx: -4.25e-05, X: 7.15e-05, Sigma: -5.60e-06\n",
      "Total Objective Function Value at iter 40: 7.989e+01\n",
      "Objective function changes for L: -7.06e-05, G: -1.89e-04, Lx: -4.11e-05, X: 7.06e-05, Sigma: -5.30e-06\n",
      "Total Objective Function Value at iter 41: 8.255e+01\n",
      "Objective function changes for L: -6.83e-05, G: -1.83e-04, Lx: -3.98e-05, X: 6.97e-05, Sigma: -5.03e-06\n",
      "Total Objective Function Value at iter 42: 8.523e+01\n",
      "Objective function changes for L: -6.61e-05, G: -1.78e-04, Lx: -3.85e-05, X: 6.88e-05, Sigma: -4.79e-06\n",
      "Total Objective Function Value at iter 43: 8.793e+01\n",
      "Objective function changes for L: -6.41e-05, G: -1.72e-04, Lx: -3.73e-05, X: 6.80e-05, Sigma: -4.56e-06\n",
      "Total Objective Function Value at iter 44: 9.064e+01\n",
      "Objective function changes for L: -6.21e-05, G: -1.68e-04, Lx: -3.62e-05, X: 6.72e-05, Sigma: -4.36e-06\n",
      "Total Objective Function Value at iter 45: 9.337e+01\n",
      "Objective function changes for L: -6.03e-05, G: -1.63e-04, Lx: -3.51e-05, X: 6.64e-05, Sigma: -4.17e-06\n",
      "Total Objective Function Value at iter 46: 9.612e+01\n",
      "Objective function changes for L: -5.86e-05, G: -1.59e-04, Lx: -3.41e-05, X: 6.56e-05, Sigma: -3.99e-06\n",
      "Total Objective Function Value at iter 47: 9.889e+01\n",
      "Objective function changes for L: -5.70e-05, G: -1.55e-04, Lx: -3.32e-05, X: 6.49e-05, Sigma: -3.83e-06\n",
      "Total Objective Function Value at iter 48: 1.017e+02\n",
      "Objective function changes for L: -5.55e-05, G: -1.51e-04, Lx: -3.23e-05, X: 6.41e-05, Sigma: -3.68e-06\n",
      "Total Objective Function Value at iter 49: 1.045e+02\n",
      "Objective function changes for L: -5.40e-05, G: -1.47e-04, Lx: -3.15e-05, X: 6.34e-05, Sigma: -3.55e-06\n",
      "Total Objective Function Value at iter 50: 1.073e+02\n",
      "Objective function changes for L: -5.26e-05, G: -1.44e-04, Lx: -3.07e-05, X: 6.26e-05, Sigma: -3.42e-06\n",
      "Total Objective Function Value at iter 51: 1.101e+02\n",
      "Objective function changes for L: -5.13e-05, G: -1.41e-04, Lx: -2.99e-05, X: 6.19e-05, Sigma: -3.30e-06\n",
      "Total Objective Function Value at iter 52: 1.130e+02\n",
      "Objective function changes for L: -5.00e-05, G: -1.38e-04, Lx: -2.92e-05, X: 6.12e-05, Sigma: -3.19e-06\n",
      "Total Objective Function Value at iter 53: 1.158e+02\n",
      "Objective function changes for L: -4.88e-05, G: -1.35e-04, Lx: -2.85e-05, X: 6.05e-05, Sigma: -3.08e-06\n",
      "Total Objective Function Value at iter 54: 1.187e+02\n",
      "Objective function changes for L: -4.77e-05, G: -1.32e-04, Lx: -2.78e-05, X: 5.99e-05, Sigma: -2.98e-06\n",
      "Total Objective Function Value at iter 55: 1.216e+02\n",
      "Objective function changes for L: -4.66e-05, G: -1.29e-04, Lx: -2.72e-05, X: 5.92e-05, Sigma: -2.89e-06\n",
      "Total Objective Function Value at iter 56: 1.245e+02\n",
      "Objective function changes for L: -4.55e-05, G: -1.26e-04, Lx: -2.65e-05, X: 5.86e-05, Sigma: -2.81e-06\n",
      "Total Objective Function Value at iter 57: 1.274e+02\n",
      "Objective function changes for L: -4.45e-05, G: -1.24e-04, Lx: -2.60e-05, X: 5.80e-05, Sigma: -2.73e-06\n",
      "Total Objective Function Value at iter 58: 1.303e+02\n",
      "Objective function changes for L: -4.36e-05, G: -1.21e-04, Lx: -2.54e-05, X: 5.74e-05, Sigma: -2.65e-06\n",
      "Total Objective Function Value at iter 59: 1.332e+02\n",
      "Objective function changes for L: -4.27e-05, G: -1.19e-04, Lx: -2.49e-05, X: 5.68e-05, Sigma: -2.58e-06\n",
      "Total Objective Function Value at iter 60: 1.362e+02\n",
      "Objective function changes for L: -4.18e-05, G: -1.17e-04, Lx: -2.43e-05, X: 5.62e-05, Sigma: -2.51e-06\n",
      "Total Objective Function Value at iter 61: 1.391e+02\n",
      "Objective function changes for L: -4.09e-05, G: -1.14e-04, Lx: -2.38e-05, X: 5.57e-05, Sigma: -2.44e-06\n",
      "Total Objective Function Value at iter 62: 1.421e+02\n",
      "Objective function changes for L: -4.01e-05, G: -1.12e-04, Lx: -2.34e-05, X: 5.51e-05, Sigma: -2.38e-06\n",
      "Total Objective Function Value at iter 63: 1.451e+02\n",
      "Objective function changes for L: -3.93e-05, G: -1.10e-04, Lx: -2.29e-05, X: 5.46e-05, Sigma: -2.32e-06\n",
      "Total Objective Function Value at iter 64: 1.480e+02\n",
      "Objective function changes for L: -3.85e-05, G: -1.08e-04, Lx: -2.24e-05, X: 5.41e-05, Sigma: -2.26e-06\n",
      "Total Objective Function Value at iter 65: 1.510e+02\n",
      "Objective function changes for L: -3.78e-05, G: -1.06e-04, Lx: -2.20e-05, X: 5.35e-05, Sigma: -2.21e-06\n",
      "Total Objective Function Value at iter 66: 1.540e+02\n",
      "Objective function changes for L: -3.71e-05, G: -1.04e-04, Lx: -2.16e-05, X: 5.30e-05, Sigma: -2.15e-06\n",
      "Total Objective Function Value at iter 67: 1.570e+02\n",
      "Objective function changes for L: -3.64e-05, G: -1.02e-04, Lx: -2.12e-05, X: 5.26e-05, Sigma: -2.10e-06\n",
      "Total Objective Function Value at iter 68: 1.601e+02\n",
      "Objective function changes for L: -3.57e-05, G: -1.00e-04, Lx: -2.08e-05, X: 5.21e-05, Sigma: -2.06e-06\n",
      "Total Objective Function Value at iter 69: 1.631e+02\n",
      "Objective function changes for L: -3.50e-05, G: -9.85e-05, Lx: -2.04e-05, X: 5.16e-05, Sigma: -2.01e-06\n",
      "Total Objective Function Value at iter 70: 1.661e+02\n",
      "Objective function changes for L: -3.44e-05, G: -9.67e-05, Lx: -2.00e-05, X: 5.11e-05, Sigma: -1.97e-06\n",
      "Total Objective Function Value at iter 71: 1.692e+02\n",
      "Objective function changes for L: -3.38e-05, G: -9.50e-05, Lx: -1.97e-05, X: 5.07e-05, Sigma: -1.92e-06\n",
      "Total Objective Function Value at iter 72: 1.722e+02\n",
      "Objective function changes for L: -3.32e-05, G: -9.33e-05, Lx: -1.93e-05, X: 5.03e-05, Sigma: -1.88e-06\n",
      "Total Objective Function Value at iter 73: 1.752e+02\n",
      "Objective function changes for L: -3.26e-05, G: -9.16e-05, Lx: -1.90e-05, X: 4.98e-05, Sigma: -1.84e-06\n",
      "Total Objective Function Value at iter 74: 1.783e+02\n",
      "Objective function changes for L: -3.20e-05, G: -9.00e-05, Lx: -1.87e-05, X: 4.94e-05, Sigma: -1.80e-06\n",
      "Total Objective Function Value at iter 75: 1.814e+02\n",
      "Objective function changes for L: -3.15e-05, G: -8.84e-05, Lx: -1.83e-05, X: 4.90e-05, Sigma: -1.76e-06\n",
      "Total Objective Function Value at iter 76: 1.844e+02\n",
      "Objective function changes for L: -3.10e-05, G: -8.68e-05, Lx: -1.80e-05, X: 4.86e-05, Sigma: -1.73e-06\n",
      "Total Objective Function Value at iter 77: 1.875e+02\n",
      "Objective function changes for L: -3.04e-05, G: -8.53e-05, Lx: -1.77e-05, X: 4.82e-05, Sigma: -1.69e-06\n",
      "Total Objective Function Value at iter 78: 1.906e+02\n",
      "Objective function changes for L: -2.99e-05, G: -8.38e-05, Lx: -1.74e-05, X: 4.78e-05, Sigma: -1.66e-06\n",
      "Total Objective Function Value at iter 79: 1.936e+02\n",
      "Objective function changes for L: -2.94e-05, G: -8.24e-05, Lx: -1.71e-05, X: 4.74e-05, Sigma: -1.63e-06\n",
      "Total Objective Function Value at iter 80: 1.967e+02\n",
      "Objective function changes for L: -2.90e-05, G: -8.10e-05, Lx: -1.69e-05, X: 4.70e-05, Sigma: -1.59e-06\n",
      "Total Objective Function Value at iter 81: 1.998e+02\n",
      "Objective function changes for L: -2.85e-05, G: -7.96e-05, Lx: -1.66e-05, X: 4.66e-05, Sigma: -1.56e-06\n",
      "Total Objective Function Value at iter 82: 2.029e+02\n",
      "Objective function changes for L: -2.80e-05, G: -7.82e-05, Lx: -1.63e-05, X: 4.63e-05, Sigma: -1.53e-06\n",
      "Total Objective Function Value at iter 83: 2.060e+02\n",
      "Objective function changes for L: -2.76e-05, G: -7.69e-05, Lx: -1.61e-05, X: 4.59e-05, Sigma: -1.50e-06\n",
      "Total Objective Function Value at iter 84: 2.090e+02\n",
      "Objective function changes for L: -2.72e-05, G: -7.56e-05, Lx: -1.58e-05, X: 4.55e-05, Sigma: -1.47e-06\n",
      "Total Objective Function Value at iter 85: 2.121e+02\n",
      "Objective function changes for L: -2.67e-05, G: -7.43e-05, Lx: -1.55e-05, X: 4.52e-05, Sigma: -1.45e-06\n",
      "Total Objective Function Value at iter 86: 2.152e+02\n",
      "Objective function changes for L: -2.63e-05, G: -7.30e-05, Lx: -1.53e-05, X: 4.48e-05, Sigma: -1.42e-06\n",
      "Total Objective Function Value at iter 87: 2.183e+02\n",
      "Objective function changes for L: -2.59e-05, G: -7.18e-05, Lx: -1.51e-05, X: 4.45e-05, Sigma: -1.39e-06\n",
      "Total Objective Function Value at iter 88: 2.214e+02\n",
      "Objective function changes for L: -2.55e-05, G: -7.06e-05, Lx: -1.48e-05, X: 4.42e-05, Sigma: -1.36e-06\n",
      "Total Objective Function Value at iter 89: 2.245e+02\n",
      "Objective function changes for L: -2.51e-05, G: -6.94e-05, Lx: -1.46e-05, X: 4.38e-05, Sigma: -1.34e-06\n",
      "Total Objective Function Value at iter 90: 2.276e+02\n",
      "Objective function changes for L: -2.47e-05, G: -6.82e-05, Lx: -1.44e-05, X: 4.35e-05, Sigma: -1.31e-06\n",
      "Total Objective Function Value at iter 91: 2.307e+02\n",
      "Objective function changes for L: -2.44e-05, G: -6.71e-05, Lx: -1.42e-05, X: 4.32e-05, Sigma: -1.29e-06\n",
      "Total Objective Function Value at iter 92: 2.338e+02\n",
      "Objective function changes for L: -2.40e-05, G: -6.59e-05, Lx: -1.39e-05, X: 4.29e-05, Sigma: -1.27e-06\n",
      "Total Objective Function Value at iter 93: 2.369e+02\n",
      "Objective function changes for L: -2.36e-05, G: -6.48e-05, Lx: -1.37e-05, X: 4.25e-05, Sigma: -1.24e-06\n",
      "Total Objective Function Value at iter 94: 2.399e+02\n",
      "Objective function changes for L: -2.33e-05, G: -6.38e-05, Lx: -1.35e-05, X: 4.22e-05, Sigma: -1.22e-06\n",
      "Total Objective Function Value at iter 95: 2.430e+02\n",
      "Objective function changes for L: -2.29e-05, G: -6.27e-05, Lx: -1.33e-05, X: 4.19e-05, Sigma: -1.20e-06\n",
      "Total Objective Function Value at iter 96: 2.461e+02\n",
      "Objective function changes for L: -2.26e-05, G: -6.17e-05, Lx: -1.31e-05, X: 4.16e-05, Sigma: -1.18e-06\n",
      "Total Objective Function Value at iter 97: 2.492e+02\n",
      "Objective function changes for L: -2.23e-05, G: -6.07e-05, Lx: -1.29e-05, X: 4.13e-05, Sigma: -1.16e-06\n",
      "Total Objective Function Value at iter 98: 2.523e+02\n",
      "Objective function changes for L: -2.19e-05, G: -5.97e-05, Lx: -1.27e-05, X: 4.10e-05, Sigma: -1.14e-06\n",
      "Total Objective Function Value at iter 99: 2.554e+02\n",
      "Objective function changes for L: -2.16e-05, G: -5.87e-05, Lx: -1.26e-05, X: 4.07e-05, Sigma: -1.11e-06\n",
      "Total Objective Function Value at iter 100: 2.585e+02\n",
      "Objective function changes for L: -2.13e-05, G: -5.77e-05, Lx: -1.24e-05, X: 4.04e-05, Sigma: -1.09e-06\n",
      "Total Objective Function Value at iter 101: 2.615e+02\n",
      "Objective function changes for L: -2.10e-05, G: -5.68e-05, Lx: -1.22e-05, X: 4.01e-05, Sigma: -1.08e-06\n",
      "Total Objective Function Value at iter 102: 2.646e+02\n",
      "Objective function changes for L: -2.07e-05, G: -5.59e-05, Lx: -1.20e-05, X: 3.99e-05, Sigma: -1.06e-06\n",
      "Total Objective Function Value at iter 103: 2.677e+02\n",
      "Objective function changes for L: -2.04e-05, G: -5.50e-05, Lx: -1.18e-05, X: 3.96e-05, Sigma: -1.04e-06\n",
      "Total Objective Function Value at iter 104: 2.707e+02\n",
      "Objective function changes for L: -2.01e-05, G: -5.41e-05, Lx: -1.17e-05, X: 3.93e-05, Sigma: -1.02e-06\n",
      "Total Objective Function Value at iter 105: 2.738e+02\n",
      "Objective function changes for L: -1.98e-05, G: -5.32e-05, Lx: -1.15e-05, X: 3.90e-05, Sigma: -1.00e-06\n",
      "Total Objective Function Value at iter 106: 2.769e+02\n",
      "Objective function changes for L: -1.95e-05, G: -5.23e-05, Lx: -1.13e-05, X: 3.88e-05, Sigma: -9.84e-07\n",
      "Total Objective Function Value at iter 107: 2.799e+02\n",
      "Objective function changes for L: -1.92e-05, G: -5.15e-05, Lx: -1.12e-05, X: 3.85e-05, Sigma: -9.67e-07\n",
      "Total Objective Function Value at iter 108: 2.830e+02\n",
      "Objective function changes for L: -1.90e-05, G: -5.07e-05, Lx: -1.10e-05, X: 3.82e-05, Sigma: -9.50e-07\n",
      "Total Objective Function Value at iter 109: 2.860e+02\n",
      "Objective function changes for L: -1.87e-05, G: -4.99e-05, Lx: -1.09e-05, X: 3.80e-05, Sigma: -9.34e-07\n",
      "Total Objective Function Value at iter 110: 2.891e+02\n",
      "Objective function changes for L: -1.84e-05, G: -4.91e-05, Lx: -1.07e-05, X: 3.77e-05, Sigma: -9.18e-07\n",
      "Total Objective Function Value at iter 111: 2.921e+02\n",
      "Objective function changes for L: -1.82e-05, G: -4.83e-05, Lx: -1.06e-05, X: 3.74e-05, Sigma: -9.02e-07\n",
      "Total Objective Function Value at iter 112: 2.951e+02\n",
      "Objective function changes for L: -1.79e-05, G: -4.75e-05, Lx: -1.04e-05, X: 3.72e-05, Sigma: -8.86e-07\n",
      "Total Objective Function Value at iter 113: 2.982e+02\n",
      "Objective function changes for L: -1.77e-05, G: -4.68e-05, Lx: -1.03e-05, X: 3.69e-05, Sigma: -8.71e-07\n",
      "Total Objective Function Value at iter 114: 3.012e+02\n",
      "Objective function changes for L: -1.74e-05, G: -4.60e-05, Lx: -1.01e-05, X: 3.67e-05, Sigma: -8.56e-07\n",
      "Total Objective Function Value at iter 115: 3.042e+02\n",
      "Objective function changes for L: -1.72e-05, G: -4.53e-05, Lx: -9.98e-06, X: 3.64e-05, Sigma: -8.42e-07\n",
      "Total Objective Function Value at iter 116: 3.072e+02\n",
      "Objective function changes for L: -1.70e-05, G: -4.46e-05, Lx: -9.84e-06, X: 3.62e-05, Sigma: -8.27e-07\n",
      "Total Objective Function Value at iter 117: 3.102e+02\n",
      "Objective function changes for L: -1.67e-05, G: -4.39e-05, Lx: -9.70e-06, X: 3.59e-05, Sigma: -8.13e-07\n",
      "Total Objective Function Value at iter 118: 3.132e+02\n",
      "Objective function changes for L: -1.65e-05, G: -4.32e-05, Lx: -9.57e-06, X: 3.57e-05, Sigma: -8.00e-07\n",
      "Total Objective Function Value at iter 119: 3.162e+02\n",
      "Objective function changes for L: -1.63e-05, G: -4.25e-05, Lx: -9.44e-06, X: 3.54e-05, Sigma: -7.86e-07\n",
      "Total Objective Function Value at iter 120: 3.192e+02\n",
      "Objective function changes for L: -1.60e-05, G: -4.19e-05, Lx: -9.31e-06, X: 3.52e-05, Sigma: -7.73e-07\n",
      "Total Objective Function Value at iter 121: 3.222e+02\n",
      "Objective function changes for L: -1.58e-05, G: -4.12e-05, Lx: -9.18e-06, X: 3.50e-05, Sigma: -7.60e-07\n",
      "Total Objective Function Value at iter 122: 3.252e+02\n",
      "Objective function changes for L: -1.56e-05, G: -4.06e-05, Lx: -9.06e-06, X: 3.47e-05, Sigma: -7.47e-07\n",
      "Total Objective Function Value at iter 123: 3.282e+02\n",
      "Objective function changes for L: -1.54e-05, G: -3.99e-05, Lx: -8.93e-06, X: 3.45e-05, Sigma: -7.34e-07\n",
      "Total Objective Function Value at iter 124: 3.311e+02\n",
      "Objective function changes for L: -1.52e-05, G: -3.93e-05, Lx: -8.81e-06, X: 3.43e-05, Sigma: -7.22e-07\n",
      "Total Objective Function Value at iter 125: 3.341e+02\n",
      "Objective function changes for L: -1.50e-05, G: -3.87e-05, Lx: -8.69e-06, X: 3.40e-05, Sigma: -7.10e-07\n",
      "Total Objective Function Value at iter 126: 3.370e+02\n",
      "Objective function changes for L: -1.48e-05, G: -3.81e-05, Lx: -8.57e-06, X: 3.38e-05, Sigma: -6.98e-07\n",
      "Total Objective Function Value at iter 127: 3.400e+02\n",
      "Objective function changes for L: -1.46e-05, G: -3.75e-05, Lx: -8.46e-06, X: 3.36e-05, Sigma: -6.87e-07\n",
      "Total Objective Function Value at iter 128: 3.429e+02\n",
      "Objective function changes for L: -1.44e-05, G: -3.70e-05, Lx: -8.34e-06, X: 3.34e-05, Sigma: -6.75e-07\n",
      "Total Objective Function Value at iter 129: 3.458e+02\n",
      "Objective function changes for L: -1.42e-05, G: -3.64e-05, Lx: -8.23e-06, X: 3.32e-05, Sigma: -6.64e-07\n",
      "Total Objective Function Value at iter 130: 3.488e+02\n",
      "Objective function changes for L: -1.40e-05, G: -3.59e-05, Lx: -8.12e-06, X: 3.29e-05, Sigma: -6.53e-07\n",
      "Total Objective Function Value at iter 131: 3.517e+02\n",
      "Objective function changes for L: -1.38e-05, G: -3.53e-05, Lx: -8.01e-06, X: 3.27e-05, Sigma: -6.42e-07\n",
      "Total Objective Function Value at iter 132: 3.546e+02\n",
      "Objective function changes for L: -1.36e-05, G: -3.48e-05, Lx: -7.90e-06, X: 3.25e-05, Sigma: -6.32e-07\n",
      "Total Objective Function Value at iter 133: 3.575e+02\n",
      "Objective function changes for L: -1.34e-05, G: -3.42e-05, Lx: -7.80e-06, X: 3.23e-05, Sigma: -6.21e-07\n",
      "Total Objective Function Value at iter 134: 3.604e+02\n",
      "Objective function changes for L: -1.33e-05, G: -3.37e-05, Lx: -7.69e-06, X: 3.21e-05, Sigma: -6.11e-07\n",
      "Total Objective Function Value at iter 135: 3.633e+02\n",
      "Objective function changes for L: -1.31e-05, G: -3.32e-05, Lx: -7.59e-06, X: 3.19e-05, Sigma: -6.01e-07\n",
      "Total Objective Function Value at iter 136: 3.662e+02\n",
      "Objective function changes for L: -1.29e-05, G: -3.27e-05, Lx: -7.49e-06, X: 3.17e-05, Sigma: -5.91e-07\n",
      "Total Objective Function Value at iter 137: 3.690e+02\n",
      "Objective function changes for L: -1.27e-05, G: -3.22e-05, Lx: -7.39e-06, X: 3.14e-05, Sigma: -5.81e-07\n",
      "Total Objective Function Value at iter 138: 3.719e+02\n",
      "Objective function changes for L: -1.26e-05, G: -3.17e-05, Lx: -7.29e-06, X: 3.12e-05, Sigma: -5.72e-07\n",
      "Total Objective Function Value at iter 139: 3.747e+02\n",
      "Objective function changes for L: -1.24e-05, G: -3.13e-05, Lx: -7.20e-06, X: 3.10e-05, Sigma: -5.63e-07\n",
      "Total Objective Function Value at iter 140: 3.776e+02\n",
      "Objective function changes for L: -1.23e-05, G: -3.08e-05, Lx: -7.10e-06, X: 3.08e-05, Sigma: -5.53e-07\n",
      "Total Objective Function Value at iter 141: 3.804e+02\n",
      "Objective function changes for L: -1.21e-05, G: -3.03e-05, Lx: -7.01e-06, X: 3.06e-05, Sigma: -5.44e-07\n",
      "Total Objective Function Value at iter 142: 3.833e+02\n",
      "Objective function changes for L: -1.19e-05, G: -2.99e-05, Lx: -6.91e-06, X: 3.04e-05, Sigma: -5.36e-07\n",
      "Total Objective Function Value at iter 143: 3.861e+02\n",
      "Objective function changes for L: -1.18e-05, G: -2.95e-05, Lx: -6.82e-06, X: 3.02e-05, Sigma: -5.27e-07\n",
      "Total Objective Function Value at iter 144: 3.889e+02\n",
      "Objective function changes for L: -1.16e-05, G: -2.90e-05, Lx: -6.73e-06, X: 3.00e-05, Sigma: -5.18e-07\n",
      "Total Objective Function Value at iter 145: 3.917e+02\n",
      "Objective function changes for L: -1.15e-05, G: -2.86e-05, Lx: -6.65e-06, X: 2.98e-05, Sigma: -5.10e-07\n",
      "Total Objective Function Value at iter 146: 3.945e+02\n",
      "Objective function changes for L: -1.13e-05, G: -2.82e-05, Lx: -6.56e-06, X: 2.97e-05, Sigma: -5.02e-07\n",
      "Total Objective Function Value at iter 147: 3.973e+02\n",
      "Objective function changes for L: -1.12e-05, G: -2.78e-05, Lx: -6.47e-06, X: 2.95e-05, Sigma: -4.94e-07\n",
      "Total Objective Function Value at iter 148: 4.001e+02\n",
      "Objective function changes for L: -1.10e-05, G: -2.74e-05, Lx: -6.39e-06, X: 2.93e-05, Sigma: -4.86e-07\n",
      "Total Objective Function Value at iter 149: 4.028e+02\n",
      "Objective function changes for L: -1.09e-05, G: -2.69e-05, Lx: -6.31e-06, X: 2.91e-05, Sigma: -4.78e-07\n",
      "Total Objective Function Value at iter 150: 4.056e+02\n",
      "Objective function changes for L: -1.07e-05, G: -2.66e-05, Lx: -6.22e-06, X: 2.89e-05, Sigma: -4.70e-07\n",
      "Total Objective Function Value at iter 151: 4.084e+02\n",
      "Objective function changes for L: -1.06e-05, G: -2.62e-05, Lx: -6.14e-06, X: 2.87e-05, Sigma: -4.63e-07\n",
      "Total Objective Function Value at iter 152: 4.111e+02\n",
      "Objective function changes for L: -1.05e-05, G: -2.58e-05, Lx: -6.06e-06, X: 2.85e-05, Sigma: -4.56e-07\n",
      "Total Objective Function Value at iter 153: 4.138e+02\n",
      "Objective function changes for L: -1.03e-05, G: -2.54e-05, Lx: -5.98e-06, X: 2.83e-05, Sigma: -4.48e-07\n",
      "Total Objective Function Value at iter 154: 4.166e+02\n",
      "Objective function changes for L: -1.02e-05, G: -2.50e-05, Lx: -5.91e-06, X: 2.82e-05, Sigma: -4.41e-07\n",
      "Total Objective Function Value at iter 155: 4.193e+02\n",
      "Objective function changes for L: -1.01e-05, G: -2.47e-05, Lx: -5.83e-06, X: 2.80e-05, Sigma: -4.34e-07\n",
      "Total Objective Function Value at iter 156: 4.220e+02\n",
      "Objective function changes for L: -9.94e-06, G: -2.43e-05, Lx: -5.76e-06, X: 2.78e-05, Sigma: -4.27e-07\n",
      "Total Objective Function Value at iter 157: 4.247e+02\n",
      "Objective function changes for L: -9.81e-06, G: -2.40e-05, Lx: -5.68e-06, X: 2.76e-05, Sigma: -4.21e-07\n",
      "Total Objective Function Value at iter 158: 4.274e+02\n",
      "Objective function changes for L: -9.69e-06, G: -2.36e-05, Lx: -5.61e-06, X: 2.74e-05, Sigma: -4.14e-07\n",
      "Total Objective Function Value at iter 159: 4.301e+02\n",
      "Objective function changes for L: -9.56e-06, G: -2.33e-05, Lx: -5.54e-06, X: 2.73e-05, Sigma: -4.07e-07\n",
      "Total Objective Function Value at iter 160: 4.328e+02\n",
      "Objective function changes for L: -9.44e-06, G: -2.30e-05, Lx: -5.47e-06, X: 2.71e-05, Sigma: -4.01e-07\n",
      "Total Objective Function Value at iter 161: 4.354e+02\n",
      "Objective function changes for L: -9.32e-06, G: -2.26e-05, Lx: -5.40e-06, X: 2.69e-05, Sigma: -3.95e-07\n",
      "Total Objective Function Value at iter 162: 4.381e+02\n",
      "Objective function changes for L: -9.20e-06, G: -2.23e-05, Lx: -5.33e-06, X: 2.68e-05, Sigma: -3.88e-07\n",
      "Total Objective Function Value at iter 163: 4.407e+02\n",
      "Objective function changes for L: -9.09e-06, G: -2.20e-05, Lx: -5.26e-06, X: 2.66e-05, Sigma: -3.82e-07\n",
      "Total Objective Function Value at iter 164: 4.434e+02\n",
      "Objective function changes for L: -8.97e-06, G: -2.17e-05, Lx: -5.19e-06, X: 2.64e-05, Sigma: -3.76e-07\n",
      "Total Objective Function Value at iter 165: 4.460e+02\n",
      "Objective function changes for L: -8.86e-06, G: -2.14e-05, Lx: -5.12e-06, X: 2.62e-05, Sigma: -3.70e-07\n",
      "Total Objective Function Value at iter 166: 4.486e+02\n",
      "Objective function changes for L: -8.74e-06, G: -2.11e-05, Lx: -5.06e-06, X: 2.61e-05, Sigma: -3.65e-07\n",
      "Total Objective Function Value at iter 167: 4.512e+02\n",
      "Objective function changes for L: -8.63e-06, G: -2.08e-05, Lx: -5.00e-06, X: 2.59e-05, Sigma: -3.59e-07\n",
      "Total Objective Function Value at iter 168: 4.538e+02\n",
      "Objective function changes for L: -8.52e-06, G: -2.05e-05, Lx: -4.93e-06, X: 2.58e-05, Sigma: -3.53e-07\n",
      "Total Objective Function Value at iter 169: 4.564e+02\n",
      "Objective function changes for L: -8.42e-06, G: -2.02e-05, Lx: -4.87e-06, X: 2.56e-05, Sigma: -3.48e-07\n",
      "Total Objective Function Value at iter 170: 4.590e+02\n",
      "Objective function changes for L: -8.31e-06, G: -1.99e-05, Lx: -4.81e-06, X: 2.54e-05, Sigma: -3.42e-07\n",
      "Total Objective Function Value at iter 171: 4.616e+02\n",
      "Objective function changes for L: -8.21e-06, G: -1.96e-05, Lx: -4.75e-06, X: 2.53e-05, Sigma: -3.37e-07\n",
      "Total Objective Function Value at iter 172: 4.641e+02\n",
      "Objective function changes for L: -8.10e-06, G: -1.93e-05, Lx: -4.69e-06, X: 2.51e-05, Sigma: -3.32e-07\n",
      "Total Objective Function Value at iter 173: 4.667e+02\n",
      "Objective function changes for L: -8.00e-06, G: -1.91e-05, Lx: -4.63e-06, X: 2.49e-05, Sigma: -3.27e-07\n",
      "Total Objective Function Value at iter 174: 4.692e+02\n",
      "Objective function changes for L: -7.90e-06, G: -1.88e-05, Lx: -4.57e-06, X: 2.48e-05, Sigma: -3.22e-07\n",
      "Total Objective Function Value at iter 175: 4.717e+02\n",
      "Objective function changes for L: -7.80e-06, G: -1.85e-05, Lx: -4.51e-06, X: 2.46e-05, Sigma: -3.17e-07\n",
      "Total Objective Function Value at iter 176: 4.743e+02\n",
      "Objective function changes for L: -7.70e-06, G: -1.83e-05, Lx: -4.46e-06, X: 2.45e-05, Sigma: -3.12e-07\n",
      "Total Objective Function Value at iter 177: 4.768e+02\n",
      "Objective function changes for L: -7.61e-06, G: -1.80e-05, Lx: -4.40e-06, X: 2.43e-05, Sigma: -3.07e-07\n",
      "Total Objective Function Value at iter 178: 4.793e+02\n",
      "Objective function changes for L: -7.51e-06, G: -1.78e-05, Lx: -4.34e-06, X: 2.42e-05, Sigma: -3.02e-07\n",
      "Total Objective Function Value at iter 179: 4.818e+02\n",
      "Objective function changes for L: -7.42e-06, G: -1.75e-05, Lx: -4.29e-06, X: 2.40e-05, Sigma: -2.98e-07\n",
      "Total Objective Function Value at iter 180: 4.843e+02\n",
      "Objective function changes for L: -7.33e-06, G: -1.73e-05, Lx: -4.24e-06, X: 2.39e-05, Sigma: -2.93e-07\n",
      "Total Objective Function Value at iter 181: 4.867e+02\n",
      "Objective function changes for L: -7.23e-06, G: -1.71e-05, Lx: -4.18e-06, X: 2.37e-05, Sigma: -2.89e-07\n",
      "Total Objective Function Value at iter 182: 4.892e+02\n",
      "Objective function changes for L: -7.14e-06, G: -1.68e-05, Lx: -4.13e-06, X: 2.36e-05, Sigma: -2.84e-07\n",
      "Total Objective Function Value at iter 183: 4.917e+02\n",
      "Objective function changes for L: -7.05e-06, G: -1.66e-05, Lx: -4.08e-06, X: 2.34e-05, Sigma: -2.80e-07\n",
      "Total Objective Function Value at iter 184: 4.941e+02\n",
      "Objective function changes for L: -6.97e-06, G: -1.64e-05, Lx: -4.03e-06, X: 2.33e-05, Sigma: -2.76e-07\n",
      "Total Objective Function Value at iter 185: 4.966e+02\n",
      "Objective function changes for L: -6.88e-06, G: -1.61e-05, Lx: -3.98e-06, X: 2.31e-05, Sigma: -2.71e-07\n",
      "Total Objective Function Value at iter 186: 4.990e+02\n",
      "Objective function changes for L: -6.80e-06, G: -1.59e-05, Lx: -3.93e-06, X: 2.30e-05, Sigma: -2.67e-07\n",
      "Total Objective Function Value at iter 187: 5.014e+02\n",
      "Objective function changes for L: -6.71e-06, G: -1.57e-05, Lx: -3.88e-06, X: 2.28e-05, Sigma: -2.63e-07\n",
      "Total Objective Function Value at iter 188: 5.038e+02\n",
      "Objective function changes for L: -6.63e-06, G: -1.55e-05, Lx: -3.83e-06, X: 2.27e-05, Sigma: -2.59e-07\n",
      "Total Objective Function Value at iter 189: 5.062e+02\n",
      "Objective function changes for L: -6.55e-06, G: -1.53e-05, Lx: -3.78e-06, X: 2.26e-05, Sigma: -2.55e-07\n",
      "Total Objective Function Value at iter 190: 5.086e+02\n",
      "Objective function changes for L: -6.47e-06, G: -1.51e-05, Lx: -3.74e-06, X: 2.24e-05, Sigma: -2.52e-07\n",
      "Total Objective Function Value at iter 191: 5.110e+02\n",
      "Objective function changes for L: -6.39e-06, G: -1.49e-05, Lx: -3.69e-06, X: 2.23e-05, Sigma: -2.48e-07\n",
      "Total Objective Function Value at iter 192: 5.133e+02\n",
      "Objective function changes for L: -6.31e-06, G: -1.47e-05, Lx: -3.65e-06, X: 2.21e-05, Sigma: -2.44e-07\n",
      "Total Objective Function Value at iter 193: 5.157e+02\n",
      "Objective function changes for L: -6.23e-06, G: -1.45e-05, Lx: -3.60e-06, X: 2.20e-05, Sigma: -2.40e-07\n",
      "Total Objective Function Value at iter 194: 5.181e+02\n",
      "Objective function changes for L: -6.15e-06, G: -1.43e-05, Lx: -3.56e-06, X: 2.19e-05, Sigma: -2.37e-07\n",
      "Total Objective Function Value at iter 195: 5.204e+02\n",
      "Objective function changes for L: -6.08e-06, G: -1.41e-05, Lx: -3.51e-06, X: 2.17e-05, Sigma: -2.33e-07\n",
      "Total Objective Function Value at iter 196: 5.227e+02\n",
      "Objective function changes for L: -6.00e-06, G: -1.39e-05, Lx: -3.47e-06, X: 2.16e-05, Sigma: -2.30e-07\n",
      "Total Objective Function Value at iter 197: 5.251e+02\n",
      "Objective function changes for L: -5.93e-06, G: -1.37e-05, Lx: -3.43e-06, X: 2.15e-05, Sigma: -2.26e-07\n",
      "Total Objective Function Value at iter 198: 5.274e+02\n",
      "Objective function changes for L: -5.86e-06, G: -1.35e-05, Lx: -3.38e-06, X: 2.13e-05, Sigma: -2.23e-07\n",
      "Total Objective Function Value at iter 199: 5.297e+02\n",
      "Objective function changes for L: -5.78e-06, G: -1.33e-05, Lx: -3.34e-06, X: 2.12e-05, Sigma: -2.19e-07\n",
      "Total Objective Function Value at iter 200: 5.320e+02\n",
      "Objective function changes for L: -5.71e-06, G: -1.32e-05, Lx: -3.30e-06, X: 2.11e-05, Sigma: -2.16e-07\n",
      "Total Objective Function Value at iter 201: 5.343e+02\n",
      "Objective function changes for L: -5.64e-06, G: -1.30e-05, Lx: -3.26e-06, X: 2.09e-05, Sigma: -2.13e-07\n",
      "Total Objective Function Value at iter 202: 5.365e+02\n",
      "Objective function changes for L: -5.58e-06, G: -1.28e-05, Lx: -3.22e-06, X: 2.08e-05, Sigma: -2.10e-07\n",
      "Total Objective Function Value at iter 203: 5.388e+02\n",
      "Objective function changes for L: -5.51e-06, G: -1.26e-05, Lx: -3.18e-06, X: 2.07e-05, Sigma: -2.07e-07\n",
      "Total Objective Function Value at iter 204: 5.410e+02\n",
      "Objective function changes for L: -5.44e-06, G: -1.25e-05, Lx: -3.14e-06, X: 2.05e-05, Sigma: -2.04e-07\n",
      "Total Objective Function Value at iter 205: 5.433e+02\n",
      "Objective function changes for L: -5.37e-06, G: -1.23e-05, Lx: -3.10e-06, X: 2.04e-05, Sigma: -2.01e-07\n",
      "Total Objective Function Value at iter 206: 5.455e+02\n",
      "Objective function changes for L: -5.31e-06, G: -1.21e-05, Lx: -3.07e-06, X: 2.03e-05, Sigma: -1.98e-07\n",
      "Total Objective Function Value at iter 207: 5.478e+02\n",
      "Objective function changes for L: -5.24e-06, G: -1.20e-05, Lx: -3.03e-06, X: 2.02e-05, Sigma: -1.95e-07\n",
      "Total Objective Function Value at iter 208: 5.500e+02\n",
      "Objective function changes for L: -5.18e-06, G: -1.18e-05, Lx: -2.99e-06, X: 2.00e-05, Sigma: -1.92e-07\n",
      "Total Objective Function Value at iter 209: 5.522e+02\n",
      "Objective function changes for L: -5.12e-06, G: -1.17e-05, Lx: -2.96e-06, X: 1.99e-05, Sigma: -1.89e-07\n",
      "Total Objective Function Value at iter 210: 5.544e+02\n",
      "Objective function changes for L: -5.06e-06, G: -1.15e-05, Lx: -2.92e-06, X: 1.98e-05, Sigma: -1.86e-07\n",
      "Total Objective Function Value at iter 211: 5.566e+02\n",
      "Objective function changes for L: -4.99e-06, G: -1.14e-05, Lx: -2.88e-06, X: 1.97e-05, Sigma: -1.83e-07\n",
      "Total Objective Function Value at iter 212: 5.588e+02\n",
      "Objective function changes for L: -4.93e-06, G: -1.12e-05, Lx: -2.85e-06, X: 1.96e-05, Sigma: -1.81e-07\n",
      "Total Objective Function Value at iter 213: 5.609e+02\n",
      "Objective function changes for L: -4.87e-06, G: -1.11e-05, Lx: -2.81e-06, X: 1.94e-05, Sigma: -1.78e-07\n",
      "Total Objective Function Value at iter 214: 5.631e+02\n",
      "Objective function changes for L: -4.82e-06, G: -1.09e-05, Lx: -2.78e-06, X: 1.93e-05, Sigma: -1.76e-07\n",
      "Total Objective Function Value at iter 215: 5.652e+02\n",
      "Objective function changes for L: -4.76e-06, G: -1.08e-05, Lx: -2.75e-06, X: 1.92e-05, Sigma: -1.73e-07\n",
      "Total Objective Function Value at iter 216: 5.674e+02\n",
      "Objective function changes for L: -4.70e-06, G: -1.06e-05, Lx: -2.71e-06, X: 1.91e-05, Sigma: -1.70e-07\n",
      "Total Objective Function Value at iter 217: 5.695e+02\n",
      "Objective function changes for L: -4.64e-06, G: -1.05e-05, Lx: -2.68e-06, X: 1.90e-05, Sigma: -1.68e-07\n",
      "Total Objective Function Value at iter 218: 5.716e+02\n",
      "Objective function changes for L: -4.59e-06, G: -1.03e-05, Lx: -2.65e-06, X: 1.88e-05, Sigma: -1.65e-07\n",
      "Total Objective Function Value at iter 219: 5.737e+02\n",
      "Objective function changes for L: -4.53e-06, G: -1.02e-05, Lx: -2.62e-06, X: 1.87e-05, Sigma: -1.63e-07\n",
      "Total Objective Function Value at iter 220: 5.759e+02\n",
      "Objective function changes for L: -4.48e-06, G: -1.01e-05, Lx: -2.58e-06, X: 1.86e-05, Sigma: -1.61e-07\n",
      "Total Objective Function Value at iter 221: 5.780e+02\n",
      "Objective function changes for L: -4.42e-06, G: -9.95e-06, Lx: -2.55e-06, X: 1.85e-05, Sigma: -1.58e-07\n",
      "Total Objective Function Value at iter 222: 5.800e+02\n",
      "Objective function changes for L: -4.37e-06, G: -9.82e-06, Lx: -2.52e-06, X: 1.84e-05, Sigma: -1.56e-07\n",
      "Total Objective Function Value at iter 223: 5.821e+02\n",
      "Objective function changes for L: -4.32e-06, G: -9.69e-06, Lx: -2.49e-06, X: 1.83e-05, Sigma: -1.54e-07\n",
      "Total Objective Function Value at iter 224: 5.842e+02\n",
      "Objective function changes for L: -4.27e-06, G: -9.57e-06, Lx: -2.46e-06, X: 1.82e-05, Sigma: -1.52e-07\n",
      "Total Objective Function Value at iter 225: 5.862e+02\n",
      "Objective function changes for L: -4.22e-06, G: -9.44e-06, Lx: -2.43e-06, X: 1.81e-05, Sigma: -1.49e-07\n",
      "Total Objective Function Value at iter 226: 5.883e+02\n",
      "Objective function changes for L: -4.16e-06, G: -9.32e-06, Lx: -2.40e-06, X: 1.79e-05, Sigma: -1.47e-07\n",
      "Total Objective Function Value at iter 227: 5.903e+02\n",
      "Objective function changes for L: -4.12e-06, G: -9.20e-06, Lx: -2.37e-06, X: 1.78e-05, Sigma: -1.45e-07\n",
      "Total Objective Function Value at iter 228: 5.924e+02\n",
      "Objective function changes for L: -4.07e-06, G: -9.08e-06, Lx: -2.35e-06, X: 1.77e-05, Sigma: -1.43e-07\n",
      "Total Objective Function Value at iter 229: 5.944e+02\n",
      "Objective function changes for L: -4.02e-06, G: -8.96e-06, Lx: -2.32e-06, X: 1.76e-05, Sigma: -1.41e-07\n",
      "Total Objective Function Value at iter 230: 5.964e+02\n",
      "Objective function changes for L: -3.97e-06, G: -8.85e-06, Lx: -2.29e-06, X: 1.75e-05, Sigma: -1.39e-07\n",
      "Total Objective Function Value at iter 231: 5.984e+02\n",
      "Objective function changes for L: -3.92e-06, G: -8.73e-06, Lx: -2.26e-06, X: 1.74e-05, Sigma: -1.37e-07\n",
      "Total Objective Function Value at iter 232: 6.004e+02\n",
      "Objective function changes for L: -3.88e-06, G: -8.62e-06, Lx: -2.24e-06, X: 1.73e-05, Sigma: -1.35e-07\n",
      "Total Objective Function Value at iter 233: 6.024e+02\n",
      "Objective function changes for L: -3.83e-06, G: -8.51e-06, Lx: -2.21e-06, X: 1.72e-05, Sigma: -1.33e-07\n",
      "Total Objective Function Value at iter 234: 6.044e+02\n",
      "Objective function changes for L: -3.78e-06, G: -8.40e-06, Lx: -2.18e-06, X: 1.71e-05, Sigma: -1.31e-07\n",
      "Total Objective Function Value at iter 235: 6.063e+02\n",
      "Objective function changes for L: -3.74e-06, G: -8.29e-06, Lx: -2.16e-06, X: 1.70e-05, Sigma: -1.29e-07\n",
      "Total Objective Function Value at iter 236: 6.083e+02\n",
      "Objective function changes for L: -3.69e-06, G: -8.19e-06, Lx: -2.13e-06, X: 1.69e-05, Sigma: -1.27e-07\n",
      "Total Objective Function Value at iter 237: 6.102e+02\n",
      "Objective function changes for L: -3.65e-06, G: -8.08e-06, Lx: -2.11e-06, X: 1.68e-05, Sigma: -1.26e-07\n",
      "Total Objective Function Value at iter 238: 6.122e+02\n",
      "Objective function changes for L: -3.61e-06, G: -7.98e-06, Lx: -2.08e-06, X: 1.67e-05, Sigma: -1.24e-07\n",
      "Total Objective Function Value at iter 239: 6.141e+02\n",
      "Objective function changes for L: -3.56e-06, G: -7.88e-06, Lx: -2.06e-06, X: 1.66e-05, Sigma: -1.22e-07\n",
      "Total Objective Function Value at iter 240: 6.160e+02\n",
      "Objective function changes for L: -3.52e-06, G: -7.78e-06, Lx: -2.03e-06, X: 1.65e-05, Sigma: -1.20e-07\n",
      "Total Objective Function Value at iter 241: 6.180e+02\n",
      "Objective function changes for L: -3.48e-06, G: -7.68e-06, Lx: -2.01e-06, X: 1.64e-05, Sigma: -1.19e-07\n",
      "Total Objective Function Value at iter 242: 6.199e+02\n",
      "Objective function changes for L: -3.44e-06, G: -7.58e-06, Lx: -1.98e-06, X: 1.63e-05, Sigma: -1.17e-07\n",
      "Total Objective Function Value at iter 243: 6.218e+02\n",
      "Objective function changes for L: -3.40e-06, G: -7.49e-06, Lx: -1.96e-06, X: 1.62e-05, Sigma: -1.15e-07\n",
      "Total Objective Function Value at iter 244: 6.236e+02\n",
      "Objective function changes for L: -3.36e-06, G: -7.39e-06, Lx: -1.94e-06, X: 1.61e-05, Sigma: -1.14e-07\n",
      "Total Objective Function Value at iter 245: 6.255e+02\n",
      "Objective function changes for L: -3.32e-06, G: -7.30e-06, Lx: -1.91e-06, X: 1.60e-05, Sigma: -1.12e-07\n",
      "Total Objective Function Value at iter 246: 6.274e+02\n",
      "Objective function changes for L: -3.28e-06, G: -7.20e-06, Lx: -1.89e-06, X: 1.59e-05, Sigma: -1.10e-07\n",
      "Total Objective Function Value at iter 247: 6.293e+02\n",
      "Objective function changes for L: -3.24e-06, G: -7.11e-06, Lx: -1.87e-06, X: 1.58e-05, Sigma: -1.09e-07\n",
      "Total Objective Function Value at iter 248: 6.311e+02\n",
      "Objective function changes for L: -3.20e-06, G: -7.02e-06, Lx: -1.85e-06, X: 1.57e-05, Sigma: -1.07e-07\n",
      "Total Objective Function Value at iter 249: 6.330e+02\n",
      "Objective function changes for L: -3.16e-06, G: -6.94e-06, Lx: -1.82e-06, X: 1.56e-05, Sigma: -1.06e-07\n",
      "Total Objective Function Value at iter 250: 6.348e+02\n",
      "Objective function changes for L: -3.13e-06, G: -6.85e-06, Lx: -1.80e-06, X: 1.55e-05, Sigma: -1.04e-07\n",
      "Total Objective Function Value at iter 251: 6.366e+02\n",
      "Objective function changes for L: -3.09e-06, G: -6.76e-06, Lx: -1.78e-06, X: 1.54e-05, Sigma: -1.03e-07\n",
      "Total Objective Function Value at iter 252: 6.384e+02\n",
      "Objective function changes for L: -3.05e-06, G: -6.68e-06, Lx: -1.76e-06, X: 1.53e-05, Sigma: -1.01e-07\n",
      "Total Objective Function Value at iter 253: 6.402e+02\n",
      "Objective function changes for L: -3.02e-06, G: -6.59e-06, Lx: -1.74e-06, X: 1.52e-05, Sigma: -1.00e-07\n",
      "Total Objective Function Value at iter 254: 6.420e+02\n",
      "Objective function changes for L: -2.98e-06, G: -6.51e-06, Lx: -1.72e-06, X: 1.51e-05, Sigma: -9.86e-08\n",
      "Total Objective Function Value at iter 255: 6.438e+02\n",
      "Objective function changes for L: -2.95e-06, G: -6.43e-06, Lx: -1.70e-06, X: 1.51e-05, Sigma: -9.72e-08\n",
      "Total Objective Function Value at iter 256: 6.456e+02\n",
      "Objective function changes for L: -2.91e-06, G: -6.35e-06, Lx: -1.68e-06, X: 1.50e-05, Sigma: -9.58e-08\n",
      "Total Objective Function Value at iter 257: 6.474e+02\n",
      "Objective function changes for L: -2.88e-06, G: -6.27e-06, Lx: -1.66e-06, X: 1.49e-05, Sigma: -9.45e-08\n",
      "Total Objective Function Value at iter 258: 6.492e+02\n",
      "Objective function changes for L: -2.85e-06, G: -6.19e-06, Lx: -1.64e-06, X: 1.48e-05, Sigma: -9.32e-08\n",
      "Total Objective Function Value at iter 259: 6.509e+02\n",
      "Objective function changes for L: -2.81e-06, G: -6.11e-06, Lx: -1.62e-06, X: 1.47e-05, Sigma: -9.19e-08\n",
      "Total Objective Function Value at iter 260: 6.527e+02\n",
      "Objective function changes for L: -2.78e-06, G: -6.04e-06, Lx: -1.60e-06, X: 1.46e-05, Sigma: -9.06e-08\n",
      "Total Objective Function Value at iter 261: 6.544e+02\n",
      "Objective function changes for L: -2.75e-06, G: -5.96e-06, Lx: -1.58e-06, X: 1.45e-05, Sigma: -8.93e-08\n",
      "Total Objective Function Value at iter 262: 6.562e+02\n",
      "Objective function changes for L: -2.71e-06, G: -5.89e-06, Lx: -1.56e-06, X: 1.44e-05, Sigma: -8.81e-08\n",
      "Total Objective Function Value at iter 263: 6.579e+02\n",
      "Objective function changes for L: -2.68e-06, G: -5.81e-06, Lx: -1.55e-06, X: 1.43e-05, Sigma: -8.69e-08\n",
      "Total Objective Function Value at iter 264: 6.596e+02\n",
      "Objective function changes for L: -2.65e-06, G: -5.74e-06, Lx: -1.53e-06, X: 1.43e-05, Sigma: -8.56e-08\n",
      "Total Objective Function Value at iter 265: 6.613e+02\n",
      "Objective function changes for L: -2.62e-06, G: -5.67e-06, Lx: -1.51e-06, X: 1.42e-05, Sigma: -8.45e-08\n",
      "Total Objective Function Value at iter 266: 6.630e+02\n",
      "Objective function changes for L: -2.59e-06, G: -5.60e-06, Lx: -1.49e-06, X: 1.41e-05, Sigma: -8.33e-08\n",
      "Total Objective Function Value at iter 267: 6.647e+02\n",
      "Objective function changes for L: -2.56e-06, G: -5.53e-06, Lx: -1.48e-06, X: 1.40e-05, Sigma: -8.21e-08\n",
      "Total Objective Function Value at iter 268: 6.664e+02\n",
      "Objective function changes for L: -2.53e-06, G: -5.46e-06, Lx: -1.46e-06, X: 1.39e-05, Sigma: -8.10e-08\n",
      "Total Objective Function Value at iter 269: 6.681e+02\n",
      "Objective function changes for L: -2.50e-06, G: -5.39e-06, Lx: -1.44e-06, X: 1.38e-05, Sigma: -7.99e-08\n",
      "Total Objective Function Value at iter 270: 6.698e+02\n",
      "Objective function changes for L: -2.47e-06, G: -5.33e-06, Lx: -1.42e-06, X: 1.38e-05, Sigma: -7.88e-08\n",
      "Total Objective Function Value at iter 271: 6.714e+02\n",
      "Objective function changes for L: -2.44e-06, G: -5.26e-06, Lx: -1.41e-06, X: 1.37e-05, Sigma: -7.77e-08\n",
      "Total Objective Function Value at iter 272: 6.731e+02\n",
      "Objective function changes for L: -2.41e-06, G: -5.20e-06, Lx: -1.39e-06, X: 1.36e-05, Sigma: -7.66e-08\n",
      "Total Objective Function Value at iter 273: 6.747e+02\n",
      "Objective function changes for L: -2.39e-06, G: -5.13e-06, Lx: -1.37e-06, X: 1.35e-05, Sigma: -7.56e-08\n",
      "Total Objective Function Value at iter 274: 6.763e+02\n",
      "Objective function changes for L: -2.36e-06, G: -5.07e-06, Lx: -1.36e-06, X: 1.34e-05, Sigma: -7.45e-08\n",
      "Total Objective Function Value at iter 275: 6.780e+02\n",
      "Objective function changes for L: -2.33e-06, G: -5.01e-06, Lx: -1.34e-06, X: 1.33e-05, Sigma: -7.35e-08\n",
      "Total Objective Function Value at iter 276: 6.796e+02\n",
      "Objective function changes for L: -2.30e-06, G: -4.95e-06, Lx: -1.33e-06, X: 1.33e-05, Sigma: -7.25e-08\n",
      "Total Objective Function Value at iter 277: 6.812e+02\n",
      "Objective function changes for L: -2.28e-06, G: -4.88e-06, Lx: -1.31e-06, X: 1.32e-05, Sigma: -7.15e-08\n",
      "Total Objective Function Value at iter 278: 6.828e+02\n",
      "Objective function changes for L: -2.25e-06, G: -4.82e-06, Lx: -1.30e-06, X: 1.31e-05, Sigma: -7.05e-08\n",
      "Total Objective Function Value at iter 279: 6.844e+02\n",
      "Objective function changes for L: -2.23e-06, G: -4.77e-06, Lx: -1.28e-06, X: 1.30e-05, Sigma: -6.96e-08\n",
      "Total Objective Function Value at iter 280: 6.860e+02\n",
      "Objective function changes for L: -2.20e-06, G: -4.71e-06, Lx: -1.27e-06, X: 1.30e-05, Sigma: -6.86e-08\n",
      "Total Objective Function Value at iter 281: 6.876e+02\n",
      "Objective function changes for L: -2.17e-06, G: -4.65e-06, Lx: -1.25e-06, X: 1.29e-05, Sigma: -6.77e-08\n",
      "Total Objective Function Value at iter 282: 6.892e+02\n",
      "Objective function changes for L: -2.15e-06, G: -4.59e-06, Lx: -1.24e-06, X: 1.28e-05, Sigma: -6.68e-08\n",
      "Total Objective Function Value at iter 283: 6.907e+02\n",
      "Objective function changes for L: -2.12e-06, G: -4.54e-06, Lx: -1.22e-06, X: 1.27e-05, Sigma: -6.58e-08\n",
      "Total Objective Function Value at iter 284: 6.923e+02\n",
      "Objective function changes for L: -2.10e-06, G: -4.48e-06, Lx: -1.21e-06, X: 1.27e-05, Sigma: -6.49e-08\n",
      "Total Objective Function Value at iter 285: 6.939e+02\n",
      "Objective function changes for L: -2.08e-06, G: -4.43e-06, Lx: -1.20e-06, X: 1.26e-05, Sigma: -6.41e-08\n",
      "Total Objective Function Value at iter 286: 6.954e+02\n",
      "Objective function changes for L: -2.05e-06, G: -4.37e-06, Lx: -1.18e-06, X: 1.25e-05, Sigma: -6.32e-08\n",
      "Total Objective Function Value at iter 287: 6.969e+02\n",
      "Objective function changes for L: -2.03e-06, G: -4.32e-06, Lx: -1.17e-06, X: 1.24e-05, Sigma: -6.23e-08\n",
      "Total Objective Function Value at iter 288: 6.985e+02\n",
      "Objective function changes for L: -2.00e-06, G: -4.27e-06, Lx: -1.15e-06, X: 1.24e-05, Sigma: -6.15e-08\n",
      "Total Objective Function Value at iter 289: 7.000e+02\n",
      "Objective function changes for L: -1.98e-06, G: -4.21e-06, Lx: -1.14e-06, X: 1.23e-05, Sigma: -6.07e-08\n",
      "Total Objective Function Value at iter 290: 7.015e+02\n",
      "Objective function changes for L: -1.96e-06, G: -4.16e-06, Lx: -1.13e-06, X: 1.22e-05, Sigma: -5.98e-08\n",
      "Total Objective Function Value at iter 291: 7.030e+02\n",
      "Objective function changes for L: -1.94e-06, G: -4.11e-06, Lx: -1.11e-06, X: 1.21e-05, Sigma: -5.90e-08\n",
      "Total Objective Function Value at iter 292: 7.045e+02\n",
      "Objective function changes for L: -1.91e-06, G: -4.06e-06, Lx: -1.10e-06, X: 1.21e-05, Sigma: -5.82e-08\n",
      "Total Objective Function Value at iter 293: 7.060e+02\n",
      "Objective function changes for L: -1.89e-06, G: -4.01e-06, Lx: -1.09e-06, X: 1.20e-05, Sigma: -5.74e-08\n",
      "Total Objective Function Value at iter 294: 7.075e+02\n",
      "Objective function changes for L: -1.87e-06, G: -3.96e-06, Lx: -1.08e-06, X: 1.19e-05, Sigma: -5.67e-08\n",
      "Total Objective Function Value at iter 295: 7.090e+02\n",
      "Objective function changes for L: -1.85e-06, G: -3.92e-06, Lx: -1.06e-06, X: 1.19e-05, Sigma: -5.59e-08\n",
      "Total Objective Function Value at iter 296: 7.104e+02\n",
      "Objective function changes for L: -1.83e-06, G: -3.87e-06, Lx: -1.05e-06, X: 1.18e-05, Sigma: -5.52e-08\n",
      "Total Objective Function Value at iter 297: 7.119e+02\n",
      "Objective function changes for L: -1.81e-06, G: -3.82e-06, Lx: -1.04e-06, X: 1.17e-05, Sigma: -5.44e-08\n",
      "Total Objective Function Value at iter 298: 7.134e+02\n",
      "Objective function changes for L: -1.79e-06, G: -3.78e-06, Lx: -1.03e-06, X: 1.16e-05, Sigma: -5.37e-08\n",
      "Total Objective Function Value at iter 299: 7.148e+02\n",
      "Objective function changes for L: -1.76e-06, G: -3.73e-06, Lx: -1.02e-06, X: 1.16e-05, Sigma: -5.30e-08\n",
      "Total Objective Function Value at iter 300: 7.162e+02\n",
      "Objective function changes for L: -1.74e-06, G: -3.69e-06, Lx: -1.00e-06, X: 1.15e-05, Sigma: -5.22e-08\n",
      "Total Objective Function Value at iter 301: 7.177e+02\n",
      "Objective function changes for L: -1.72e-06, G: -3.64e-06, Lx: -9.93e-07, X: 1.14e-05, Sigma: -5.15e-08\n",
      "Total Objective Function Value at iter 302: 7.191e+02\n",
      "Objective function changes for L: -1.71e-06, G: -3.60e-06, Lx: -9.82e-07, X: 1.14e-05, Sigma: -5.09e-08\n",
      "Total Objective Function Value at iter 303: 7.205e+02\n",
      "Objective function changes for L: -1.69e-06, G: -3.55e-06, Lx: -9.70e-07, X: 1.13e-05, Sigma: -5.02e-08\n",
      "Total Objective Function Value at iter 304: 7.219e+02\n",
      "Objective function changes for L: -1.67e-06, G: -3.51e-06, Lx: -9.59e-07, X: 1.12e-05, Sigma: -4.95e-08\n",
      "Total Objective Function Value at iter 305: 7.233e+02\n",
      "Objective function changes for L: -1.65e-06, G: -3.47e-06, Lx: -9.48e-07, X: 1.12e-05, Sigma: -4.88e-08\n",
      "Total Objective Function Value at iter 306: 7.247e+02\n",
      "Objective function changes for L: -1.63e-06, G: -3.43e-06, Lx: -9.37e-07, X: 1.11e-05, Sigma: -4.82e-08\n",
      "Total Objective Function Value at iter 307: 7.261e+02\n",
      "Objective function changes for L: -1.61e-06, G: -3.39e-06, Lx: -9.27e-07, X: 1.10e-05, Sigma: -4.75e-08\n",
      "Total Objective Function Value at iter 308: 7.275e+02\n",
      "Objective function changes for L: -1.59e-06, G: -3.35e-06, Lx: -9.16e-07, X: 1.10e-05, Sigma: -4.69e-08\n",
      "Total Objective Function Value at iter 309: 7.289e+02\n",
      "Objective function changes for L: -1.57e-06, G: -3.31e-06, Lx: -9.06e-07, X: 1.09e-05, Sigma: -4.63e-08\n",
      "Total Objective Function Value at iter 310: 7.303e+02\n",
      "Objective function changes for L: -1.56e-06, G: -3.27e-06, Lx: -8.95e-07, X: 1.08e-05, Sigma: -4.57e-08\n",
      "Total Objective Function Value at iter 311: 7.316e+02\n",
      "Objective function changes for L: -1.54e-06, G: -3.23e-06, Lx: -8.85e-07, X: 1.08e-05, Sigma: -4.51e-08\n",
      "Total Objective Function Value at iter 312: 7.330e+02\n",
      "Objective function changes for L: -1.52e-06, G: -3.19e-06, Lx: -8.75e-07, X: 1.07e-05, Sigma: -4.45e-08\n",
      "Total Objective Function Value at iter 313: 7.343e+02\n",
      "Objective function changes for L: -1.50e-06, G: -3.15e-06, Lx: -8.65e-07, X: 1.07e-05, Sigma: -4.39e-08\n",
      "Total Objective Function Value at iter 314: 7.357e+02\n",
      "Objective function changes for L: -1.49e-06, G: -3.11e-06, Lx: -8.55e-07, X: 1.06e-05, Sigma: -4.33e-08\n",
      "Total Objective Function Value at iter 315: 7.370e+02\n",
      "Objective function changes for L: -1.47e-06, G: -3.08e-06, Lx: -8.45e-07, X: 1.05e-05, Sigma: -4.27e-08\n",
      "Total Objective Function Value at iter 316: 7.384e+02\n",
      "Objective function changes for L: -1.45e-06, G: -3.04e-06, Lx: -8.36e-07, X: 1.05e-05, Sigma: -4.22e-08\n",
      "Total Objective Function Value at iter 317: 7.397e+02\n",
      "Objective function changes for L: -1.44e-06, G: -3.00e-06, Lx: -8.26e-07, X: 1.04e-05, Sigma: -4.16e-08\n",
      "Total Objective Function Value at iter 318: 7.410e+02\n",
      "Objective function changes for L: -1.42e-06, G: -2.97e-06, Lx: -8.17e-07, X: 1.03e-05, Sigma: -4.11e-08\n",
      "Total Objective Function Value at iter 319: 7.423e+02\n",
      "Objective function changes for L: -1.40e-06, G: -2.93e-06, Lx: -8.07e-07, X: 1.03e-05, Sigma: -4.05e-08\n",
      "Total Objective Function Value at iter 320: 7.436e+02\n",
      "Objective function changes for L: -1.39e-06, G: -2.90e-06, Lx: -7.98e-07, X: 1.02e-05, Sigma: -4.00e-08\n",
      "Total Objective Function Value at iter 321: 7.449e+02\n",
      "Objective function changes for L: -1.37e-06, G: -2.86e-06, Lx: -7.89e-07, X: 1.02e-05, Sigma: -3.94e-08\n",
      "Total Objective Function Value at iter 322: 7.462e+02\n",
      "Objective function changes for L: -1.36e-06, G: -2.83e-06, Lx: -7.80e-07, X: 1.01e-05, Sigma: -3.89e-08\n",
      "Total Objective Function Value at iter 323: 7.475e+02\n",
      "Objective function changes for L: -1.34e-06, G: -2.79e-06, Lx: -7.71e-07, X: 1.00e-05, Sigma: -3.84e-08\n",
      "Total Objective Function Value at iter 324: 7.488e+02\n",
      "Objective function changes for L: -1.33e-06, G: -2.76e-06, Lx: -7.62e-07, X: 9.99e-06, Sigma: -3.79e-08\n",
      "Total Objective Function Value at iter 325: 7.500e+02\n",
      "Objective function changes for L: -1.31e-06, G: -2.73e-06, Lx: -7.54e-07, X: 9.93e-06, Sigma: -3.74e-08\n",
      "Total Objective Function Value at iter 326: 7.513e+02\n",
      "Objective function changes for L: -1.30e-06, G: -2.70e-06, Lx: -7.45e-07, X: 9.87e-06, Sigma: -3.69e-08\n",
      "Total Objective Function Value at iter 327: 7.526e+02\n",
      "Objective function changes for L: -1.28e-06, G: -2.66e-06, Lx: -7.37e-07, X: 9.82e-06, Sigma: -3.64e-08\n",
      "Total Objective Function Value at iter 328: 7.538e+02\n",
      "Objective function changes for L: -1.27e-06, G: -2.63e-06, Lx: -7.28e-07, X: 9.76e-06, Sigma: -3.60e-08\n",
      "Total Objective Function Value at iter 329: 7.551e+02\n",
      "Objective function changes for L: -1.25e-06, G: -2.60e-06, Lx: -7.20e-07, X: 9.70e-06, Sigma: -3.55e-08\n",
      "Total Objective Function Value at iter 330: 7.563e+02\n",
      "Objective function changes for L: -1.24e-06, G: -2.57e-06, Lx: -7.12e-07, X: 9.65e-06, Sigma: -3.50e-08\n",
      "Total Objective Function Value at iter 331: 7.575e+02\n",
      "Objective function changes for L: -1.22e-06, G: -2.54e-06, Lx: -7.04e-07, X: 9.59e-06, Sigma: -3.46e-08\n",
      "Total Objective Function Value at iter 332: 7.588e+02\n",
      "Objective function changes for L: -1.21e-06, G: -2.51e-06, Lx: -6.96e-07, X: 9.53e-06, Sigma: -3.41e-08\n",
      "Total Objective Function Value at iter 333: 7.600e+02\n",
      "Objective function changes for L: -1.20e-06, G: -2.48e-06, Lx: -6.88e-07, X: 9.48e-06, Sigma: -3.37e-08\n",
      "Total Objective Function Value at iter 334: 7.612e+02\n",
      "Objective function changes for L: -1.18e-06, G: -2.45e-06, Lx: -6.80e-07, X: 9.42e-06, Sigma: -3.32e-08\n",
      "Total Objective Function Value at iter 335: 7.624e+02\n",
      "Objective function changes for L: -1.17e-06, G: -2.42e-06, Lx: -6.73e-07, X: 9.37e-06, Sigma: -3.28e-08\n",
      "Total Objective Function Value at iter 336: 7.636e+02\n",
      "Objective function changes for L: -1.16e-06, G: -2.39e-06, Lx: -6.65e-07, X: 9.31e-06, Sigma: -3.24e-08\n",
      "Total Objective Function Value at iter 337: 7.648e+02\n",
      "Objective function changes for L: -1.14e-06, G: -2.37e-06, Lx: -6.57e-07, X: 9.26e-06, Sigma: -3.19e-08\n",
      "Total Objective Function Value at iter 338: 7.660e+02\n",
      "Objective function changes for L: -1.13e-06, G: -2.34e-06, Lx: -6.50e-07, X: 9.20e-06, Sigma: -3.15e-08\n",
      "Total Objective Function Value at iter 339: 7.672e+02\n",
      "Objective function changes for L: -1.12e-06, G: -2.31e-06, Lx: -6.43e-07, X: 9.15e-06, Sigma: -3.11e-08\n",
      "Total Objective Function Value at iter 340: 7.684e+02\n",
      "Objective function changes for L: -1.10e-06, G: -2.28e-06, Lx: -6.35e-07, X: 9.10e-06, Sigma: -3.07e-08\n",
      "Total Objective Function Value at iter 341: 7.695e+02\n",
      "Objective function changes for L: -1.09e-06, G: -2.26e-06, Lx: -6.28e-07, X: 9.05e-06, Sigma: -3.03e-08\n",
      "Total Objective Function Value at iter 342: 7.707e+02\n",
      "Objective function changes for L: -1.08e-06, G: -2.23e-06, Lx: -6.21e-07, X: 8.99e-06, Sigma: -2.99e-08\n",
      "Total Objective Function Value at iter 343: 7.719e+02\n",
      "Objective function changes for L: -1.07e-06, G: -2.20e-06, Lx: -6.14e-07, X: 8.94e-06, Sigma: -2.95e-08\n",
      "Total Objective Function Value at iter 344: 7.730e+02\n",
      "Objective function changes for L: -1.06e-06, G: -2.18e-06, Lx: -6.07e-07, X: 8.89e-06, Sigma: -2.92e-08\n",
      "Total Objective Function Value at iter 345: 7.742e+02\n",
      "Objective function changes for L: -1.04e-06, G: -2.15e-06, Lx: -6.00e-07, X: 8.84e-06, Sigma: -2.88e-08\n",
      "Total Objective Function Value at iter 346: 7.753e+02\n",
      "Objective function changes for L: -1.03e-06, G: -2.13e-06, Lx: -5.94e-07, X: 8.79e-06, Sigma: -2.84e-08\n",
      "Total Objective Function Value at iter 347: 7.764e+02\n",
      "Objective function changes for L: -1.02e-06, G: -2.10e-06, Lx: -5.87e-07, X: 8.73e-06, Sigma: -2.80e-08\n",
      "Total Objective Function Value at iter 348: 7.776e+02\n",
      "Objective function changes for L: -1.01e-06, G: -2.08e-06, Lx: -5.80e-07, X: 8.68e-06, Sigma: -2.77e-08\n",
      "Total Objective Function Value at iter 349: 7.787e+02\n",
      "Objective function changes for L: -9.98e-07, G: -2.05e-06, Lx: -5.74e-07, X: 8.63e-06, Sigma: -2.73e-08\n",
      "Total Objective Function Value at iter 350: 7.798e+02\n",
      "Objective function changes for L: -9.86e-07, G: -2.03e-06, Lx: -5.67e-07, X: 8.58e-06, Sigma: -2.70e-08\n",
      "Total Objective Function Value at iter 351: 7.809e+02\n",
      "Objective function changes for L: -9.75e-07, G: -2.01e-06, Lx: -5.61e-07, X: 8.53e-06, Sigma: -2.66e-08\n",
      "Total Objective Function Value at iter 352: 7.820e+02\n",
      "Objective function changes for L: -9.64e-07, G: -1.98e-06, Lx: -5.55e-07, X: 8.48e-06, Sigma: -2.63e-08\n",
      "Total Objective Function Value at iter 353: 7.831e+02\n",
      "Objective function changes for L: -9.54e-07, G: -1.96e-06, Lx: -5.48e-07, X: 8.44e-06, Sigma: -2.59e-08\n",
      "Total Objective Function Value at iter 354: 7.842e+02\n",
      "Objective function changes for L: -9.43e-07, G: -1.94e-06, Lx: -5.42e-07, X: 8.39e-06, Sigma: -2.56e-08\n",
      "Total Objective Function Value at iter 355: 7.853e+02\n",
      "Objective function changes for L: -9.32e-07, G: -1.91e-06, Lx: -5.36e-07, X: 8.34e-06, Sigma: -2.53e-08\n",
      "Total Objective Function Value at iter 356: 7.864e+02\n",
      "Objective function changes for L: -9.22e-07, G: -1.89e-06, Lx: -5.30e-07, X: 8.29e-06, Sigma: -2.50e-08\n",
      "Total Objective Function Value at iter 357: 7.875e+02\n",
      "Objective function changes for L: -9.12e-07, G: -1.87e-06, Lx: -5.24e-07, X: 8.24e-06, Sigma: -2.46e-08\n",
      "Total Objective Function Value at iter 358: 7.886e+02\n",
      "Objective function changes for L: -9.01e-07, G: -1.85e-06, Lx: -5.18e-07, X: 8.19e-06, Sigma: -2.43e-08\n",
      "Total Objective Function Value at iter 359: 7.896e+02\n",
      "Objective function changes for L: -8.91e-07, G: -1.83e-06, Lx: -5.12e-07, X: 8.15e-06, Sigma: -2.40e-08\n",
      "Total Objective Function Value at iter 360: 7.907e+02\n",
      "Objective function changes for L: -8.81e-07, G: -1.80e-06, Lx: -5.07e-07, X: 8.10e-06, Sigma: -2.37e-08\n",
      "Total Objective Function Value at iter 361: 7.917e+02\n",
      "Objective function changes for L: -8.71e-07, G: -1.78e-06, Lx: -5.01e-07, X: 8.05e-06, Sigma: -2.34e-08\n",
      "Total Objective Function Value at iter 362: 7.928e+02\n",
      "Objective function changes for L: -8.62e-07, G: -1.76e-06, Lx: -4.95e-07, X: 8.01e-06, Sigma: -2.31e-08\n",
      "Total Objective Function Value at iter 363: 7.938e+02\n",
      "Objective function changes for L: -8.52e-07, G: -1.74e-06, Lx: -4.90e-07, X: 7.96e-06, Sigma: -2.28e-08\n",
      "Total Objective Function Value at iter 364: 7.949e+02\n",
      "Objective function changes for L: -8.42e-07, G: -1.72e-06, Lx: -4.84e-07, X: 7.91e-06, Sigma: -2.25e-08\n",
      "Total Objective Function Value at iter 365: 7.959e+02\n",
      "Objective function changes for L: -8.33e-07, G: -1.70e-06, Lx: -4.79e-07, X: 7.87e-06, Sigma: -2.22e-08\n",
      "Total Objective Function Value at iter 366: 7.970e+02\n",
      "Objective function changes for L: -8.24e-07, G: -1.68e-06, Lx: -4.74e-07, X: 7.82e-06, Sigma: -2.19e-08\n",
      "Total Objective Function Value at iter 367: 7.980e+02\n",
      "Objective function changes for L: -8.15e-07, G: -1.66e-06, Lx: -4.68e-07, X: 7.78e-06, Sigma: -2.17e-08\n",
      "Total Objective Function Value at iter 368: 7.990e+02\n",
      "Objective function changes for L: -8.05e-07, G: -1.64e-06, Lx: -4.63e-07, X: 7.73e-06, Sigma: -2.14e-08\n",
      "Total Objective Function Value at iter 369: 8.000e+02\n",
      "Objective function changes for L: -7.96e-07, G: -1.62e-06, Lx: -4.58e-07, X: 7.69e-06, Sigma: -2.11e-08\n",
      "Total Objective Function Value at iter 370: 8.010e+02\n",
      "Objective function changes for L: -7.88e-07, G: -1.61e-06, Lx: -4.53e-07, X: 7.64e-06, Sigma: -2.08e-08\n",
      "Total Objective Function Value at iter 371: 8.020e+02\n",
      "Objective function changes for L: -7.79e-07, G: -1.59e-06, Lx: -4.48e-07, X: 7.60e-06, Sigma: -2.06e-08\n",
      "Total Objective Function Value at iter 372: 8.030e+02\n",
      "Objective function changes for L: -7.70e-07, G: -1.57e-06, Lx: -4.43e-07, X: 7.56e-06, Sigma: -2.03e-08\n",
      "Total Objective Function Value at iter 373: 8.040e+02\n",
      "Objective function changes for L: -7.61e-07, G: -1.55e-06, Lx: -4.38e-07, X: 7.51e-06, Sigma: -2.01e-08\n",
      "Total Objective Function Value at iter 374: 8.050e+02\n",
      "Objective function changes for L: -7.53e-07, G: -1.53e-06, Lx: -4.33e-07, X: 7.47e-06, Sigma: -1.98e-08\n",
      "Total Objective Function Value at iter 375: 8.060e+02\n",
      "Objective function changes for L: -7.45e-07, G: -1.52e-06, Lx: -4.28e-07, X: 7.43e-06, Sigma: -1.96e-08\n",
      "Total Objective Function Value at iter 376: 8.070e+02\n",
      "Objective function changes for L: -7.36e-07, G: -1.50e-06, Lx: -4.23e-07, X: 7.38e-06, Sigma: -1.93e-08\n",
      "Total Objective Function Value at iter 377: 8.079e+02\n",
      "Objective function changes for L: -7.28e-07, G: -1.48e-06, Lx: -4.18e-07, X: 7.34e-06, Sigma: -1.91e-08\n",
      "Total Objective Function Value at iter 378: 8.089e+02\n",
      "Objective function changes for L: -7.20e-07, G: -1.46e-06, Lx: -4.14e-07, X: 7.30e-06, Sigma: -1.88e-08\n",
      "Total Objective Function Value at iter 379: 8.099e+02\n",
      "Objective function changes for L: -7.12e-07, G: -1.45e-06, Lx: -4.09e-07, X: 7.26e-06, Sigma: -1.86e-08\n",
      "Total Objective Function Value at iter 380: 8.108e+02\n",
      "Objective function changes for L: -7.04e-07, G: -1.43e-06, Lx: -4.05e-07, X: 7.22e-06, Sigma: -1.84e-08\n",
      "Total Objective Function Value at iter 381: 8.118e+02\n",
      "Objective function changes for L: -6.96e-07, G: -1.41e-06, Lx: -4.00e-07, X: 7.17e-06, Sigma: -1.81e-08\n",
      "Total Objective Function Value at iter 382: 8.127e+02\n",
      "Objective function changes for L: -6.88e-07, G: -1.40e-06, Lx: -3.96e-07, X: 7.13e-06, Sigma: -1.79e-08\n",
      "Total Objective Function Value at iter 383: 8.137e+02\n",
      "Objective function changes for L: -6.81e-07, G: -1.38e-06, Lx: -3.91e-07, X: 7.09e-06, Sigma: -1.77e-08\n",
      "Total Objective Function Value at iter 384: 8.146e+02\n",
      "Objective function changes for L: -6.73e-07, G: -1.37e-06, Lx: -3.87e-07, X: 7.05e-06, Sigma: -1.74e-08\n",
      "Total Objective Function Value at iter 385: 8.155e+02\n",
      "Objective function changes for L: -6.66e-07, G: -1.35e-06, Lx: -3.83e-07, X: 7.01e-06, Sigma: -1.72e-08\n",
      "Total Objective Function Value at iter 386: 8.165e+02\n",
      "Objective function changes for L: -6.58e-07, G: -1.33e-06, Lx: -3.78e-07, X: 6.97e-06, Sigma: -1.70e-08\n",
      "Total Objective Function Value at iter 387: 8.174e+02\n",
      "Objective function changes for L: -6.51e-07, G: -1.32e-06, Lx: -3.74e-07, X: 6.93e-06, Sigma: -1.68e-08\n",
      "Total Objective Function Value at iter 388: 8.183e+02\n",
      "Objective function changes for L: -6.44e-07, G: -1.30e-06, Lx: -3.70e-07, X: 6.89e-06, Sigma: -1.66e-08\n",
      "Total Objective Function Value at iter 389: 8.192e+02\n",
      "Objective function changes for L: -6.37e-07, G: -1.29e-06, Lx: -3.66e-07, X: 6.85e-06, Sigma: -1.64e-08\n",
      "Total Objective Function Value at iter 390: 8.201e+02\n",
      "Objective function changes for L: -6.30e-07, G: -1.27e-06, Lx: -3.62e-07, X: 6.81e-06, Sigma: -1.62e-08\n",
      "Total Objective Function Value at iter 391: 8.210e+02\n",
      "Objective function changes for L: -6.23e-07, G: -1.26e-06, Lx: -3.58e-07, X: 6.77e-06, Sigma: -1.60e-08\n",
      "Total Objective Function Value at iter 392: 8.219e+02\n",
      "Objective function changes for L: -6.16e-07, G: -1.24e-06, Lx: -3.54e-07, X: 6.73e-06, Sigma: -1.58e-08\n",
      "Total Objective Function Value at iter 393: 8.228e+02\n",
      "Objective function changes for L: -6.09e-07, G: -1.23e-06, Lx: -3.50e-07, X: 6.70e-06, Sigma: -1.56e-08\n",
      "Total Objective Function Value at iter 394: 8.237e+02\n",
      "Objective function changes for L: -6.02e-07, G: -1.22e-06, Lx: -3.46e-07, X: 6.66e-06, Sigma: -1.54e-08\n",
      "Total Objective Function Value at iter 395: 8.246e+02\n",
      "Objective function changes for L: -5.95e-07, G: -1.20e-06, Lx: -3.42e-07, X: 6.62e-06, Sigma: -1.52e-08\n",
      "Total Objective Function Value at iter 396: 8.255e+02\n",
      "Objective function changes for L: -5.89e-07, G: -1.19e-06, Lx: -3.38e-07, X: 6.58e-06, Sigma: -1.50e-08\n",
      "Total Objective Function Value at iter 397: 8.264e+02\n",
      "Objective function changes for L: -5.82e-07, G: -1.18e-06, Lx: -3.35e-07, X: 6.54e-06, Sigma: -1.48e-08\n",
      "Total Objective Function Value at iter 398: 8.272e+02\n",
      "Objective function changes for L: -5.76e-07, G: -1.16e-06, Lx: -3.31e-07, X: 6.51e-06, Sigma: -1.46e-08\n",
      "Total Objective Function Value at iter 399: 8.281e+02\n",
      "Objective function changes for L: -5.70e-07, G: -1.15e-06, Lx: -3.27e-07, X: 6.47e-06, Sigma: -1.44e-08\n",
      "Total Objective Function Value at iter 400: 8.290e+02\n",
      "Objective function changes for L: -5.63e-07, G: -1.14e-06, Lx: -3.24e-07, X: 6.43e-06, Sigma: -1.43e-08\n",
      "Total Objective Function Value at iter 401: 8.298e+02\n",
      "Objective function changes for L: -5.57e-07, G: -1.12e-06, Lx: -3.20e-07, X: 6.39e-06, Sigma: -1.41e-08\n",
      "Total Objective Function Value at iter 402: 8.307e+02\n",
      "Objective function changes for L: -5.51e-07, G: -1.11e-06, Lx: -3.16e-07, X: 6.36e-06, Sigma: -1.39e-08\n",
      "Total Objective Function Value at iter 403: 8.315e+02\n",
      "Objective function changes for L: -5.45e-07, G: -1.10e-06, Lx: -3.13e-07, X: 6.32e-06, Sigma: -1.37e-08\n",
      "Total Objective Function Value at iter 404: 8.324e+02\n",
      "Objective function changes for L: -5.39e-07, G: -1.08e-06, Lx: -3.10e-07, X: 6.29e-06, Sigma: -1.36e-08\n",
      "Total Objective Function Value at iter 405: 8.332e+02\n",
      "Objective function changes for L: -5.33e-07, G: -1.07e-06, Lx: -3.06e-07, X: 6.25e-06, Sigma: -1.34e-08\n",
      "Total Objective Function Value at iter 406: 8.341e+02\n",
      "Objective function changes for L: -5.27e-07, G: -1.06e-06, Lx: -3.03e-07, X: 6.21e-06, Sigma: -1.32e-08\n",
      "Total Objective Function Value at iter 407: 8.349e+02\n",
      "Objective function changes for L: -5.21e-07, G: -1.05e-06, Lx: -2.99e-07, X: 6.18e-06, Sigma: -1.31e-08\n",
      "Total Objective Function Value at iter 408: 8.357e+02\n",
      "Objective function changes for L: -5.15e-07, G: -1.04e-06, Lx: -2.96e-07, X: 6.14e-06, Sigma: -1.29e-08\n",
      "Total Objective Function Value at iter 409: 8.365e+02\n",
      "Objective function changes for L: -5.10e-07, G: -1.02e-06, Lx: -2.93e-07, X: 6.11e-06, Sigma: -1.27e-08\n",
      "Total Objective Function Value at iter 410: 8.374e+02\n",
      "Objective function changes for L: -5.04e-07, G: -1.01e-06, Lx: -2.90e-07, X: 6.07e-06, Sigma: -1.26e-08\n",
      "Total Objective Function Value at iter 411: 8.382e+02\n",
      "Objective function changes for L: -4.98e-07, G: -1.00e-06, Lx: -2.86e-07, X: 6.04e-06, Sigma: -1.24e-08\n",
      "Total Objective Function Value at iter 412: 8.390e+02\n",
      "Objective function changes for L: -4.93e-07, G: -9.89e-07, Lx: -2.83e-07, X: 6.00e-06, Sigma: -1.23e-08\n",
      "Total Objective Function Value at iter 413: 8.398e+02\n",
      "Objective function changes for L: -4.88e-07, G: -9.78e-07, Lx: -2.80e-07, X: 5.97e-06, Sigma: -1.21e-08\n",
      "Total Objective Function Value at iter 414: 8.406e+02\n",
      "Objective function changes for L: -4.82e-07, G: -9.67e-07, Lx: -2.77e-07, X: 5.94e-06, Sigma: -1.20e-08\n",
      "Total Objective Function Value at iter 415: 8.414e+02\n",
      "Objective function changes for L: -4.77e-07, G: -9.56e-07, Lx: -2.74e-07, X: 5.90e-06, Sigma: -1.18e-08\n",
      "Total Objective Function Value at iter 416: 8.422e+02\n",
      "Objective function changes for L: -4.72e-07, G: -9.45e-07, Lx: -2.71e-07, X: 5.87e-06, Sigma: -1.17e-08\n",
      "Total Objective Function Value at iter 417: 8.430e+02\n",
      "Objective function changes for L: -4.66e-07, G: -9.34e-07, Lx: -2.68e-07, X: 5.84e-06, Sigma: -1.15e-08\n",
      "Total Objective Function Value at iter 418: 8.438e+02\n",
      "Objective function changes for L: -4.61e-07, G: -9.24e-07, Lx: -2.65e-07, X: 5.80e-06, Sigma: -1.14e-08\n",
      "Total Objective Function Value at iter 419: 8.445e+02\n",
      "Objective function changes for L: -4.56e-07, G: -9.13e-07, Lx: -2.62e-07, X: 5.77e-06, Sigma: -1.12e-08\n",
      "Total Objective Function Value at iter 420: 8.453e+02\n",
      "Objective function changes for L: -4.51e-07, G: -9.03e-07, Lx: -2.59e-07, X: 5.74e-06, Sigma: -1.11e-08\n",
      "Total Objective Function Value at iter 421: 8.461e+02\n",
      "Objective function changes for L: -4.46e-07, G: -8.93e-07, Lx: -2.56e-07, X: 5.70e-06, Sigma: -1.10e-08\n",
      "Total Objective Function Value at iter 422: 8.469e+02\n",
      "Objective function changes for L: -4.41e-07, G: -8.83e-07, Lx: -2.53e-07, X: 5.67e-06, Sigma: -1.08e-08\n",
      "Total Objective Function Value at iter 423: 8.476e+02\n",
      "Objective function changes for L: -4.36e-07, G: -8.73e-07, Lx: -2.51e-07, X: 5.64e-06, Sigma: -1.07e-08\n",
      "Total Objective Function Value at iter 424: 8.484e+02\n",
      "Objective function changes for L: -4.32e-07, G: -8.63e-07, Lx: -2.48e-07, X: 5.61e-06, Sigma: -1.06e-08\n",
      "Total Objective Function Value at iter 425: 8.491e+02\n",
      "Objective function changes for L: -4.27e-07, G: -8.53e-07, Lx: -2.45e-07, X: 5.57e-06, Sigma: -1.04e-08\n",
      "Total Objective Function Value at iter 426: 8.499e+02\n",
      "Objective function changes for L: -4.22e-07, G: -8.43e-07, Lx: -2.42e-07, X: 5.54e-06, Sigma: -1.03e-08\n",
      "Total Objective Function Value at iter 427: 8.506e+02\n",
      "Objective function changes for L: -4.18e-07, G: -8.34e-07, Lx: -2.40e-07, X: 5.51e-06, Sigma: -1.02e-08\n",
      "Total Objective Function Value at iter 428: 8.514e+02\n",
      "Objective function changes for L: -4.13e-07, G: -8.24e-07, Lx: -2.37e-07, X: 5.48e-06, Sigma: -1.01e-08\n",
      "Total Objective Function Value at iter 429: 8.521e+02\n",
      "Objective function changes for L: -4.08e-07, G: -8.15e-07, Lx: -2.35e-07, X: 5.45e-06, Sigma: -9.94e-09\n",
      "Total Objective Function Value at iter 430: 8.529e+02\n",
      "Objective function changes for L: -4.04e-07, G: -8.06e-07, Lx: -2.32e-07, X: 5.42e-06, Sigma: -9.82e-09\n",
      "Total Objective Function Value at iter 431: 8.536e+02\n",
      "Objective function changes for L: -3.99e-07, G: -7.97e-07, Lx: -2.29e-07, X: 5.39e-06, Sigma: -9.70e-09\n",
      "Total Objective Function Value at iter 432: 8.543e+02\n",
      "Objective function changes for L: -3.95e-07, G: -7.88e-07, Lx: -2.27e-07, X: 5.36e-06, Sigma: -9.58e-09\n",
      "Total Objective Function Value at iter 433: 8.550e+02\n",
      "Objective function changes for L: -3.91e-07, G: -7.79e-07, Lx: -2.24e-07, X: 5.33e-06, Sigma: -9.46e-09\n",
      "Total Objective Function Value at iter 434: 8.558e+02\n",
      "Objective function changes for L: -3.86e-07, G: -7.70e-07, Lx: -2.22e-07, X: 5.30e-06, Sigma: -9.34e-09\n",
      "Total Objective Function Value at iter 435: 8.565e+02\n",
      "Objective function changes for L: -3.82e-07, G: -7.61e-07, Lx: -2.20e-07, X: 5.27e-06, Sigma: -9.23e-09\n",
      "Total Objective Function Value at iter 436: 8.572e+02\n",
      "Objective function changes for L: -3.78e-07, G: -7.53e-07, Lx: -2.17e-07, X: 5.24e-06, Sigma: -9.12e-09\n",
      "Total Objective Function Value at iter 437: 8.579e+02\n",
      "Objective function changes for L: -3.74e-07, G: -7.44e-07, Lx: -2.15e-07, X: 5.21e-06, Sigma: -9.01e-09\n",
      "Total Objective Function Value at iter 438: 8.586e+02\n",
      "Objective function changes for L: -3.70e-07, G: -7.36e-07, Lx: -2.12e-07, X: 5.18e-06, Sigma: -8.90e-09\n",
      "Total Objective Function Value at iter 439: 8.593e+02\n",
      "Objective function changes for L: -3.66e-07, G: -7.28e-07, Lx: -2.10e-07, X: 5.15e-06, Sigma: -8.79e-09\n",
      "Total Objective Function Value at iter 440: 8.600e+02\n",
      "Objective function changes for L: -3.62e-07, G: -7.19e-07, Lx: -2.08e-07, X: 5.12e-06, Sigma: -8.68e-09\n",
      "Total Objective Function Value at iter 441: 8.607e+02\n",
      "Objective function changes for L: -3.58e-07, G: -7.11e-07, Lx: -2.05e-07, X: 5.09e-06, Sigma: -8.57e-09\n",
      "Total Objective Function Value at iter 442: 8.614e+02\n",
      "Objective function changes for L: -3.54e-07, G: -7.03e-07, Lx: -2.03e-07, X: 5.06e-06, Sigma: -8.47e-09\n",
      "Total Objective Function Value at iter 443: 8.621e+02\n",
      "Objective function changes for L: -3.50e-07, G: -6.95e-07, Lx: -2.01e-07, X: 5.03e-06, Sigma: -8.37e-09\n",
      "Total Objective Function Value at iter 444: 8.628e+02\n",
      "Objective function changes for L: -3.46e-07, G: -6.88e-07, Lx: -1.99e-07, X: 5.00e-06, Sigma: -8.26e-09\n",
      "Total Objective Function Value at iter 445: 8.634e+02\n",
      "Objective function changes for L: -3.42e-07, G: -6.80e-07, Lx: -1.97e-07, X: 4.98e-06, Sigma: -8.16e-09\n",
      "Total Objective Function Value at iter 446: 8.641e+02\n",
      "Objective function changes for L: -3.39e-07, G: -6.72e-07, Lx: -1.94e-07, X: 4.95e-06, Sigma: -8.06e-09\n",
      "Total Objective Function Value at iter 447: 8.648e+02\n",
      "Objective function changes for L: -3.35e-07, G: -6.65e-07, Lx: -1.92e-07, X: 4.92e-06, Sigma: -7.97e-09\n",
      "Total Objective Function Value at iter 448: 8.655e+02\n",
      "Objective function changes for L: -3.31e-07, G: -6.57e-07, Lx: -1.90e-07, X: 4.89e-06, Sigma: -7.87e-09\n",
      "Total Objective Function Value at iter 449: 8.661e+02\n",
      "Objective function changes for L: -3.28e-07, G: -6.50e-07, Lx: -1.88e-07, X: 4.86e-06, Sigma: -7.77e-09\n",
      "Total Objective Function Value at iter 450: 8.668e+02\n",
      "Objective function changes for L: -3.24e-07, G: -6.42e-07, Lx: -1.86e-07, X: 4.84e-06, Sigma: -7.68e-09\n",
      "Total Objective Function Value at iter 451: 8.675e+02\n",
      "Objective function changes for L: -3.21e-07, G: -6.35e-07, Lx: -1.84e-07, X: 4.81e-06, Sigma: -7.59e-09\n",
      "Total Objective Function Value at iter 452: 8.681e+02\n",
      "Objective function changes for L: -3.17e-07, G: -6.28e-07, Lx: -1.82e-07, X: 4.78e-06, Sigma: -7.49e-09\n",
      "Total Objective Function Value at iter 453: 8.688e+02\n",
      "Objective function changes for L: -3.14e-07, G: -6.21e-07, Lx: -1.80e-07, X: 4.75e-06, Sigma: -7.40e-09\n",
      "Total Objective Function Value at iter 454: 8.694e+02\n",
      "Objective function changes for L: -3.10e-07, G: -6.14e-07, Lx: -1.78e-07, X: 4.73e-06, Sigma: -7.31e-09\n",
      "Total Objective Function Value at iter 455: 8.701e+02\n",
      "Objective function changes for L: -3.07e-07, G: -6.07e-07, Lx: -1.76e-07, X: 4.70e-06, Sigma: -7.23e-09\n",
      "Total Objective Function Value at iter 456: 8.707e+02\n",
      "Objective function changes for L: -3.03e-07, G: -6.00e-07, Lx: -1.74e-07, X: 4.67e-06, Sigma: -7.14e-09\n",
      "Total Objective Function Value at iter 457: 8.713e+02\n",
      "Objective function changes for L: -3.00e-07, G: -5.94e-07, Lx: -1.72e-07, X: 4.65e-06, Sigma: -7.05e-09\n",
      "Total Objective Function Value at iter 458: 8.720e+02\n",
      "Objective function changes for L: -2.97e-07, G: -5.87e-07, Lx: -1.70e-07, X: 4.62e-06, Sigma: -6.97e-09\n",
      "Total Objective Function Value at iter 459: 8.726e+02\n",
      "Objective function changes for L: -2.94e-07, G: -5.80e-07, Lx: -1.69e-07, X: 4.60e-06, Sigma: -6.88e-09\n",
      "Total Objective Function Value at iter 460: 8.732e+02\n",
      "Objective function changes for L: -2.90e-07, G: -5.74e-07, Lx: -1.67e-07, X: 4.57e-06, Sigma: -6.80e-09\n",
      "Total Objective Function Value at iter 461: 8.739e+02\n",
      "Objective function changes for L: -2.87e-07, G: -5.68e-07, Lx: -1.65e-07, X: 4.54e-06, Sigma: -6.72e-09\n",
      "Total Objective Function Value at iter 462: 8.745e+02\n",
      "Objective function changes for L: -2.84e-07, G: -5.61e-07, Lx: -1.63e-07, X: 4.52e-06, Sigma: -6.64e-09\n",
      "Total Objective Function Value at iter 463: 8.751e+02\n",
      "Objective function changes for L: -2.81e-07, G: -5.55e-07, Lx: -1.61e-07, X: 4.49e-06, Sigma: -6.56e-09\n",
      "Total Objective Function Value at iter 464: 8.757e+02\n",
      "Objective function changes for L: -2.78e-07, G: -5.49e-07, Lx: -1.60e-07, X: 4.47e-06, Sigma: -6.48e-09\n",
      "Total Objective Function Value at iter 465: 8.763e+02\n",
      "Objective function changes for L: -2.75e-07, G: -5.43e-07, Lx: -1.58e-07, X: 4.44e-06, Sigma: -6.40e-09\n",
      "Total Objective Function Value at iter 466: 8.769e+02\n",
      "Objective function changes for L: -2.72e-07, G: -5.37e-07, Lx: -1.56e-07, X: 4.42e-06, Sigma: -6.32e-09\n",
      "Total Objective Function Value at iter 467: 8.775e+02\n",
      "Objective function changes for L: -2.69e-07, G: -5.31e-07, Lx: -1.54e-07, X: 4.39e-06, Sigma: -6.25e-09\n",
      "Total Objective Function Value at iter 468: 8.781e+02\n",
      "Objective function changes for L: -2.66e-07, G: -5.25e-07, Lx: -1.53e-07, X: 4.37e-06, Sigma: -6.17e-09\n",
      "Total Objective Function Value at iter 469: 8.787e+02\n",
      "Objective function changes for L: -2.63e-07, G: -5.19e-07, Lx: -1.51e-07, X: 4.34e-06, Sigma: -6.10e-09\n",
      "Total Objective Function Value at iter 470: 8.793e+02\n",
      "Objective function changes for L: -2.60e-07, G: -5.13e-07, Lx: -1.49e-07, X: 4.32e-06, Sigma: -6.02e-09\n",
      "Total Objective Function Value at iter 471: 8.799e+02\n",
      "Objective function changes for L: -2.57e-07, G: -5.07e-07, Lx: -1.48e-07, X: 4.29e-06, Sigma: -5.95e-09\n",
      "Total Objective Function Value at iter 472: 8.805e+02\n",
      "Objective function changes for L: -2.55e-07, G: -5.02e-07, Lx: -1.46e-07, X: 4.27e-06, Sigma: -5.88e-09\n",
      "Total Objective Function Value at iter 473: 8.811e+02\n",
      "Objective function changes for L: -2.52e-07, G: -4.96e-07, Lx: -1.45e-07, X: 4.25e-06, Sigma: -5.81e-09\n",
      "Total Objective Function Value at iter 474: 8.817e+02\n",
      "Objective function changes for L: -2.49e-07, G: -4.90e-07, Lx: -1.43e-07, X: 4.22e-06, Sigma: -5.74e-09\n",
      "Total Objective Function Value at iter 475: 8.823e+02\n",
      "Objective function changes for L: -2.46e-07, G: -4.85e-07, Lx: -1.41e-07, X: 4.20e-06, Sigma: -5.67e-09\n",
      "Total Objective Function Value at iter 476: 8.828e+02\n",
      "Objective function changes for L: -2.44e-07, G: -4.80e-07, Lx: -1.40e-07, X: 4.17e-06, Sigma: -5.60e-09\n",
      "Total Objective Function Value at iter 477: 8.834e+02\n",
      "Objective function changes for L: -2.41e-07, G: -4.74e-07, Lx: -1.38e-07, X: 4.15e-06, Sigma: -5.54e-09\n",
      "Total Objective Function Value at iter 478: 8.840e+02\n",
      "Objective function changes for L: -2.38e-07, G: -4.69e-07, Lx: -1.37e-07, X: 4.13e-06, Sigma: -5.47e-09\n",
      "Total Objective Function Value at iter 479: 8.845e+02\n",
      "Objective function changes for L: -2.36e-07, G: -4.64e-07, Lx: -1.35e-07, X: 4.10e-06, Sigma: -5.40e-09\n",
      "Total Objective Function Value at iter 480: 8.851e+02\n",
      "Objective function changes for L: -2.33e-07, G: -4.59e-07, Lx: -1.34e-07, X: 4.08e-06, Sigma: -5.34e-09\n",
      "Total Objective Function Value at iter 481: 8.857e+02\n",
      "Objective function changes for L: -2.31e-07, G: -4.53e-07, Lx: -1.32e-07, X: 4.06e-06, Sigma: -5.28e-09\n",
      "Total Objective Function Value at iter 482: 8.862e+02\n",
      "Objective function changes for L: -2.28e-07, G: -4.48e-07, Lx: -1.31e-07, X: 4.04e-06, Sigma: -5.21e-09\n",
      "Total Objective Function Value at iter 483: 8.868e+02\n",
      "Objective function changes for L: -2.26e-07, G: -4.43e-07, Lx: -1.30e-07, X: 4.01e-06, Sigma: -5.15e-09\n",
      "Total Objective Function Value at iter 484: 8.873e+02\n",
      "Objective function changes for L: -2.23e-07, G: -4.39e-07, Lx: -1.28e-07, X: 3.99e-06, Sigma: -5.09e-09\n",
      "Total Objective Function Value at iter 485: 8.879e+02\n",
      "Objective function changes for L: -2.21e-07, G: -4.34e-07, Lx: -1.27e-07, X: 3.97e-06, Sigma: -5.03e-09\n",
      "Total Objective Function Value at iter 486: 8.884e+02\n",
      "Objective function changes for L: -2.19e-07, G: -4.29e-07, Lx: -1.25e-07, X: 3.95e-06, Sigma: -4.97e-09\n",
      "Total Objective Function Value at iter 487: 8.890e+02\n",
      "Objective function changes for L: -2.16e-07, G: -4.24e-07, Lx: -1.24e-07, X: 3.92e-06, Sigma: -4.91e-09\n",
      "Total Objective Function Value at iter 488: 8.895e+02\n",
      "Objective function changes for L: -2.14e-07, G: -4.19e-07, Lx: -1.23e-07, X: 3.90e-06, Sigma: -4.85e-09\n",
      "Total Objective Function Value at iter 489: 8.901e+02\n",
      "Objective function changes for L: -2.11e-07, G: -4.15e-07, Lx: -1.21e-07, X: 3.88e-06, Sigma: -4.79e-09\n",
      "Total Objective Function Value at iter 490: 8.906e+02\n",
      "Objective function changes for L: -2.09e-07, G: -4.10e-07, Lx: -1.20e-07, X: 3.86e-06, Sigma: -4.73e-09\n",
      "Total Objective Function Value at iter 491: 8.911e+02\n",
      "Objective function changes for L: -2.07e-07, G: -4.06e-07, Lx: -1.19e-07, X: 3.84e-06, Sigma: -4.68e-09\n",
      "Total Objective Function Value at iter 492: 8.916e+02\n",
      "Objective function changes for L: -2.05e-07, G: -4.01e-07, Lx: -1.17e-07, X: 3.81e-06, Sigma: -4.62e-09\n",
      "Total Objective Function Value at iter 493: 8.922e+02\n",
      "Objective function changes for L: -2.02e-07, G: -3.97e-07, Lx: -1.16e-07, X: 3.79e-06, Sigma: -4.57e-09\n",
      "Total Objective Function Value at iter 494: 8.927e+02\n",
      "Objective function changes for L: -2.00e-07, G: -3.92e-07, Lx: -1.15e-07, X: 3.77e-06, Sigma: -4.51e-09\n",
      "Total Objective Function Value at iter 495: 8.932e+02\n",
      "Objective function changes for L: -1.98e-07, G: -3.88e-07, Lx: -1.14e-07, X: 3.75e-06, Sigma: -4.46e-09\n",
      "Total Objective Function Value at iter 496: 8.937e+02\n",
      "Objective function changes for L: -1.96e-07, G: -3.84e-07, Lx: -1.12e-07, X: 3.73e-06, Sigma: -4.41e-09\n",
      "Total Objective Function Value at iter 497: 8.943e+02\n",
      "Objective function changes for L: -1.94e-07, G: -3.79e-07, Lx: -1.11e-07, X: 3.71e-06, Sigma: -4.35e-09\n",
      "Total Objective Function Value at iter 498: 8.948e+02\n",
      "Objective function changes for L: -1.92e-07, G: -3.75e-07, Lx: -1.10e-07, X: 3.69e-06, Sigma: -4.30e-09\n",
      "Total Objective Function Value at iter 499: 8.953e+02\n",
      "Objective function changes for L: -1.90e-07, G: -3.71e-07, Lx: -1.09e-07, X: 3.67e-06, Sigma: -4.25e-09\n",
      "Total Objective Function Value at iter 500: 8.958e+02\n"
     ]
    }
   ],
   "source": [
    "L, fval_tot, lam_val = geoTL(Y, Phi, gamma, theta, alpha, max_iter=500, err_tol=1e-2,verbose=True)"
   ]
  },
  {
   "cell_type": "code",
   "execution_count": null,
   "metadata": {},
   "outputs": [
    {
     "data": {
      "text/plain": [
       "[<matplotlib.lines.Line2D at 0x1faa404e1c0>]"
      ]
     },
     "execution_count": 144,
     "metadata": {},
     "output_type": "execute_result"
    },
    {
     "data": {
      "image/png": "[encoded data removed]",
      "text/plain": [
       "<Figure size 432x288 with 1 Axes>"
      ]
     },
     "metadata": {
      "needs_background": "light"
     },
     "output_type": "display_data"
    }
   ],
   "source": [
    "plt.semilogy(lam_val)"
   ]
  },
  {
   "cell_type": "markdown",
   "metadata": {},
   "source": [
    "## Examine Results\n",
    "Let's see how our algorithm performed. Starting with normalized error from the original signal."
   ]
  },
  {
   "cell_type": "code",
   "execution_count": null,
   "metadata": {},
   "outputs": [
    {
     "name": "stdout",
     "output_type": "stream",
     "text": [
      "Normalized error of the output: 0.74\n",
      "Normalized error of the input: 0.91\n"
     ]
    }
   ],
   "source": [
    "print('Normalized error of the output: {:.2f}'.format(norm(X_smooth-L)/norm(X_smooth)))\n",
    "print('Normalized error of the input: {:.2f}'.format(norm(X_smooth-Y)/norm(X_smooth)))\n"
   ]
  },
  {
   "cell_type": "code",
   "execution_count": null,
   "metadata": {},
   "outputs": [
    {
     "name": "stdout",
     "output_type": "stream",
     "text": [
      "The smoothness value for X is: 86.17, while for L it is: 107.34\n",
      "Ratio is (X/L): 0.802799\n",
      "The smoothness value for X is: 65.25, while for L it is: 84.43\n",
      "Ratio is (X/L): 0.772899\n",
      "The smoothness value for X is: 40.95, while for L it is: 54.60\n",
      "Ratio is (X/L): 0.749958\n",
      "The smoothness value for X is: 30.85, while for L it is: 46.97\n",
      "Ratio is (X/L): 0.656819\n"
     ]
    }
   ],
   "source": [
    "for i in range(n):\n",
    "    x_smooth_val = np.trace(t2m(X_smooth,i).transpose()@Phi[i]@t2m(X_smooth,i))\n",
    "    l_smooth_val = np.trace(t2m(L,i).transpose()@Phi[i]@t2m(L,i))\n",
    "    print('The smoothness value for X is: {:.2f}, while for L it is: {:.2f}'.format(\n",
    "        x_smooth_val,\n",
    "        l_smooth_val\n",
    "        )\n",
    "    )\n",
    "    print('Ratio is (X/L): {:.6f}'.format(x_smooth_val/l_smooth_val))"
   ]
  },
  {
   "cell_type": "code",
   "execution_count": null,
   "metadata": {},
   "outputs": [
    {
     "name": "stdout",
     "output_type": "stream",
     "text": [
      "The smoothness value for Y is: 1.8820e+02, while for L it is: 1.0734e+02\n",
      "Ratio is (Y/L): 1.753285\n",
      "The smoothness value for Y is: 1.3050e+02, while for L it is: 8.4427e+01\n",
      "Ratio is (Y/L): 1.545772\n",
      "The smoothness value for Y is: 8.4287e+01, while for L it is: 5.4601e+01\n",
      "Ratio is (Y/L): 1.543699\n",
      "The smoothness value for Y is: 7.3033e+01, while for L it is: 4.6967e+01\n",
      "Ratio is (Y/L): 1.554979\n"
     ]
    }
   ],
   "source": [
    "for i in range(n):\n",
    "    x_smooth_val = np.trace(t2m(Y.data,i).transpose()@Phi[i]@t2m(Y.data,i))\n",
    "    l_smooth_val = np.trace(t2m(L,i).transpose()@Phi[i]@t2m(L,i))\n",
    "    print('The smoothness value for Y is: {:.4e}, while for L it is: {:.4e}'.format(\n",
    "        x_smooth_val,\n",
    "        l_smooth_val\n",
    "        )\n",
    "    )\n",
    "    print('Ratio is (Y/L): {:.6f}'.format(x_smooth_val/l_smooth_val))"
   ]
  },
  {
   "cell_type": "code",
   "execution_count": null,
   "metadata": {},
   "outputs": [
    {
     "name": "stdout",
     "output_type": "stream",
     "text": [
      "37.42193368325348\n",
      "67.35289865839772\n",
      "1.7998241146084473\n",
      "82\n",
      "9.435912520923985\n",
      "16.108150719892492\n",
      "1.7071110699863872\n",
      "16\n",
      "7.075068022325588\n",
      "25.46873532620033\n",
      "3.599786637504117\n",
      "12\n",
      "19.427293234685663\n",
      "12.39137826529845\n",
      "0.6378334910379986\n",
      "10\n"
     ]
    }
   ],
   "source": [
    "# Plot stationarity for Y\n",
    "for i in range(n):\n",
    "    P_Y = V[i].transpose()@t2m(Y.data,i)\n",
    "    cov = t2m(Y.data,i)@t2m(Y.data,i).transpose()\n",
    "    psd_y = np.array(P_Y@P_Y.transpose())\n",
    "    psd_off_diag = norm(psd_y.ravel(), ord=1) - np.trace(psd_y)\n",
    "    print(psd_off_diag)\n",
    "    cov_off_diag = norm(cov.ravel(), ord=1) - np.trace(cov)\n",
    "    print(cov_off_diag)\n",
    "    print(cov_off_diag/psd_off_diag)\n",
    "    print(np.trace(Phi[i]))\n",
    "    # plt.imshow(np.log10(abs(psd_y)))\n",
    "    # plt.colorbar()\n",
    "    # plt.show()"
   ]
  },
  {
   "cell_type": "code",
   "execution_count": null,
   "metadata": {},
   "outputs": [],
   "source": [
    "# # Plot stationarity for L\n",
    "# for i in range(n):\n",
    "#     P_L = V[i].transpose()@t2m(L,i)\n",
    "#     cov = P_L@P_L.transpose()\n",
    "#     plt.imshow(np.log10(abs(cov)))\n",
    "#     plt.colorbar()\n",
    "#     plt.show()"
   ]
  },
  {
   "cell_type": "code",
   "execution_count": null,
   "metadata": {},
   "outputs": [],
   "source": [
    "# plt.semilogy(fval_tot[7:]-min(fval_tot[7:]))\n",
    "# plt.show()"
   ]
  },
  {
   "cell_type": "code",
   "execution_count": null,
   "metadata": {},
   "outputs": [
    {
     "name": "stdout",
     "output_type": "stream",
     "text": [
      "Function value of original signal: 7.8e+01\n"
     ]
    }
   ],
   "source": [
    "# Function value for original X\n",
    "X_rep = [X_smooth for i in range(n)]\n",
    "err_orig = fn_val_L(X_smooth, Y, Lx, G_var, Lambda[:2], alpha[:2])[1]\n",
    "smooth_orig = fn_val_G(X_rep, X_smooth, Phi, Lambda[0], alpha[0], gamma)[1]\n",
    "x_sigma = [t2m(X_smooth,i)@t2m(X_smooth,i).transpose() for i in range(n)]\n",
    "comm_orig = fnval_Sigma(x_sigma, Lx, X, Phi, Lambda[3], alpha[3], theta)[1]\n",
    "\n",
    "orig_fn_val = sum(err_orig + smooth_orig + comm_orig)\n",
    "print('Function value of original signal: {:.1e}'.format(orig_fn_val))"
   ]
  },
  {
   "cell_type": "code",
   "execution_count": null,
   "metadata": {},
   "outputs": [
    {
     "name": "stdout",
     "output_type": "stream",
     "text": [
      "Function value of the output signal: 1.4e+01\n"
     ]
    }
   ],
   "source": [
    "# Function value for learned L\n",
    "L_rep = [L for i in range(n)]\n",
    "err_l = fn_val_L(L, Y, Lx, G_var, Lambda[:2], alpha[:2])[1]\n",
    "smooth_l = fn_val_G(L_rep, L, Phi, Lambda[0], alpha[0], gamma)[1]\n",
    "l_sigma = [t2m(L,i)@t2m(L,i).transpose() for i in range(n)]\n",
    "comm_l = fnval_Sigma(l_sigma, Lx, X, Phi, Lambda[3], alpha[3], theta)[1]\n",
    "\n",
    "l_fn_val = sum(err_l + smooth_l + comm_l)\n",
    "print('Function value of the output signal: {:.1e}'.format(l_fn_val))"
   ]
  },
  {
   "cell_type": "code",
   "execution_count": null,
   "metadata": {},
   "outputs": [
    {
     "name": "stdout",
     "output_type": "stream",
     "text": [
      "18.262814314062922\n",
      "1.8565160491866954\n"
     ]
    }
   ],
   "source": [
    "print(err_orig)\n",
    "print(err_l)"
   ]
  },
  {
   "cell_type": "code",
   "execution_count": null,
   "metadata": {},
   "outputs": [
    {
     "name": "stdout",
     "output_type": "stream",
     "text": [
      "5.027553023943694\n",
      "6.346700582559795\n"
     ]
    }
   ],
   "source": [
    "print(sum(smooth_orig))\n",
    "print(sum(smooth_l))"
   ]
  },
  {
   "cell_type": "code",
   "execution_count": null,
   "metadata": {},
   "outputs": [
    {
     "name": "stdout",
     "output_type": "stream",
     "text": [
      "0.051599458475432965\n",
      "0.039576331490876034\n"
     ]
    }
   ],
   "source": [
    "print(sum(comm_orig))\n",
    "print(sum(comm_l))"
   ]
  },
  {
   "cell_type": "code",
   "execution_count": null,
   "metadata": {},
   "outputs": [],
   "source": [
    "# Ymat = t2m(Y.data, 0)\n",
    "# cov = Ymat@Ymat.transpose()\n",
    "\n",
    "# fig, ax = plt.subplots(figsize = (15,15))\n",
    "# im = ax.imshow(cov)\n",
    "\n",
    "# for i in range(cov.shape[0]):\n",
    "#     for j in range(cov.shape[1]):\n",
    "#         text = ax.text(j, i, np.round(np.log10(cov[i, j]), 2) ,\n",
    "#                        ha=\"center\", va=\"center\", color=\"w\")"
   ]
  },
  {
   "cell_type": "code",
   "execution_count": null,
   "metadata": {},
   "outputs": [],
   "source": [
    "import project_path\n",
    "from util.syn_exps import grid_search\n",
    "import numpy as np\n",
    "import matplotlib.pyplot as plt"
   ]
  },
  {
   "cell_type": "code",
   "execution_count": null,
   "metadata": {},
   "outputs": [],
   "source": [
    "class param():\n",
    "    def __init__(self, size_list, d_list):\n",
    "        self.d_list = d_list\n",
    "        self.size_list = size_list"
   ]
  },
  {
   "cell_type": "code",
   "execution_count": null,
   "metadata": {},
   "outputs": [],
   "source": [
    "n_levels = np.arange(-5,20)\n",
    "d_levels = [1.3]\n",
    "sizes = [(10,10,10,10)]\n",
    "params = param(sizes, d_levels)\n",
    "stat_vals, comm_vals = grid_search(n_levels, params)"
   ]
  },
  {
   "cell_type": "code",
   "execution_count": null,
   "metadata": {},
   "outputs": [
    {
     "data": {
      "text/plain": [
       "<StemContainer object of 3 artists>"
      ]
     },
     "execution_count": 4,
     "metadata": {},
     "output_type": "execute_result"
    },
    {
     "data": {
      "image/png": "[encoded data removed]",
      "text/plain": [
       "<Figure size 432x288 with 1 Axes>"
      ]
     },
     "metadata": {
      "needs_background": "light"
     },
     "output_type": "display_data"
    }
   ],
   "source": [
    "plt.stem(n_levels, np.sum(stat_vals, 3).squeeze())"
   ]
  },
  {
   "cell_type": "code",
   "execution_count": null,
   "metadata": {},
   "outputs": [
    {
     "data": {
      "text/plain": [
       "<StemContainer object of 3 artists>"
      ]
     },
     "execution_count": 5,
     "metadata": {},
     "output_type": "execute_result"
    },
    {
     "data": {
      "image/png": "[encoded data removed]",
      "text/plain": [
       "<Figure size 432x288 with 1 Axes>"
      ]
     },
     "metadata": {
      "needs_background": "light"
     },
     "output_type": "display_data"
    }
   ],
   "source": [
    "plt.stem(n_levels, np.sum(comm_vals, 3).squeeze())"
   ]
  },
  {
   "cell_type": "code",
   "execution_count": null,
   "metadata": {},
   "outputs": [
    {
     "data": {
      "text/plain": [
       "<StemContainer object of 3 artists>"
      ]
     },
     "execution_count": 25,
     "metadata": {},
     "output_type": "execute_result"
    },
    {
     "data": {
      "image/png": "[encoded data removed]",
      "text/plain": [
       "<Figure size 432x288 with 1 Axes>"
      ]
     },
     "metadata": {
      "needs_background": "light"
     },
     "output_type": "display_data"
    }
   ],
   "source": [
    "plt.stem(d_levels, np.sum(stat_vals, 3).squeeze())"
   ]
  },
  {
   "cell_type": "code",
   "execution_count": null,
   "metadata": {},
   "outputs": [
    {
     "data": {
      "text/plain": [
       "<StemContainer object of 3 artists>"
      ]
     },
     "execution_count": 29,
     "metadata": {},
     "output_type": "execute_result"
    },
    {
     "data": {
      "image/png": "[encoded data removed]",
      "text/plain": [
       "<Figure size 432x288 with 1 Axes>"
      ]
     },
     "metadata": {
      "needs_background": "light"
     },
     "output_type": "display_data"
    }
   ],
   "source": [
    "plt.stem(d_levels, np.sqrt(np.sqrt(np.sum(comm_vals, 3).squeeze())))"
   ]
  },
  {
   "cell_type": "code",
   "execution_count": null,
   "metadata": {},
   "outputs": [
    {
     "data": {
      "text/plain": [
       "<StemContainer object of 3 artists>"
      ]
     },
     "execution_count": 15,
     "metadata": {},
     "output_type": "execute_result"
    },
    {
     "data": {
      "image/png": "[encoded data removed]",
      "text/plain": [
       "<Figure size 432x288 with 1 Axes>"
      ]
     },
     "metadata": {
      "needs_background": "light"
     },
     "output_type": "display_data"
    }
   ],
   "source": [
    "plt.stem([10,15,20,25,30], np.sqrt(np.sum(stat_vals, 3).squeeze()))"
   ]
  },
  {
   "cell_type": "code",
   "execution_count": null,
   "metadata": {},
   "outputs": [
    {
     "data": {
      "text/plain": [
       "<StemContainer object of 3 artists>"
      ]
     },
     "execution_count": 18,
     "metadata": {},
     "output_type": "execute_result"
    },
    {
     "data": {
      "image/png": "[encoded data removed]",
      "text/plain": [
       "<Figure size 432x288 with 1 Axes>"
      ]
     },
     "metadata": {
      "needs_background": "light"
     },
     "output_type": "display_data"
    }
   ],
   "source": [
    "plt.stem([10,15,20,25,30], np.sqrt(np.sqrt(np.sum(comm_vals, 3).squeeze())))"
   ]
  },
  {
   "cell_type": "code",
   "execution_count": null,
   "metadata": {},
   "outputs": [],
   "source": []
  }
 ],
 "metadata": {
  "interpreter": {
   "hash": "a31061215d61cc9664fbbf891d1f871c44572af5775a986a0146f7ff7de68731"
  },
  "kernelspec": {
   "display_name": "Python 3.9.7 64-bit ('base': conda)",
   "language": "python",
   "name": "python3"
  },
  "language_info": {
   "codemirror_mode": {
    "name": "ipython",
    "version": 3
   },
   "file_extension": ".py",
   "mimetype": "text/x-python",
   "name": "python",
   "nbconvert_exporter": "python",
   "pygments_lexer": "ipython3",
   "version": "3.9.7"
  },
  "orig_nbformat": 4
 },
 "nbformat": 4,
 "nbformat_minor": 2
}
