{
 "cells": [
  {
   "cell_type": "markdown",
   "metadata": {},
   "source": [
    "# Higher Order Robust PCA\n",
    "---\n",
    "\n",
    "This notebook includes some tutorials on how to run `horpca` algorithm."
   ]
  },
  {
   "cell_type": "code",
   "execution_count": 1,
   "metadata": {},
   "outputs": [],
   "source": [
    "import numpy as np\n",
    "from numpy.linalg import norm\n",
    "import matplotlib.pyplot as plt\n",
    "from scipy.io import savemat, loadmat\n",
    "from sklearn.neighbors import kneighbors_graph\n",
    "from omegaconf import OmegaConf\n",
    "import os\n",
    "\n",
    "import project_path\n",
    "\n",
    "from util.horpca import horpca\n",
    "from util.generate_data import generate_low_rank_data\n",
    "from util.contaminate_data import contaminate_signal"
   ]
  },
  {
   "cell_type": "markdown",
   "metadata": {},
   "source": [
    "#### Generate data\n",
    "\n",
    "First, we generate low rank data with given size and rank, and then contaminate this with noise. Also, we mask some percentage of entries as unobserved, or missing."
   ]
  },
  {
   "cell_type": "code",
   "execution_count": 2,
   "metadata": {},
   "outputs": [],
   "source": [
    "sizes = [50,50,20]\n",
    "ranks = [5,5,5]\n",
    "n = len(sizes)\n",
    "X = generate_low_rank_data([50,50,20], [5,5,5])"
   ]
  },
  {
   "cell_type": "code",
   "execution_count": 17,
   "metadata": {},
   "outputs": [],
   "source": [
    "# Contaminate data.\n",
    "Y = contaminate_signal(X, noise_rate=0.2, noise_type='gross', missing_ratio=0.01)\n"
   ]
  },
  {
   "cell_type": "markdown",
   "metadata": {},
   "source": [
    "#### The Algorithm\n",
    "\n",
    "Then, we run our algorithm to estimate the original signal."
   ]
  },
  {
   "cell_type": "code",
   "execution_count": 53,
   "metadata": {},
   "outputs": [
    {
     "name": "stdout",
     "output_type": "stream",
     "text": [
      "Max Iter\n"
     ]
    }
   ],
   "source": [
    "alpha = [10**-2 for i in range(n)]\n",
    "psi = [1 for _ in range(n)]\n",
    "\n",
    "L, obj_val, terms, lam_val = horpca(\n",
    "    Y,\n",
    "    alpha = alpha,\n",
    "    psi=psi,\n",
    "    beta=1/np.sqrt(max(sizes)),\n",
    "    max_iter=500,\n",
    "    err_tol=1e-7,\n",
    "    verbose=True\n",
    "    )"
   ]
  },
  {
   "cell_type": "markdown",
   "metadata": {},
   "source": [
    "Let's plot the convergence curve. We use the norm of the dual variable for this. One can also plot the objective value."
   ]
  },
  {
   "cell_type": "code",
   "execution_count": 54,
   "metadata": {},
   "outputs": [
    {
     "data": {
      "text/plain": [
       "[<matplotlib.lines.Line2D at 0x2a56c565460>]"
      ]
     },
     "execution_count": 54,
     "metadata": {},
     "output_type": "execute_result"
    },
    {
     "data": {
      "image/png": "[encoded data removed]",
      "text/plain": [
       "<Figure size 432x288 with 1 Axes>"
      ]
     },
     "metadata": {
      "needs_background": "light"
     },
     "output_type": "display_data"
    }
   ],
   "source": [
    "plt.semilogy(lam_val)"
   ]
  },
  {
   "cell_type": "markdown",
   "metadata": {},
   "source": [
    "## Examine Results\n",
    "Let's see how our algorithm performed. Starting with normalized error from the original signal."
   ]
  },
  {
   "cell_type": "code",
   "execution_count": 55,
   "metadata": {},
   "outputs": [
    {
     "name": "stdout",
     "output_type": "stream",
     "text": [
      "Normalized error of the output: 0.04\n",
      "Normalized error of the input: 2.26\n"
     ]
    }
   ],
   "source": [
    "print('Normalized error of the output: {:.2f}'.format(norm(X-L)/norm(X)))\n",
    "res = X-Y\n",
    "print('Normalized error of the input: {:.2f}'.format(norm(res.data)/norm(X)))\n"
   ]
  },
  {
   "cell_type": "code",
   "execution_count": null,
   "metadata": {},
   "outputs": [],
   "source": []
  }
 ],
 "metadata": {
  "interpreter": {
   "hash": "a31061215d61cc9664fbbf891d1f871c44572af5775a986a0146f7ff7de68731"
  },
  "kernelspec": {
   "display_name": "Python 3.9.7 64-bit ('base': conda)",
   "language": "python",
   "name": "python3"
  },
  "language_info": {
   "codemirror_mode": {
    "name": "ipython",
    "version": 3
   },
   "file_extension": ".py",
   "mimetype": "text/x-python",
   "name": "python",
   "nbconvert_exporter": "python",
   "pygments_lexer": "ipython3",
   "version": "3.9.7"
  },
  "orig_nbformat": 4
 },
 "nbformat": 4,
 "nbformat_minor": 2
}
